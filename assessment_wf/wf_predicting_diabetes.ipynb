{
 "cells": [
  {
   "cell_type": "markdown",
   "metadata": {
    "id": "e42DuXmZ7bPO"
   },
   "source": [
    "# Predicting Diabetes"
   ]
  },
  {
   "cell_type": "markdown",
   "metadata": {
    "id": "yjnu9VTC7bPP"
   },
   "source": [
    "# Problem Statement\n",
    "----\n",
    "\n",
    "### Objective:\n",
    "---\n",
    "    You are tasked with developing a predictive model to predict the quantitative measure of disease progression one year after baseline by using the dataset from sklearn package. The goal is to build and evaluate a model that accurately predicts the progression by answering certain questions asked.\n",
    "\n",
    "### Dataset:\n",
    "---\n",
    "\tThe dataset has 10 baseline variables, age, sex, body mass index, average blood pressure, and six blood serum measurements were obtained for each of n = 442 diabetes patients, as well as the response of interest, a quantitative measure of disease progression one year after baseline.\n",
    "\n",
    "    Note : You can load the diabetes dataset from  “sklearn.datasets“ package using “load_diabetes()”.\n",
    "\n",
    "### Questions:\n",
    "----\n",
    "\n",
    "    Q1: Write the code for below sub-questions\n",
    "    -\tGenerate last 3 rows of dataset?\n",
    "    -\tPrint First, second and last row in the Dataframe\n",
    "    -\tPrint the 2 rows just before the last 3 rows in the Dataframe\n",
    "    -\tSummarize the data as an analyst\n",
    "    Q2:  Subset the above DataFrame for age>35.\n",
    "    Q3: Find relation between Age, Sex and Target Variable.\n",
    "    Q4: Generate Box plot to detect outliers.\n",
    "    Q5: Split the dataset into training and test sets.\n",
    "    Q6: Train the Model using training dataset.\n",
    "    Q7. Generate Predictions using Test dataset.\n",
    "    Q8: Calculate MSE for the predictions.\n",
    "    Q9: Can you evaluate your models?\n",
    "    Q10: Which model would you suggest?\n",
    "    Q11: What would be your model monitoring strategy, which key performance statistical metrics you will consider while looking at model performance?\n"
   ]
  },
  {
   "cell_type": "markdown",
   "metadata": {
    "id": "PU4agPna7bPQ"
   },
   "source": [
    "### Installing Required Libraries\n",
    "----"
   ]
  },
  {
   "cell_type": "code",
   "execution_count": 4,
   "metadata": {
    "colab": {
     "base_uri": "https://localhost:8080/"
    },
    "id": "FtiXkXNz7bPQ",
    "outputId": "5e37c22d-9d1b-4c04-c3f6-33434953a55e",
    "scrolled": true
   },
   "outputs": [
    {
     "name": "stdout",
     "output_type": "stream",
     "text": [
      "The notebook is running.\n"
     ]
    }
   ],
   "source": [
    "print(f\"The notebook is running.\")"
   ]
  },
  {
   "cell_type": "code",
   "execution_count": 5,
   "metadata": {
    "colab": {
     "base_uri": "https://localhost:8080/"
    },
    "id": "R0EDQUy57bPR",
    "outputId": "fc63b982-3e48-43cd-e19a-04fbc9118c18"
   },
   "outputs": [
    {
     "name": "stdout",
     "output_type": "stream",
     "text": [
      "Note: you may need to restart the kernel to use updated packages.\n"
     ]
    }
   ],
   "source": [
    "%pip install --quiet lightgbm xgboost"
   ]
  },
  {
   "cell_type": "code",
   "execution_count": 6,
   "metadata": {
    "id": "ib9shykP7bPR"
   },
   "outputs": [
    {
     "name": "stdout",
     "output_type": "stream",
     "text": [
      "Note: you may need to restart the kernel to use updated packages.\n",
      "Note: you may need to restart the kernel to use updated packages.\n"
     ]
    }
   ],
   "source": [
    "%pip install --quiet seaborn\n",
    "%pip install --quiet statsmodels"
   ]
  },
  {
   "cell_type": "code",
   "execution_count": 7,
   "metadata": {
    "colab": {
     "base_uri": "https://localhost:8080/"
    },
    "id": "tzWUouU6kz5w",
    "outputId": "dfa51b19-b355-4d0e-8221-e26ab5275d3a"
   },
   "outputs": [
    {
     "name": "stdout",
     "output_type": "stream",
     "text": [
      "Note: you may need to restart the kernel to use updated packages.\n"
     ]
    }
   ],
   "source": [
    "%pip install --quiet sweetviz"
   ]
  },
  {
   "cell_type": "code",
   "execution_count": 8,
   "metadata": {
    "colab": {
     "base_uri": "https://localhost:8080/"
    },
    "id": "Rl9EqAoylT5B",
    "outputId": "f758e4f4-83b3-459d-aa1b-33a8a88ed06e"
   },
   "outputs": [
    {
     "name": "stdout",
     "output_type": "stream",
     "text": [
      "Note: you may need to restart the kernel to use updated packages.\n"
     ]
    }
   ],
   "source": [
    "%pip install --quiet interpret lime"
   ]
  },
  {
   "cell_type": "code",
   "execution_count": 9,
   "metadata": {
    "id": "g-2mGMaOkz5w"
   },
   "outputs": [],
   "source": [
    "#%pip list | grep distutils"
   ]
  },
  {
   "cell_type": "code",
   "execution_count": 10,
   "metadata": {
    "id": "yQeb2hQkkz5x"
   },
   "outputs": [],
   "source": [
    "#%pip install --upgrade pip setuptools"
   ]
  },
  {
   "cell_type": "markdown",
   "metadata": {
    "id": "ilCA6Cvr7bPS"
   },
   "source": [
    "### Loading Required Libraries\n",
    "----"
   ]
  },
  {
   "cell_type": "code",
   "execution_count": 12,
   "metadata": {
    "id": "V6VOiIym7bPS"
   },
   "outputs": [],
   "source": [
    "import os\n",
    "import joblib\n",
    "import time\n",
    "import warnings"
   ]
  },
  {
   "cell_type": "code",
   "execution_count": 13,
   "metadata": {
    "colab": {
     "base_uri": "https://localhost:8080/"
    },
    "id": "Q7sMSYIw7bPS",
    "outputId": "9de136d3-67a7-488d-ff69-d4c35e108551"
   },
   "outputs": [],
   "source": [
    "import numpy as np\n",
    "import pandas as pd"
   ]
  },
  {
   "cell_type": "code",
   "execution_count": 14,
   "metadata": {
    "colab": {
     "base_uri": "https://localhost:8080/"
    },
    "id": "rQZkg4cu7bPS",
    "outputId": "cbfd9bec-04b1-4bff-d319-9b22e742c2fa"
   },
   "outputs": [
    {
     "name": "stdout",
     "output_type": "stream",
     "text": [
      "CPU times: total: 734 ms\n",
      "Wall time: 2.21 s\n"
     ]
    }
   ],
   "source": [
    "%%time\n",
    "# Visualization Libraries\n",
    "import matplotlib.pyplot as plt\n",
    "import seaborn as sns\n",
    "import sweetviz as sv"
   ]
  },
  {
   "cell_type": "code",
   "execution_count": 15,
   "metadata": {
    "colab": {
     "base_uri": "https://localhost:8080/"
    },
    "id": "Lh2cUHTpkz5y",
    "outputId": "3a8e5894-6650-485b-bd5b-ebe8c7abf196"
   },
   "outputs": [
    {
     "name": "stdout",
     "output_type": "stream",
     "text": [
      "CPU times: total: 906 ms\n",
      "Wall time: 3 s\n"
     ]
    }
   ],
   "source": [
    "%%time \n",
    "# Outlier/VIF Calculation\n",
    "from statsmodels.stats.outliers_influence import variance_inflation_factor\n",
    "from statsmodels.tools.tools import add_constant\n",
    "\n",
    "# Model, Metrics and Visualization Libraries\n",
    "from sklearn.datasets import load_diabetes\n",
    "from sklearn.decomposition import PCA\n",
    "from sklearn.ensemble import GradientBoostingRegressor, RandomForestRegressor\n",
    "from sklearn.linear_model import Lasso, LinearRegression, Ridge\n",
    "from sklearn.metrics import mean_squared_error\n",
    "from sklearn.model_selection import cross_val_score, train_test_split\n",
    "from sklearn.neighbors import KNeighborsRegressor\n",
    "from sklearn.neural_network import MLPRegressor\n",
    "from sklearn.pipeline import Pipeline\n",
    "from sklearn.svm import SVR\n",
    "from sklearn.tree import DecisionTreeRegressor, plot_tree\n",
    "import lightgbm as lgb\n",
    "import xgboost as xgb\n",
    "\n",
    "# Interpret ML libraries\n",
    "from interpret import show\n",
    "from interpret.blackbox import LimeTabular, ShapKernel, PartialDependence\n",
    "from interpret.data import ClassHistogram, Marginal\n",
    "from interpret.glassbox import ExplainableBoostingRegressor, RegressionTree\n",
    "from interpret.glassbox import LinearRegression as LinearRegressionGlassbox\n",
    "from interpret.perf import RegressionPerf\n",
    "\n",
    "warnings.filterwarnings(\"ignore\")"
   ]
  },
  {
   "cell_type": "code",
   "execution_count": 16,
   "metadata": {},
   "outputs": [
    {
     "name": "stdout",
     "output_type": "stream",
     "text": [
      "['Solarize_Light2', '_classic_test_patch', '_mpl-gallery', '_mpl-gallery-nogrid', 'bmh', 'classic', 'dark_background', 'fast', 'fivethirtyeight', 'ggplot', 'grayscale', 'seaborn-v0_8', 'seaborn-v0_8-bright', 'seaborn-v0_8-colorblind', 'seaborn-v0_8-dark', 'seaborn-v0_8-dark-palette', 'seaborn-v0_8-darkgrid', 'seaborn-v0_8-deep', 'seaborn-v0_8-muted', 'seaborn-v0_8-notebook', 'seaborn-v0_8-paper', 'seaborn-v0_8-pastel', 'seaborn-v0_8-poster', 'seaborn-v0_8-talk', 'seaborn-v0_8-ticks', 'seaborn-v0_8-white', 'seaborn-v0_8-whitegrid', 'tableau-colorblind10']\n"
     ]
    }
   ],
   "source": [
    "print(plt.style.available)"
   ]
  },
  {
   "cell_type": "code",
   "execution_count": 17,
   "metadata": {
    "colab": {
     "base_uri": "https://localhost:8080/"
    },
    "id": "CL-xpdP2LqhV",
    "outputId": "6a37ac3d-d693-43da-b823-9385bf367cd3"
   },
   "outputs": [
    {
     "name": "stdout",
     "output_type": "stream",
     "text": [
      "Plot style set to 'seaborn-v0_8'\n"
     ]
    }
   ],
   "source": [
    "# Code to set the dynamic plot_stlye\n",
    "# Try to set the desired style, fall back to default if not available\n",
    "def set_plot_style(preferred_style='seaborn-v0_8', fallback_style='default'):\n",
    "    try:\n",
    "        plt.style.use(preferred_style)\n",
    "        print(f\"Plot style set to '{preferred_style}'\")\n",
    "    except ValueError:\n",
    "        plt.style.use(fallback_style)\n",
    "        print(f\"Preferred style '{preferred_style}' not found. Using fallback style '{fallback_style}'\")\n",
    "\n",
    "# Set the plot style\n",
    "set_plot_style(preferred_style='seaborn-v0_8', fallback_style='seaborn')"
   ]
  },
  {
   "cell_type": "code",
   "execution_count": 18,
   "metadata": {
    "id": "n8jzVWrQ7bPS"
   },
   "outputs": [],
   "source": [
    "# Magic variables\n",
    "%matplotlib inline"
   ]
  },
  {
   "cell_type": "markdown",
   "metadata": {},
   "source": [
    "#### Specify constants and variables"
   ]
  },
  {
   "cell_type": "code",
   "execution_count": 20,
   "metadata": {
    "id": "sjOC24br7bPT"
   },
   "outputs": [],
   "source": [
    "# Specify constants and variables\n",
    "\n",
    "# Cross-validation folds\n",
    "CV_FOLDS = 5\n",
    "# Esimators used in the modelling part\n",
    "N_ESTIMATORS = 100\n",
    "# Random_State to get the same outputs/sample everytime\n",
    "RANDOM_STATE = 42\n",
    "\n",
    "# Notebook execution start time (helpful to calculated the elapsed time)\n",
    "nb_start_time = time.time()"
   ]
  },
  {
   "cell_type": "markdown",
   "metadata": {
    "id": "ZTbVM8m07bPT"
   },
   "source": [
    "### Loading the Dataset\n",
    "-----"
   ]
  },
  {
   "cell_type": "code",
   "execution_count": 22,
   "metadata": {
    "colab": {
     "base_uri": "https://localhost:8080/",
     "height": 258
    },
    "id": "2kFMo_y07bPT",
    "outputId": "5452cf96-d424-413e-eaab-b4dab13348b9"
   },
   "outputs": [
    {
     "name": "stdout",
     "output_type": "stream",
     "text": [
      "The dataset contains 442 rows and 11 columns.\n",
      "CPU times: total: 0 ns\n",
      "Wall time: 9.9 ms\n"
     ]
    },
    {
     "data": {
      "text/html": [
       "<div>\n",
       "<style scoped>\n",
       "    .dataframe tbody tr th:only-of-type {\n",
       "        vertical-align: middle;\n",
       "    }\n",
       "\n",
       "    .dataframe tbody tr th {\n",
       "        vertical-align: top;\n",
       "    }\n",
       "\n",
       "    .dataframe thead th {\n",
       "        text-align: right;\n",
       "    }\n",
       "</style>\n",
       "<table border=\"1\" class=\"dataframe\">\n",
       "  <thead>\n",
       "    <tr style=\"text-align: right;\">\n",
       "      <th></th>\n",
       "      <th>age</th>\n",
       "      <th>sex</th>\n",
       "      <th>bmi</th>\n",
       "      <th>bp</th>\n",
       "      <th>s1</th>\n",
       "      <th>s2</th>\n",
       "      <th>s3</th>\n",
       "      <th>s4</th>\n",
       "      <th>s5</th>\n",
       "      <th>s6</th>\n",
       "      <th>target</th>\n",
       "    </tr>\n",
       "  </thead>\n",
       "  <tbody>\n",
       "    <tr>\n",
       "      <th>0</th>\n",
       "      <td>0.038076</td>\n",
       "      <td>0.050680</td>\n",
       "      <td>0.061696</td>\n",
       "      <td>0.021872</td>\n",
       "      <td>-0.044223</td>\n",
       "      <td>-0.034821</td>\n",
       "      <td>-0.043401</td>\n",
       "      <td>-0.002592</td>\n",
       "      <td>0.019907</td>\n",
       "      <td>-0.017646</td>\n",
       "      <td>151.0</td>\n",
       "    </tr>\n",
       "    <tr>\n",
       "      <th>1</th>\n",
       "      <td>-0.001882</td>\n",
       "      <td>-0.044642</td>\n",
       "      <td>-0.051474</td>\n",
       "      <td>-0.026328</td>\n",
       "      <td>-0.008449</td>\n",
       "      <td>-0.019163</td>\n",
       "      <td>0.074412</td>\n",
       "      <td>-0.039493</td>\n",
       "      <td>-0.068332</td>\n",
       "      <td>-0.092204</td>\n",
       "      <td>75.0</td>\n",
       "    </tr>\n",
       "    <tr>\n",
       "      <th>2</th>\n",
       "      <td>0.085299</td>\n",
       "      <td>0.050680</td>\n",
       "      <td>0.044451</td>\n",
       "      <td>-0.005670</td>\n",
       "      <td>-0.045599</td>\n",
       "      <td>-0.034194</td>\n",
       "      <td>-0.032356</td>\n",
       "      <td>-0.002592</td>\n",
       "      <td>0.002861</td>\n",
       "      <td>-0.025930</td>\n",
       "      <td>141.0</td>\n",
       "    </tr>\n",
       "    <tr>\n",
       "      <th>3</th>\n",
       "      <td>-0.089063</td>\n",
       "      <td>-0.044642</td>\n",
       "      <td>-0.011595</td>\n",
       "      <td>-0.036656</td>\n",
       "      <td>0.012191</td>\n",
       "      <td>0.024991</td>\n",
       "      <td>-0.036038</td>\n",
       "      <td>0.034309</td>\n",
       "      <td>0.022688</td>\n",
       "      <td>-0.009362</td>\n",
       "      <td>206.0</td>\n",
       "    </tr>\n",
       "    <tr>\n",
       "      <th>4</th>\n",
       "      <td>0.005383</td>\n",
       "      <td>-0.044642</td>\n",
       "      <td>-0.036385</td>\n",
       "      <td>0.021872</td>\n",
       "      <td>0.003935</td>\n",
       "      <td>0.015596</td>\n",
       "      <td>0.008142</td>\n",
       "      <td>-0.002592</td>\n",
       "      <td>-0.031988</td>\n",
       "      <td>-0.046641</td>\n",
       "      <td>135.0</td>\n",
       "    </tr>\n",
       "  </tbody>\n",
       "</table>\n",
       "</div>"
      ],
      "text/plain": [
       "        age       sex       bmi        bp        s1        s2        s3  \\\n",
       "0  0.038076  0.050680  0.061696  0.021872 -0.044223 -0.034821 -0.043401   \n",
       "1 -0.001882 -0.044642 -0.051474 -0.026328 -0.008449 -0.019163  0.074412   \n",
       "2  0.085299  0.050680  0.044451 -0.005670 -0.045599 -0.034194 -0.032356   \n",
       "3 -0.089063 -0.044642 -0.011595 -0.036656  0.012191  0.024991 -0.036038   \n",
       "4  0.005383 -0.044642 -0.036385  0.021872  0.003935  0.015596  0.008142   \n",
       "\n",
       "         s4        s5        s6  target  \n",
       "0 -0.002592  0.019907 -0.017646   151.0  \n",
       "1 -0.039493 -0.068332 -0.092204    75.0  \n",
       "2 -0.002592  0.002861 -0.025930   141.0  \n",
       "3  0.034309  0.022688 -0.009362   206.0  \n",
       "4 -0.002592 -0.031988 -0.046641   135.0  "
      ]
     },
     "execution_count": 22,
     "metadata": {},
     "output_type": "execute_result"
    }
   ],
   "source": [
    "%%time\n",
    "\n",
    "# Load the Diabetes dataset\n",
    "diabetes = load_diabetes()\n",
    "\n",
    "# Convert to a DataFrame for easy manipulation\n",
    "df = pd.DataFrame(\n",
    "    data=diabetes.data, \n",
    "    columns=diabetes.feature_names\n",
    ")\n",
    "df['target'] = diabetes.target\n",
    "\n",
    "# Shape of the dataframe\n",
    "print(f\"The dataset contains {df.shape[0]} rows and {df.shape[1]} columns.\")\n",
    "\n",
    "# Display the first few rows of the dataset\n",
    "df.head()"
   ]
  },
  {
   "cell_type": "markdown",
   "metadata": {
    "id": "d1DIxiPw7bPT"
   },
   "source": [
    "## Exploratory Data Analysis\n",
    "----"
   ]
  },
  {
   "cell_type": "code",
   "execution_count": 24,
   "metadata": {
    "colab": {
     "base_uri": "https://localhost:8080/"
    },
    "id": "vB-DJH5Z7bPT",
    "outputId": "65481da5-449e-431d-cf3a-9c5dcff43916"
   },
   "outputs": [
    {
     "name": "stdout",
     "output_type": "stream",
     "text": [
      "The count of duplicate rows in the dataset is 0.\n"
     ]
    }
   ],
   "source": [
    "# Calculating the Duplicate rows\n",
    "duplicate_rows = df.duplicated().sum()\n",
    "print(f\"The count of duplicate rows in the dataset is {duplicate_rows}.\")"
   ]
  },
  {
   "cell_type": "code",
   "execution_count": 25,
   "metadata": {
    "colab": {
     "base_uri": "https://localhost:8080/"
    },
    "id": "PFEvyIk87bPT",
    "outputId": "e68866e3-bc5f-4427-b279-36b2ab66e571"
   },
   "outputs": [
    {
     "name": "stdout",
     "output_type": "stream",
     "text": [
      "age has 58 unique values.\n",
      "sex has 2 unique values.\n",
      "bmi has 163 unique values.\n",
      "bp has 100 unique values.\n",
      "s1 has 141 unique values.\n",
      "s2 has 302 unique values.\n",
      "s3 has 63 unique values.\n",
      "s4 has 66 unique values.\n",
      "s5 has 184 unique values.\n",
      "s6 has 56 unique values.\n",
      "target has 214 unique values.\n"
     ]
    }
   ],
   "source": [
    "# Print the number of unqiue values per column\n",
    "for col in df.columns:\n",
    "    print(f\"{col} has {df[col].nunique()} unique values.\")"
   ]
  },
  {
   "cell_type": "code",
   "execution_count": 26,
   "metadata": {
    "colab": {
     "base_uri": "https://localhost:8080/"
    },
    "id": "kpcIEjJe7bPT",
    "outputId": "1efc9322-2720-4df4-b153-00b2aea3d0cc"
   },
   "outputs": [
    {
     "name": "stdout",
     "output_type": "stream",
     "text": [
      "The dataset contains null values for below columns:\n",
      " age       0\n",
      "sex       0\n",
      "bmi       0\n",
      "bp        0\n",
      "s1        0\n",
      "s2        0\n",
      "s3        0\n",
      "s4        0\n",
      "s5        0\n",
      "s6        0\n",
      "target    0\n",
      "dtype: int64\n"
     ]
    }
   ],
   "source": [
    "# Verifying any null values in the dataset\n",
    "null_val = df.isnull().sum()\n",
    "print(f\"The dataset contains null values for below columns:\\n {null_val}\")"
   ]
  },
  {
   "cell_type": "code",
   "execution_count": 27,
   "metadata": {
    "colab": {
     "base_uri": "https://localhost:8080/"
    },
    "id": "OkWzZySw7bPU",
    "outputId": "c6eb2805-3caa-4d33-b359-b94a683f902e",
    "scrolled": true
   },
   "outputs": [
    {
     "name": "stdout",
     "output_type": "stream",
     "text": [
      "<class 'pandas.core.frame.DataFrame'>\n",
      "RangeIndex: 442 entries, 0 to 441\n",
      "Data columns (total 11 columns):\n",
      " #   Column  Non-Null Count  Dtype  \n",
      "---  ------  --------------  -----  \n",
      " 0   age     442 non-null    float64\n",
      " 1   sex     442 non-null    float64\n",
      " 2   bmi     442 non-null    float64\n",
      " 3   bp      442 non-null    float64\n",
      " 4   s1      442 non-null    float64\n",
      " 5   s2      442 non-null    float64\n",
      " 6   s3      442 non-null    float64\n",
      " 7   s4      442 non-null    float64\n",
      " 8   s5      442 non-null    float64\n",
      " 9   s6      442 non-null    float64\n",
      " 10  target  442 non-null    float64\n",
      "dtypes: float64(11)\n",
      "memory usage: 38.1 KB\n"
     ]
    }
   ],
   "source": [
    "# Inferential Stats\n",
    "df.info()"
   ]
  },
  {
   "cell_type": "code",
   "execution_count": 28,
   "metadata": {
    "colab": {
     "base_uri": "https://localhost:8080/",
     "height": 300
    },
    "id": "lrK5_3Z17bPU",
    "outputId": "4b5b28bb-5b7b-4390-bdc2-87001312a7fb"
   },
   "outputs": [
    {
     "data": {
      "text/html": [
       "<div>\n",
       "<style scoped>\n",
       "    .dataframe tbody tr th:only-of-type {\n",
       "        vertical-align: middle;\n",
       "    }\n",
       "\n",
       "    .dataframe tbody tr th {\n",
       "        vertical-align: top;\n",
       "    }\n",
       "\n",
       "    .dataframe thead th {\n",
       "        text-align: right;\n",
       "    }\n",
       "</style>\n",
       "<table border=\"1\" class=\"dataframe\">\n",
       "  <thead>\n",
       "    <tr style=\"text-align: right;\">\n",
       "      <th></th>\n",
       "      <th>age</th>\n",
       "      <th>sex</th>\n",
       "      <th>bmi</th>\n",
       "      <th>bp</th>\n",
       "      <th>s1</th>\n",
       "      <th>s2</th>\n",
       "      <th>s3</th>\n",
       "      <th>s4</th>\n",
       "      <th>s5</th>\n",
       "      <th>s6</th>\n",
       "      <th>target</th>\n",
       "    </tr>\n",
       "  </thead>\n",
       "  <tbody>\n",
       "    <tr>\n",
       "      <th>count</th>\n",
       "      <td>4.420000e+02</td>\n",
       "      <td>4.420000e+02</td>\n",
       "      <td>4.420000e+02</td>\n",
       "      <td>4.420000e+02</td>\n",
       "      <td>4.420000e+02</td>\n",
       "      <td>4.420000e+02</td>\n",
       "      <td>4.420000e+02</td>\n",
       "      <td>4.420000e+02</td>\n",
       "      <td>4.420000e+02</td>\n",
       "      <td>4.420000e+02</td>\n",
       "      <td>442.000000</td>\n",
       "    </tr>\n",
       "    <tr>\n",
       "      <th>mean</th>\n",
       "      <td>-2.511817e-19</td>\n",
       "      <td>1.230790e-17</td>\n",
       "      <td>-2.245564e-16</td>\n",
       "      <td>-4.797570e-17</td>\n",
       "      <td>-1.381499e-17</td>\n",
       "      <td>3.918434e-17</td>\n",
       "      <td>-5.777179e-18</td>\n",
       "      <td>-9.042540e-18</td>\n",
       "      <td>9.293722e-17</td>\n",
       "      <td>1.130318e-17</td>\n",
       "      <td>152.133484</td>\n",
       "    </tr>\n",
       "    <tr>\n",
       "      <th>std</th>\n",
       "      <td>4.761905e-02</td>\n",
       "      <td>4.761905e-02</td>\n",
       "      <td>4.761905e-02</td>\n",
       "      <td>4.761905e-02</td>\n",
       "      <td>4.761905e-02</td>\n",
       "      <td>4.761905e-02</td>\n",
       "      <td>4.761905e-02</td>\n",
       "      <td>4.761905e-02</td>\n",
       "      <td>4.761905e-02</td>\n",
       "      <td>4.761905e-02</td>\n",
       "      <td>77.093005</td>\n",
       "    </tr>\n",
       "    <tr>\n",
       "      <th>min</th>\n",
       "      <td>-1.072256e-01</td>\n",
       "      <td>-4.464164e-02</td>\n",
       "      <td>-9.027530e-02</td>\n",
       "      <td>-1.123988e-01</td>\n",
       "      <td>-1.267807e-01</td>\n",
       "      <td>-1.156131e-01</td>\n",
       "      <td>-1.023071e-01</td>\n",
       "      <td>-7.639450e-02</td>\n",
       "      <td>-1.260971e-01</td>\n",
       "      <td>-1.377672e-01</td>\n",
       "      <td>25.000000</td>\n",
       "    </tr>\n",
       "    <tr>\n",
       "      <th>25%</th>\n",
       "      <td>-3.729927e-02</td>\n",
       "      <td>-4.464164e-02</td>\n",
       "      <td>-3.422907e-02</td>\n",
       "      <td>-3.665608e-02</td>\n",
       "      <td>-3.424784e-02</td>\n",
       "      <td>-3.035840e-02</td>\n",
       "      <td>-3.511716e-02</td>\n",
       "      <td>-3.949338e-02</td>\n",
       "      <td>-3.324559e-02</td>\n",
       "      <td>-3.317903e-02</td>\n",
       "      <td>87.000000</td>\n",
       "    </tr>\n",
       "    <tr>\n",
       "      <th>50%</th>\n",
       "      <td>5.383060e-03</td>\n",
       "      <td>-4.464164e-02</td>\n",
       "      <td>-7.283766e-03</td>\n",
       "      <td>-5.670422e-03</td>\n",
       "      <td>-4.320866e-03</td>\n",
       "      <td>-3.819065e-03</td>\n",
       "      <td>-6.584468e-03</td>\n",
       "      <td>-2.592262e-03</td>\n",
       "      <td>-1.947171e-03</td>\n",
       "      <td>-1.077698e-03</td>\n",
       "      <td>140.500000</td>\n",
       "    </tr>\n",
       "    <tr>\n",
       "      <th>75%</th>\n",
       "      <td>3.807591e-02</td>\n",
       "      <td>5.068012e-02</td>\n",
       "      <td>3.124802e-02</td>\n",
       "      <td>3.564379e-02</td>\n",
       "      <td>2.835801e-02</td>\n",
       "      <td>2.984439e-02</td>\n",
       "      <td>2.931150e-02</td>\n",
       "      <td>3.430886e-02</td>\n",
       "      <td>3.243232e-02</td>\n",
       "      <td>2.791705e-02</td>\n",
       "      <td>211.500000</td>\n",
       "    </tr>\n",
       "    <tr>\n",
       "      <th>max</th>\n",
       "      <td>1.107267e-01</td>\n",
       "      <td>5.068012e-02</td>\n",
       "      <td>1.705552e-01</td>\n",
       "      <td>1.320436e-01</td>\n",
       "      <td>1.539137e-01</td>\n",
       "      <td>1.987880e-01</td>\n",
       "      <td>1.811791e-01</td>\n",
       "      <td>1.852344e-01</td>\n",
       "      <td>1.335973e-01</td>\n",
       "      <td>1.356118e-01</td>\n",
       "      <td>346.000000</td>\n",
       "    </tr>\n",
       "  </tbody>\n",
       "</table>\n",
       "</div>"
      ],
      "text/plain": [
       "                age           sex           bmi            bp            s1  \\\n",
       "count  4.420000e+02  4.420000e+02  4.420000e+02  4.420000e+02  4.420000e+02   \n",
       "mean  -2.511817e-19  1.230790e-17 -2.245564e-16 -4.797570e-17 -1.381499e-17   \n",
       "std    4.761905e-02  4.761905e-02  4.761905e-02  4.761905e-02  4.761905e-02   \n",
       "min   -1.072256e-01 -4.464164e-02 -9.027530e-02 -1.123988e-01 -1.267807e-01   \n",
       "25%   -3.729927e-02 -4.464164e-02 -3.422907e-02 -3.665608e-02 -3.424784e-02   \n",
       "50%    5.383060e-03 -4.464164e-02 -7.283766e-03 -5.670422e-03 -4.320866e-03   \n",
       "75%    3.807591e-02  5.068012e-02  3.124802e-02  3.564379e-02  2.835801e-02   \n",
       "max    1.107267e-01  5.068012e-02  1.705552e-01  1.320436e-01  1.539137e-01   \n",
       "\n",
       "                 s2            s3            s4            s5            s6  \\\n",
       "count  4.420000e+02  4.420000e+02  4.420000e+02  4.420000e+02  4.420000e+02   \n",
       "mean   3.918434e-17 -5.777179e-18 -9.042540e-18  9.293722e-17  1.130318e-17   \n",
       "std    4.761905e-02  4.761905e-02  4.761905e-02  4.761905e-02  4.761905e-02   \n",
       "min   -1.156131e-01 -1.023071e-01 -7.639450e-02 -1.260971e-01 -1.377672e-01   \n",
       "25%   -3.035840e-02 -3.511716e-02 -3.949338e-02 -3.324559e-02 -3.317903e-02   \n",
       "50%   -3.819065e-03 -6.584468e-03 -2.592262e-03 -1.947171e-03 -1.077698e-03   \n",
       "75%    2.984439e-02  2.931150e-02  3.430886e-02  3.243232e-02  2.791705e-02   \n",
       "max    1.987880e-01  1.811791e-01  1.852344e-01  1.335973e-01  1.356118e-01   \n",
       "\n",
       "           target  \n",
       "count  442.000000  \n",
       "mean   152.133484  \n",
       "std     77.093005  \n",
       "min     25.000000  \n",
       "25%     87.000000  \n",
       "50%    140.500000  \n",
       "75%    211.500000  \n",
       "max    346.000000  "
      ]
     },
     "execution_count": 28,
     "metadata": {},
     "output_type": "execute_result"
    }
   ],
   "source": [
    "# Descriptive stats\n",
    "df.describe(include=\"all\")"
   ]
  },
  {
   "cell_type": "code",
   "execution_count": 29,
   "metadata": {
    "colab": {
     "base_uri": "https://localhost:8080/",
     "height": 66,
     "referenced_widgets": [
      "8228de28b97944398951dc93b72c04d6",
      "50c569c285064514afd0a2d41fc646e5",
      "00c3f086158a45feb31a1e4a8996dcaf",
      "adb25667150244a7a97c5d9e42220972",
      "d1697632050840bab67228e25078fceb",
      "d6e7d1c58b3444e0930be3b4700f6efe",
      "97b367c8ccb943fb83371a8e3911eb0f",
      "8637f8a8ced34f91bb079b44fe743118",
      "f9dc8b7f34bb446193ac06a08985743e",
      "b50d4e124a5545a6a327eeef403c821e",
      "bfea0a14666143db933a67f8a64dd2b7"
     ]
    },
    "id": "-eZQZ3_K7bPU",
    "outputId": "b66d0588-222b-448f-f447-17a48aeed8a1"
   },
   "outputs": [
    {
     "data": {
      "application/vnd.jupyter.widget-view+json": {
       "model_id": "65305d5415414021b441e063859b6b30",
       "version_major": 2,
       "version_minor": 0
      },
      "text/plain": [
       "                                             |          | [  0%]   00:00 -> (? left)"
      ]
     },
     "metadata": {},
     "output_type": "display_data"
    },
    {
     "name": "stdout",
     "output_type": "stream",
     "text": [
      "Report sweetviz_report_diabetes_all_data.html was generated! NOTEBOOK/COLAB USERS: the web browser MAY not pop up, regardless, the report IS saved in your notebook/colab files.\n"
     ]
    }
   ],
   "source": [
    "# Generate the sweetviz report on the whole dataset\n",
    "eda_report = sv.analyze(df)\n",
    "# Save the report to an HTML file\n",
    "eda_report.show_html('sweetviz_report_diabetes_all_data.html')"
   ]
  },
  {
   "cell_type": "markdown",
   "metadata": {
    "id": "Hms3UlfF7bPU"
   },
   "source": [
    "### Q1. Write the code for below sub-questions"
   ]
  },
  {
   "cell_type": "markdown",
   "metadata": {
    "id": "3Ejy4Wdi7bPU"
   },
   "source": [
    "#### A. Generate last 3 rows of dataset?"
   ]
  },
  {
   "cell_type": "code",
   "execution_count": 32,
   "metadata": {
    "colab": {
     "base_uri": "https://localhost:8080/",
     "height": 143
    },
    "id": "XEzW-5ZT7bPU",
    "outputId": "89865123-0ad1-4425-932f-05d7caf4336d"
   },
   "outputs": [
    {
     "data": {
      "text/html": [
       "<div>\n",
       "<style scoped>\n",
       "    .dataframe tbody tr th:only-of-type {\n",
       "        vertical-align: middle;\n",
       "    }\n",
       "\n",
       "    .dataframe tbody tr th {\n",
       "        vertical-align: top;\n",
       "    }\n",
       "\n",
       "    .dataframe thead th {\n",
       "        text-align: right;\n",
       "    }\n",
       "</style>\n",
       "<table border=\"1\" class=\"dataframe\">\n",
       "  <thead>\n",
       "    <tr style=\"text-align: right;\">\n",
       "      <th></th>\n",
       "      <th>age</th>\n",
       "      <th>sex</th>\n",
       "      <th>bmi</th>\n",
       "      <th>bp</th>\n",
       "      <th>s1</th>\n",
       "      <th>s2</th>\n",
       "      <th>s3</th>\n",
       "      <th>s4</th>\n",
       "      <th>s5</th>\n",
       "      <th>s6</th>\n",
       "      <th>target</th>\n",
       "    </tr>\n",
       "  </thead>\n",
       "  <tbody>\n",
       "    <tr>\n",
       "      <th>439</th>\n",
       "      <td>0.041708</td>\n",
       "      <td>0.050680</td>\n",
       "      <td>-0.015906</td>\n",
       "      <td>0.017293</td>\n",
       "      <td>-0.037344</td>\n",
       "      <td>-0.013840</td>\n",
       "      <td>-0.024993</td>\n",
       "      <td>-0.011080</td>\n",
       "      <td>-0.046883</td>\n",
       "      <td>0.015491</td>\n",
       "      <td>132.0</td>\n",
       "    </tr>\n",
       "    <tr>\n",
       "      <th>440</th>\n",
       "      <td>-0.045472</td>\n",
       "      <td>-0.044642</td>\n",
       "      <td>0.039062</td>\n",
       "      <td>0.001215</td>\n",
       "      <td>0.016318</td>\n",
       "      <td>0.015283</td>\n",
       "      <td>-0.028674</td>\n",
       "      <td>0.026560</td>\n",
       "      <td>0.044529</td>\n",
       "      <td>-0.025930</td>\n",
       "      <td>220.0</td>\n",
       "    </tr>\n",
       "    <tr>\n",
       "      <th>441</th>\n",
       "      <td>-0.045472</td>\n",
       "      <td>-0.044642</td>\n",
       "      <td>-0.073030</td>\n",
       "      <td>-0.081413</td>\n",
       "      <td>0.083740</td>\n",
       "      <td>0.027809</td>\n",
       "      <td>0.173816</td>\n",
       "      <td>-0.039493</td>\n",
       "      <td>-0.004222</td>\n",
       "      <td>0.003064</td>\n",
       "      <td>57.0</td>\n",
       "    </tr>\n",
       "  </tbody>\n",
       "</table>\n",
       "</div>"
      ],
      "text/plain": [
       "          age       sex       bmi        bp        s1        s2        s3  \\\n",
       "439  0.041708  0.050680 -0.015906  0.017293 -0.037344 -0.013840 -0.024993   \n",
       "440 -0.045472 -0.044642  0.039062  0.001215  0.016318  0.015283 -0.028674   \n",
       "441 -0.045472 -0.044642 -0.073030 -0.081413  0.083740  0.027809  0.173816   \n",
       "\n",
       "           s4        s5        s6  target  \n",
       "439 -0.011080 -0.046883  0.015491   132.0  \n",
       "440  0.026560  0.044529 -0.025930   220.0  \n",
       "441 -0.039493 -0.004222  0.003064    57.0  "
      ]
     },
     "execution_count": 32,
     "metadata": {},
     "output_type": "execute_result"
    }
   ],
   "source": [
    "last_three_rows = df.tail(3)\n",
    "last_three_rows"
   ]
  },
  {
   "cell_type": "markdown",
   "metadata": {
    "id": "-mMGxia87bPU"
   },
   "source": [
    "#### B. Print First, second, and last row in the DataFrame"
   ]
  },
  {
   "cell_type": "code",
   "execution_count": 34,
   "metadata": {
    "colab": {
     "base_uri": "https://localhost:8080/"
    },
    "id": "7RtK8BqJ_iVY",
    "outputId": "cfe077d6-cb40-4929-f8e4-3104f0202a98"
   },
   "outputs": [
    {
     "name": "stdout",
     "output_type": "stream",
     "text": [
      "First row:\n",
      "        age      sex       bmi        bp        s1        s2        s3  \\\n",
      "0  0.038076  0.05068  0.061696  0.021872 -0.044223 -0.034821 -0.043401   \n",
      "\n",
      "         s4        s5        s6  target  \n",
      "0 -0.002592  0.019907 -0.017646   151.0  \n"
     ]
    }
   ],
   "source": [
    "# Print the first row\n",
    "print(\"First row:\")\n",
    "print(df.head(1))"
   ]
  },
  {
   "cell_type": "code",
   "execution_count": 35,
   "metadata": {
    "colab": {
     "base_uri": "https://localhost:8080/"
    },
    "id": "08nuMaYfAmti",
    "outputId": "90d4a265-533f-437e-f0f0-34c1a1669ad4"
   },
   "outputs": [
    {
     "name": "stdout",
     "output_type": "stream",
     "text": [
      "Second row:\n",
      "        age       sex       bmi        bp        s1        s2        s3  \\\n",
      "1 -0.001882 -0.044642 -0.051474 -0.026328 -0.008449 -0.019163  0.074412   \n",
      "\n",
      "         s4        s5        s6  target  \n",
      "1 -0.039493 -0.068332 -0.092204    75.0  \n"
     ]
    }
   ],
   "source": [
    "# Print the second row\n",
    "print(\"Second row:\")\n",
    "print(df.iloc[1:2])  # Use iloc to access a single row slice"
   ]
  },
  {
   "cell_type": "code",
   "execution_count": 36,
   "metadata": {
    "colab": {
     "base_uri": "https://localhost:8080/"
    },
    "id": "ZXEAhztMA7_L",
    "outputId": "83fe10fa-5bf5-415f-95c3-4ad2a903b1f9"
   },
   "outputs": [
    {
     "name": "stdout",
     "output_type": "stream",
     "text": [
      "Last row:\n",
      "          age       sex      bmi        bp       s1        s2        s3  \\\n",
      "441 -0.045472 -0.044642 -0.07303 -0.081413  0.08374  0.027809  0.173816   \n",
      "\n",
      "           s4        s5        s6  target  \n",
      "441 -0.039493 -0.004222  0.003064    57.0  \n"
     ]
    }
   ],
   "source": [
    "# Print the last row\n",
    "print(\"Last row:\")\n",
    "print(df.tail(1))"
   ]
  },
  {
   "cell_type": "code",
   "execution_count": 37,
   "metadata": {
    "colab": {
     "base_uri": "https://localhost:8080/"
    },
    "id": "C7xiv_OX7bPU",
    "outputId": "1ad1358f-f098-4822-d317-c82d9782390b"
   },
   "outputs": [
    {
     "data": {
      "text/plain": [
       "(age         0.038076\n",
       " sex         0.050680\n",
       " bmi         0.061696\n",
       " bp          0.021872\n",
       " s1         -0.044223\n",
       " s2         -0.034821\n",
       " s3         -0.043401\n",
       " s4         -0.002592\n",
       " s5          0.019907\n",
       " s6         -0.017646\n",
       " target    151.000000\n",
       " Name: 0, dtype: float64,\n",
       " age       -0.001882\n",
       " sex       -0.044642\n",
       " bmi       -0.051474\n",
       " bp        -0.026328\n",
       " s1        -0.008449\n",
       " s2        -0.019163\n",
       " s3         0.074412\n",
       " s4        -0.039493\n",
       " s5        -0.068332\n",
       " s6        -0.092204\n",
       " target    75.000000\n",
       " Name: 1, dtype: float64,\n",
       " age       -0.045472\n",
       " sex       -0.044642\n",
       " bmi       -0.073030\n",
       " bp        -0.081413\n",
       " s1         0.083740\n",
       " s2         0.027809\n",
       " s3         0.173816\n",
       " s4        -0.039493\n",
       " s5        -0.004222\n",
       " s6         0.003064\n",
       " target    57.000000\n",
       " Name: 441, dtype: float64)"
      ]
     },
     "execution_count": 37,
     "metadata": {},
     "output_type": "execute_result"
    }
   ],
   "source": [
    "# Print the first, second and last row\n",
    "first_row = df.iloc[0]\n",
    "second_row = df.iloc[1]\n",
    "last_row = df.iloc[-1]\n",
    "\n",
    "first_row, second_row, last_row"
   ]
  },
  {
   "cell_type": "code",
   "execution_count": 38,
   "metadata": {
    "colab": {
     "base_uri": "https://localhost:8080/",
     "height": 394
    },
    "id": "-lXx9J59my5I",
    "outputId": "c44ef759-8ebb-4c09-b5ff-86381e96d34c"
   },
   "outputs": [
    {
     "data": {
      "text/html": [
       "<div>\n",
       "<style scoped>\n",
       "    .dataframe tbody tr th:only-of-type {\n",
       "        vertical-align: middle;\n",
       "    }\n",
       "\n",
       "    .dataframe tbody tr th {\n",
       "        vertical-align: top;\n",
       "    }\n",
       "\n",
       "    .dataframe thead th {\n",
       "        text-align: right;\n",
       "    }\n",
       "</style>\n",
       "<table border=\"1\" class=\"dataframe\">\n",
       "  <thead>\n",
       "    <tr style=\"text-align: right;\">\n",
       "      <th></th>\n",
       "      <th>First Row</th>\n",
       "      <th>Second Row</th>\n",
       "      <th>Last Row</th>\n",
       "    </tr>\n",
       "  </thead>\n",
       "  <tbody>\n",
       "    <tr>\n",
       "      <th>age</th>\n",
       "      <td>0.038076</td>\n",
       "      <td>-0.001882</td>\n",
       "      <td>-0.045472</td>\n",
       "    </tr>\n",
       "    <tr>\n",
       "      <th>sex</th>\n",
       "      <td>0.050680</td>\n",
       "      <td>-0.044642</td>\n",
       "      <td>-0.044642</td>\n",
       "    </tr>\n",
       "    <tr>\n",
       "      <th>bmi</th>\n",
       "      <td>0.061696</td>\n",
       "      <td>-0.051474</td>\n",
       "      <td>-0.073030</td>\n",
       "    </tr>\n",
       "    <tr>\n",
       "      <th>bp</th>\n",
       "      <td>0.021872</td>\n",
       "      <td>-0.026328</td>\n",
       "      <td>-0.081413</td>\n",
       "    </tr>\n",
       "    <tr>\n",
       "      <th>s1</th>\n",
       "      <td>-0.044223</td>\n",
       "      <td>-0.008449</td>\n",
       "      <td>0.083740</td>\n",
       "    </tr>\n",
       "    <tr>\n",
       "      <th>s2</th>\n",
       "      <td>-0.034821</td>\n",
       "      <td>-0.019163</td>\n",
       "      <td>0.027809</td>\n",
       "    </tr>\n",
       "    <tr>\n",
       "      <th>s3</th>\n",
       "      <td>-0.043401</td>\n",
       "      <td>0.074412</td>\n",
       "      <td>0.173816</td>\n",
       "    </tr>\n",
       "    <tr>\n",
       "      <th>s4</th>\n",
       "      <td>-0.002592</td>\n",
       "      <td>-0.039493</td>\n",
       "      <td>-0.039493</td>\n",
       "    </tr>\n",
       "    <tr>\n",
       "      <th>s5</th>\n",
       "      <td>0.019907</td>\n",
       "      <td>-0.068332</td>\n",
       "      <td>-0.004222</td>\n",
       "    </tr>\n",
       "    <tr>\n",
       "      <th>s6</th>\n",
       "      <td>-0.017646</td>\n",
       "      <td>-0.092204</td>\n",
       "      <td>0.003064</td>\n",
       "    </tr>\n",
       "    <tr>\n",
       "      <th>target</th>\n",
       "      <td>151.000000</td>\n",
       "      <td>75.000000</td>\n",
       "      <td>57.000000</td>\n",
       "    </tr>\n",
       "  </tbody>\n",
       "</table>\n",
       "</div>"
      ],
      "text/plain": [
       "         First Row  Second Row   Last Row\n",
       "age       0.038076   -0.001882  -0.045472\n",
       "sex       0.050680   -0.044642  -0.044642\n",
       "bmi       0.061696   -0.051474  -0.073030\n",
       "bp        0.021872   -0.026328  -0.081413\n",
       "s1       -0.044223   -0.008449   0.083740\n",
       "s2       -0.034821   -0.019163   0.027809\n",
       "s3       -0.043401    0.074412   0.173816\n",
       "s4       -0.002592   -0.039493  -0.039493\n",
       "s5        0.019907   -0.068332  -0.004222\n",
       "s6       -0.017646   -0.092204   0.003064\n",
       "target  151.000000   75.000000  57.000000"
      ]
     },
     "execution_count": 38,
     "metadata": {},
     "output_type": "execute_result"
    }
   ],
   "source": [
    "# Create a new DataFrame with these rows\n",
    "selected_rows_df = pd.DataFrame(\n",
    "    [first_row, second_row, last_row],\n",
    "    index=['First Row', 'Second Row', 'Last Row']\n",
    ")\n",
    "\n",
    "# Transpose the DataFrame\n",
    "transposed_df = selected_rows_df.T\n",
    "\n",
    "# Display the transposed DataFrame\n",
    "transposed_df"
   ]
  },
  {
   "cell_type": "markdown",
   "metadata": {
    "id": "LaAeXbxt7bPU"
   },
   "source": [
    "#### C. Print the 2 rows just before the last 3 rows in the DataFrame"
   ]
  },
  {
   "cell_type": "code",
   "execution_count": 40,
   "metadata": {
    "colab": {
     "base_uri": "https://localhost:8080/",
     "height": 125
    },
    "id": "qo108XK47bPU",
    "outputId": "78e3448f-9b9c-4f93-d443-e75e04a6e910"
   },
   "outputs": [
    {
     "data": {
      "text/html": [
       "<div>\n",
       "<style scoped>\n",
       "    .dataframe tbody tr th:only-of-type {\n",
       "        vertical-align: middle;\n",
       "    }\n",
       "\n",
       "    .dataframe tbody tr th {\n",
       "        vertical-align: top;\n",
       "    }\n",
       "\n",
       "    .dataframe thead th {\n",
       "        text-align: right;\n",
       "    }\n",
       "</style>\n",
       "<table border=\"1\" class=\"dataframe\">\n",
       "  <thead>\n",
       "    <tr style=\"text-align: right;\">\n",
       "      <th></th>\n",
       "      <th>age</th>\n",
       "      <th>sex</th>\n",
       "      <th>bmi</th>\n",
       "      <th>bp</th>\n",
       "      <th>s1</th>\n",
       "      <th>s2</th>\n",
       "      <th>s3</th>\n",
       "      <th>s4</th>\n",
       "      <th>s5</th>\n",
       "      <th>s6</th>\n",
       "      <th>target</th>\n",
       "    </tr>\n",
       "  </thead>\n",
       "  <tbody>\n",
       "    <tr>\n",
       "      <th>437</th>\n",
       "      <td>0.041708</td>\n",
       "      <td>0.05068</td>\n",
       "      <td>0.019662</td>\n",
       "      <td>0.059744</td>\n",
       "      <td>-0.005697</td>\n",
       "      <td>-0.002566</td>\n",
       "      <td>-0.028674</td>\n",
       "      <td>-0.002592</td>\n",
       "      <td>0.031193</td>\n",
       "      <td>0.007207</td>\n",
       "      <td>178.0</td>\n",
       "    </tr>\n",
       "    <tr>\n",
       "      <th>438</th>\n",
       "      <td>-0.005515</td>\n",
       "      <td>0.05068</td>\n",
       "      <td>-0.015906</td>\n",
       "      <td>-0.067642</td>\n",
       "      <td>0.049341</td>\n",
       "      <td>0.079165</td>\n",
       "      <td>-0.028674</td>\n",
       "      <td>0.034309</td>\n",
       "      <td>-0.018114</td>\n",
       "      <td>0.044485</td>\n",
       "      <td>104.0</td>\n",
       "    </tr>\n",
       "  </tbody>\n",
       "</table>\n",
       "</div>"
      ],
      "text/plain": [
       "          age      sex       bmi        bp        s1        s2        s3  \\\n",
       "437  0.041708  0.05068  0.019662  0.059744 -0.005697 -0.002566 -0.028674   \n",
       "438 -0.005515  0.05068 -0.015906 -0.067642  0.049341  0.079165 -0.028674   \n",
       "\n",
       "           s4        s5        s6  target  \n",
       "437 -0.002592  0.031193  0.007207   178.0  \n",
       "438  0.034309 -0.018114  0.044485   104.0  "
      ]
     },
     "execution_count": 40,
     "metadata": {},
     "output_type": "execute_result"
    }
   ],
   "source": [
    "# Print  the 2 rows just before the last 3 rows in the DataFrame\n",
    "rows_before_last_three = df.iloc[-5:-3]\n",
    "rows_before_last_three"
   ]
  },
  {
   "cell_type": "markdown",
   "metadata": {
    "id": "JeZQhGs97bPU"
   },
   "source": [
    "#### D. Summarize the Data as an Analyst"
   ]
  },
  {
   "cell_type": "code",
   "execution_count": 42,
   "metadata": {
    "colab": {
     "base_uri": "https://localhost:8080/",
     "height": 300
    },
    "id": "x_-Cyw4T7bPV",
    "outputId": "c55e68bf-5afe-4d66-f4b6-9ee197bb3cff"
   },
   "outputs": [
    {
     "data": {
      "text/html": [
       "<div>\n",
       "<style scoped>\n",
       "    .dataframe tbody tr th:only-of-type {\n",
       "        vertical-align: middle;\n",
       "    }\n",
       "\n",
       "    .dataframe tbody tr th {\n",
       "        vertical-align: top;\n",
       "    }\n",
       "\n",
       "    .dataframe thead th {\n",
       "        text-align: right;\n",
       "    }\n",
       "</style>\n",
       "<table border=\"1\" class=\"dataframe\">\n",
       "  <thead>\n",
       "    <tr style=\"text-align: right;\">\n",
       "      <th></th>\n",
       "      <th>age</th>\n",
       "      <th>sex</th>\n",
       "      <th>bmi</th>\n",
       "      <th>bp</th>\n",
       "      <th>s1</th>\n",
       "      <th>s2</th>\n",
       "      <th>s3</th>\n",
       "      <th>s4</th>\n",
       "      <th>s5</th>\n",
       "      <th>s6</th>\n",
       "      <th>target</th>\n",
       "    </tr>\n",
       "  </thead>\n",
       "  <tbody>\n",
       "    <tr>\n",
       "      <th>count</th>\n",
       "      <td>4.420000e+02</td>\n",
       "      <td>4.420000e+02</td>\n",
       "      <td>4.420000e+02</td>\n",
       "      <td>4.420000e+02</td>\n",
       "      <td>4.420000e+02</td>\n",
       "      <td>4.420000e+02</td>\n",
       "      <td>4.420000e+02</td>\n",
       "      <td>4.420000e+02</td>\n",
       "      <td>4.420000e+02</td>\n",
       "      <td>4.420000e+02</td>\n",
       "      <td>442.000000</td>\n",
       "    </tr>\n",
       "    <tr>\n",
       "      <th>mean</th>\n",
       "      <td>-2.511817e-19</td>\n",
       "      <td>1.230790e-17</td>\n",
       "      <td>-2.245564e-16</td>\n",
       "      <td>-4.797570e-17</td>\n",
       "      <td>-1.381499e-17</td>\n",
       "      <td>3.918434e-17</td>\n",
       "      <td>-5.777179e-18</td>\n",
       "      <td>-9.042540e-18</td>\n",
       "      <td>9.293722e-17</td>\n",
       "      <td>1.130318e-17</td>\n",
       "      <td>152.133484</td>\n",
       "    </tr>\n",
       "    <tr>\n",
       "      <th>std</th>\n",
       "      <td>4.761905e-02</td>\n",
       "      <td>4.761905e-02</td>\n",
       "      <td>4.761905e-02</td>\n",
       "      <td>4.761905e-02</td>\n",
       "      <td>4.761905e-02</td>\n",
       "      <td>4.761905e-02</td>\n",
       "      <td>4.761905e-02</td>\n",
       "      <td>4.761905e-02</td>\n",
       "      <td>4.761905e-02</td>\n",
       "      <td>4.761905e-02</td>\n",
       "      <td>77.093005</td>\n",
       "    </tr>\n",
       "    <tr>\n",
       "      <th>min</th>\n",
       "      <td>-1.072256e-01</td>\n",
       "      <td>-4.464164e-02</td>\n",
       "      <td>-9.027530e-02</td>\n",
       "      <td>-1.123988e-01</td>\n",
       "      <td>-1.267807e-01</td>\n",
       "      <td>-1.156131e-01</td>\n",
       "      <td>-1.023071e-01</td>\n",
       "      <td>-7.639450e-02</td>\n",
       "      <td>-1.260971e-01</td>\n",
       "      <td>-1.377672e-01</td>\n",
       "      <td>25.000000</td>\n",
       "    </tr>\n",
       "    <tr>\n",
       "      <th>25%</th>\n",
       "      <td>-3.729927e-02</td>\n",
       "      <td>-4.464164e-02</td>\n",
       "      <td>-3.422907e-02</td>\n",
       "      <td>-3.665608e-02</td>\n",
       "      <td>-3.424784e-02</td>\n",
       "      <td>-3.035840e-02</td>\n",
       "      <td>-3.511716e-02</td>\n",
       "      <td>-3.949338e-02</td>\n",
       "      <td>-3.324559e-02</td>\n",
       "      <td>-3.317903e-02</td>\n",
       "      <td>87.000000</td>\n",
       "    </tr>\n",
       "    <tr>\n",
       "      <th>50%</th>\n",
       "      <td>5.383060e-03</td>\n",
       "      <td>-4.464164e-02</td>\n",
       "      <td>-7.283766e-03</td>\n",
       "      <td>-5.670422e-03</td>\n",
       "      <td>-4.320866e-03</td>\n",
       "      <td>-3.819065e-03</td>\n",
       "      <td>-6.584468e-03</td>\n",
       "      <td>-2.592262e-03</td>\n",
       "      <td>-1.947171e-03</td>\n",
       "      <td>-1.077698e-03</td>\n",
       "      <td>140.500000</td>\n",
       "    </tr>\n",
       "    <tr>\n",
       "      <th>75%</th>\n",
       "      <td>3.807591e-02</td>\n",
       "      <td>5.068012e-02</td>\n",
       "      <td>3.124802e-02</td>\n",
       "      <td>3.564379e-02</td>\n",
       "      <td>2.835801e-02</td>\n",
       "      <td>2.984439e-02</td>\n",
       "      <td>2.931150e-02</td>\n",
       "      <td>3.430886e-02</td>\n",
       "      <td>3.243232e-02</td>\n",
       "      <td>2.791705e-02</td>\n",
       "      <td>211.500000</td>\n",
       "    </tr>\n",
       "    <tr>\n",
       "      <th>max</th>\n",
       "      <td>1.107267e-01</td>\n",
       "      <td>5.068012e-02</td>\n",
       "      <td>1.705552e-01</td>\n",
       "      <td>1.320436e-01</td>\n",
       "      <td>1.539137e-01</td>\n",
       "      <td>1.987880e-01</td>\n",
       "      <td>1.811791e-01</td>\n",
       "      <td>1.852344e-01</td>\n",
       "      <td>1.335973e-01</td>\n",
       "      <td>1.356118e-01</td>\n",
       "      <td>346.000000</td>\n",
       "    </tr>\n",
       "  </tbody>\n",
       "</table>\n",
       "</div>"
      ],
      "text/plain": [
       "                age           sex           bmi            bp            s1  \\\n",
       "count  4.420000e+02  4.420000e+02  4.420000e+02  4.420000e+02  4.420000e+02   \n",
       "mean  -2.511817e-19  1.230790e-17 -2.245564e-16 -4.797570e-17 -1.381499e-17   \n",
       "std    4.761905e-02  4.761905e-02  4.761905e-02  4.761905e-02  4.761905e-02   \n",
       "min   -1.072256e-01 -4.464164e-02 -9.027530e-02 -1.123988e-01 -1.267807e-01   \n",
       "25%   -3.729927e-02 -4.464164e-02 -3.422907e-02 -3.665608e-02 -3.424784e-02   \n",
       "50%    5.383060e-03 -4.464164e-02 -7.283766e-03 -5.670422e-03 -4.320866e-03   \n",
       "75%    3.807591e-02  5.068012e-02  3.124802e-02  3.564379e-02  2.835801e-02   \n",
       "max    1.107267e-01  5.068012e-02  1.705552e-01  1.320436e-01  1.539137e-01   \n",
       "\n",
       "                 s2            s3            s4            s5            s6  \\\n",
       "count  4.420000e+02  4.420000e+02  4.420000e+02  4.420000e+02  4.420000e+02   \n",
       "mean   3.918434e-17 -5.777179e-18 -9.042540e-18  9.293722e-17  1.130318e-17   \n",
       "std    4.761905e-02  4.761905e-02  4.761905e-02  4.761905e-02  4.761905e-02   \n",
       "min   -1.156131e-01 -1.023071e-01 -7.639450e-02 -1.260971e-01 -1.377672e-01   \n",
       "25%   -3.035840e-02 -3.511716e-02 -3.949338e-02 -3.324559e-02 -3.317903e-02   \n",
       "50%   -3.819065e-03 -6.584468e-03 -2.592262e-03 -1.947171e-03 -1.077698e-03   \n",
       "75%    2.984439e-02  2.931150e-02  3.430886e-02  3.243232e-02  2.791705e-02   \n",
       "max    1.987880e-01  1.811791e-01  1.852344e-01  1.335973e-01  1.356118e-01   \n",
       "\n",
       "           target  \n",
       "count  442.000000  \n",
       "mean   152.133484  \n",
       "std     77.093005  \n",
       "min     25.000000  \n",
       "25%     87.000000  \n",
       "50%    140.500000  \n",
       "75%    211.500000  \n",
       "max    346.000000  "
      ]
     },
     "execution_count": 42,
     "metadata": {},
     "output_type": "execute_result"
    }
   ],
   "source": [
    "# Summarize the dataset\n",
    "summary = df.describe(include=\"all\")\n",
    "summary"
   ]
  },
  {
   "cell_type": "markdown",
   "metadata": {
    "id": "0bv7AkyJ7bPV"
   },
   "source": [
    "### Q2: Subset the DataFrame for age > 35"
   ]
  },
  {
   "cell_type": "code",
   "execution_count": 44,
   "metadata": {
    "colab": {
     "base_uri": "https://localhost:8080/"
    },
    "id": "6HgR9F1N7bPV",
    "outputId": "6ec0f609-8ceb-45cb-d45d-3b4b67e77921"
   },
   "outputs": [
    {
     "name": "stdout",
     "output_type": "stream",
     "text": [
      "count    4.420000e+02\n",
      "mean    -2.511817e-19\n",
      "std      4.761905e-02\n",
      "min     -1.072256e-01\n",
      "0%      -1.072256e-01\n",
      "25%     -3.729927e-02\n",
      "50%      5.383060e-03\n",
      "75%      3.807591e-02\n",
      "95%      7.076875e-02\n",
      "99%      9.107464e-02\n",
      "100%     1.107267e-01\n",
      "max      1.107267e-01\n",
      "Name: age, dtype: float64\n"
     ]
    }
   ],
   "source": [
    "# Calculate summary statistics\n",
    "age_summary_stats = df['age'].describe(percentiles=[.0, .25, .5, .75, .95, .99, 1.0])\n",
    "# Print the statistical summaries\n",
    "print(age_summary_stats)"
   ]
  },
  {
   "cell_type": "markdown",
   "metadata": {},
   "source": [
    "sns.distplot(df.age.unique())"
   ]
  },
  {
   "cell_type": "markdown",
   "metadata": {
    "jp-MarkdownHeadingCollapsed": true
   },
   "source": [
    "# bin_laels=\n",
    "# -.2, -.5, .1, .15\n",
    "\n",
    "df.age2 = np.where(\n",
    "    (\n",
    "        (df.age > -.5) & (df.age < -.2)\n",
    "    ), \"Min_Val\", \n",
    "    np.where(\n",
    "        (\n",
    "            (df.age>0.1) & (df.age < .15)\n",
    "        ), \"Max_val\", \n",
    "    \"no_val\")\n",
    ") \n"
   ]
  },
  {
   "cell_type": "markdown",
   "metadata": {},
   "source": [
    "# Define the bins and labels\n",
    "bins = [-np.inf, -0.5, -0.2, 0.1, 0.15, np.inf]\n",
    "labels = ['no_moin_val', 'Min_Val', 'no_mid_val', 'Max_Val', 'no_max_val']\n",
    "\n",
    "# Use pd.cut to create the new column\n",
    "df['bmi2'] = pd.cut(df['bmi'], bins=bins, labels=labels, right=False)"
   ]
  },
  {
   "cell_type": "markdown",
   "metadata": {},
   "source": [
    "df['bmi3'] = np.where(\n",
    "    (df['bmi'] > -0.5) & (df['bmi'] < -0.2), \"Min_Val\",\n",
    "    np.where(\n",
    "        (df['bmi'] > 0.1) & (df['bmi'] < 0.15), \"Max_Val\", \n",
    "        \"no_val\"\n",
    "    )\n",
    ")"
   ]
  },
  {
   "cell_type": "markdown",
   "metadata": {
    "scrolled": true
   },
   "source": [
    "df.bmi3.unique()"
   ]
  },
  {
   "cell_type": "markdown",
   "metadata": {
    "scrolled": true
   },
   "source": [
    "df.bmi2.unique()"
   ]
  },
  {
   "cell_type": "code",
   "execution_count": 48,
   "metadata": {
    "id": "mxyexNDk7bPV"
   },
   "outputs": [],
   "source": [
    "### The age feature in the dataset is normalized.\n",
    "### We'll filter the dataset for patients older than 35 using an approximate cutoff.\n",
    "### In practice, you'd unnormalize it using the mean and standard deviation, but here we'll use a general range."
   ]
  },
  {
   "cell_type": "code",
   "execution_count": 49,
   "metadata": {
    "colab": {
     "base_uri": "https://localhost:8080/",
     "height": 423
    },
    "id": "PKDCD4vx7bPV",
    "outputId": "aa4d1c9b-2b5a-4ac0-90f4-e18e83230624"
   },
   "outputs": [
    {
     "data": {
      "text/html": [
       "<div>\n",
       "<style scoped>\n",
       "    .dataframe tbody tr th:only-of-type {\n",
       "        vertical-align: middle;\n",
       "    }\n",
       "\n",
       "    .dataframe tbody tr th {\n",
       "        vertical-align: top;\n",
       "    }\n",
       "\n",
       "    .dataframe thead th {\n",
       "        text-align: right;\n",
       "    }\n",
       "</style>\n",
       "<table border=\"1\" class=\"dataframe\">\n",
       "  <thead>\n",
       "    <tr style=\"text-align: right;\">\n",
       "      <th></th>\n",
       "      <th>age</th>\n",
       "      <th>sex</th>\n",
       "      <th>bmi</th>\n",
       "      <th>bp</th>\n",
       "      <th>s1</th>\n",
       "      <th>s2</th>\n",
       "      <th>s3</th>\n",
       "      <th>s4</th>\n",
       "      <th>s5</th>\n",
       "      <th>s6</th>\n",
       "      <th>target</th>\n",
       "    </tr>\n",
       "  </thead>\n",
       "  <tbody>\n",
       "    <tr>\n",
       "      <th>2</th>\n",
       "      <td>0.085299</td>\n",
       "      <td>0.050680</td>\n",
       "      <td>0.044451</td>\n",
       "      <td>-0.005670</td>\n",
       "      <td>-0.045599</td>\n",
       "      <td>-0.034194</td>\n",
       "      <td>-0.032356</td>\n",
       "      <td>-0.002592</td>\n",
       "      <td>0.002861</td>\n",
       "      <td>-0.025930</td>\n",
       "      <td>141.0</td>\n",
       "    </tr>\n",
       "    <tr>\n",
       "      <th>7</th>\n",
       "      <td>0.063504</td>\n",
       "      <td>0.050680</td>\n",
       "      <td>-0.001895</td>\n",
       "      <td>0.066629</td>\n",
       "      <td>0.090620</td>\n",
       "      <td>0.108914</td>\n",
       "      <td>0.022869</td>\n",
       "      <td>0.017703</td>\n",
       "      <td>-0.035816</td>\n",
       "      <td>0.003064</td>\n",
       "      <td>63.0</td>\n",
       "    </tr>\n",
       "    <tr>\n",
       "      <th>17</th>\n",
       "      <td>0.070769</td>\n",
       "      <td>0.050680</td>\n",
       "      <td>0.012117</td>\n",
       "      <td>0.056301</td>\n",
       "      <td>0.034206</td>\n",
       "      <td>0.049416</td>\n",
       "      <td>-0.039719</td>\n",
       "      <td>0.034309</td>\n",
       "      <td>0.027364</td>\n",
       "      <td>-0.001078</td>\n",
       "      <td>144.0</td>\n",
       "    </tr>\n",
       "    <tr>\n",
       "      <th>28</th>\n",
       "      <td>0.052606</td>\n",
       "      <td>-0.044642</td>\n",
       "      <td>-0.021295</td>\n",
       "      <td>-0.074527</td>\n",
       "      <td>-0.040096</td>\n",
       "      <td>-0.037639</td>\n",
       "      <td>-0.006584</td>\n",
       "      <td>-0.039493</td>\n",
       "      <td>-0.000612</td>\n",
       "      <td>-0.054925</td>\n",
       "      <td>131.0</td>\n",
       "    </tr>\n",
       "    <tr>\n",
       "      <th>29</th>\n",
       "      <td>0.067136</td>\n",
       "      <td>0.050680</td>\n",
       "      <td>-0.006206</td>\n",
       "      <td>0.063187</td>\n",
       "      <td>-0.042848</td>\n",
       "      <td>-0.095885</td>\n",
       "      <td>0.052322</td>\n",
       "      <td>-0.076395</td>\n",
       "      <td>0.059424</td>\n",
       "      <td>0.052770</td>\n",
       "      <td>283.0</td>\n",
       "    </tr>\n",
       "    <tr>\n",
       "      <th>...</th>\n",
       "      <td>...</td>\n",
       "      <td>...</td>\n",
       "      <td>...</td>\n",
       "      <td>...</td>\n",
       "      <td>...</td>\n",
       "      <td>...</td>\n",
       "      <td>...</td>\n",
       "      <td>...</td>\n",
       "      <td>...</td>\n",
       "      <td>...</td>\n",
       "      <td>...</td>\n",
       "    </tr>\n",
       "    <tr>\n",
       "      <th>402</th>\n",
       "      <td>0.110727</td>\n",
       "      <td>0.050680</td>\n",
       "      <td>-0.033151</td>\n",
       "      <td>-0.022885</td>\n",
       "      <td>-0.004321</td>\n",
       "      <td>0.020293</td>\n",
       "      <td>-0.061809</td>\n",
       "      <td>0.071210</td>\n",
       "      <td>0.015568</td>\n",
       "      <td>0.044485</td>\n",
       "      <td>168.0</td>\n",
       "    </tr>\n",
       "    <tr>\n",
       "      <th>408</th>\n",
       "      <td>0.063504</td>\n",
       "      <td>-0.044642</td>\n",
       "      <td>-0.050396</td>\n",
       "      <td>0.107944</td>\n",
       "      <td>0.031454</td>\n",
       "      <td>0.019354</td>\n",
       "      <td>-0.017629</td>\n",
       "      <td>0.023608</td>\n",
       "      <td>0.058038</td>\n",
       "      <td>0.040343</td>\n",
       "      <td>189.0</td>\n",
       "    </tr>\n",
       "    <tr>\n",
       "      <th>412</th>\n",
       "      <td>0.074401</td>\n",
       "      <td>-0.044642</td>\n",
       "      <td>0.085408</td>\n",
       "      <td>0.063187</td>\n",
       "      <td>0.014942</td>\n",
       "      <td>0.013091</td>\n",
       "      <td>0.015505</td>\n",
       "      <td>-0.002592</td>\n",
       "      <td>0.006207</td>\n",
       "      <td>0.085907</td>\n",
       "      <td>261.0</td>\n",
       "    </tr>\n",
       "    <tr>\n",
       "      <th>414</th>\n",
       "      <td>0.081666</td>\n",
       "      <td>0.050680</td>\n",
       "      <td>0.006728</td>\n",
       "      <td>-0.004534</td>\n",
       "      <td>0.109883</td>\n",
       "      <td>0.117056</td>\n",
       "      <td>-0.032356</td>\n",
       "      <td>0.091875</td>\n",
       "      <td>0.054720</td>\n",
       "      <td>0.007207</td>\n",
       "      <td>131.0</td>\n",
       "    </tr>\n",
       "    <tr>\n",
       "      <th>431</th>\n",
       "      <td>0.070769</td>\n",
       "      <td>0.050680</td>\n",
       "      <td>-0.030996</td>\n",
       "      <td>0.021872</td>\n",
       "      <td>-0.037344</td>\n",
       "      <td>-0.047034</td>\n",
       "      <td>0.033914</td>\n",
       "      <td>-0.039493</td>\n",
       "      <td>-0.014960</td>\n",
       "      <td>-0.001078</td>\n",
       "      <td>66.0</td>\n",
       "    </tr>\n",
       "  </tbody>\n",
       "</table>\n",
       "<p>61 rows × 11 columns</p>\n",
       "</div>"
      ],
      "text/plain": [
       "          age       sex       bmi        bp        s1        s2        s3  \\\n",
       "2    0.085299  0.050680  0.044451 -0.005670 -0.045599 -0.034194 -0.032356   \n",
       "7    0.063504  0.050680 -0.001895  0.066629  0.090620  0.108914  0.022869   \n",
       "17   0.070769  0.050680  0.012117  0.056301  0.034206  0.049416 -0.039719   \n",
       "28   0.052606 -0.044642 -0.021295 -0.074527 -0.040096 -0.037639 -0.006584   \n",
       "29   0.067136  0.050680 -0.006206  0.063187 -0.042848 -0.095885  0.052322   \n",
       "..        ...       ...       ...       ...       ...       ...       ...   \n",
       "402  0.110727  0.050680 -0.033151 -0.022885 -0.004321  0.020293 -0.061809   \n",
       "408  0.063504 -0.044642 -0.050396  0.107944  0.031454  0.019354 -0.017629   \n",
       "412  0.074401 -0.044642  0.085408  0.063187  0.014942  0.013091  0.015505   \n",
       "414  0.081666  0.050680  0.006728 -0.004534  0.109883  0.117056 -0.032356   \n",
       "431  0.070769  0.050680 -0.030996  0.021872 -0.037344 -0.047034  0.033914   \n",
       "\n",
       "           s4        s5        s6  target  \n",
       "2   -0.002592  0.002861 -0.025930   141.0  \n",
       "7    0.017703 -0.035816  0.003064    63.0  \n",
       "17   0.034309  0.027364 -0.001078   144.0  \n",
       "28  -0.039493 -0.000612 -0.054925   131.0  \n",
       "29  -0.076395  0.059424  0.052770   283.0  \n",
       "..        ...       ...       ...     ...  \n",
       "402  0.071210  0.015568  0.044485   168.0  \n",
       "408  0.023608  0.058038  0.040343   189.0  \n",
       "412 -0.002592  0.006207  0.085907   261.0  \n",
       "414  0.091875  0.054720  0.007207   131.0  \n",
       "431 -0.039493 -0.014960 -0.001078    66.0  \n",
       "\n",
       "[61 rows x 11 columns]"
      ]
     },
     "execution_count": 49,
     "metadata": {},
     "output_type": "execute_result"
    }
   ],
   "source": [
    "## Assuming Roughly corresponding to age > 35\n",
    "age_filtered_df = df[df['age'] > 0.05]\n",
    "age_filtered_df"
   ]
  },
  {
   "cell_type": "code",
   "execution_count": 50,
   "metadata": {
    "colab": {
     "base_uri": "https://localhost:8080/",
     "height": 441
    },
    "id": "E0w1p87k-Lzi",
    "outputId": "0551825e-f58f-4c11-d64f-1487c70dcf13"
   },
   "outputs": [
    {
     "name": "stdout",
     "output_type": "stream",
     "text": [
      "Unnormalized_threshold: 0.00238095238095238\n"
     ]
    },
    {
     "data": {
      "text/html": [
       "<div>\n",
       "<style scoped>\n",
       "    .dataframe tbody tr th:only-of-type {\n",
       "        vertical-align: middle;\n",
       "    }\n",
       "\n",
       "    .dataframe tbody tr th {\n",
       "        vertical-align: top;\n",
       "    }\n",
       "\n",
       "    .dataframe thead th {\n",
       "        text-align: right;\n",
       "    }\n",
       "</style>\n",
       "<table border=\"1\" class=\"dataframe\">\n",
       "  <thead>\n",
       "    <tr style=\"text-align: right;\">\n",
       "      <th></th>\n",
       "      <th>age</th>\n",
       "      <th>sex</th>\n",
       "      <th>bmi</th>\n",
       "      <th>bp</th>\n",
       "      <th>s1</th>\n",
       "      <th>s2</th>\n",
       "      <th>s3</th>\n",
       "      <th>s4</th>\n",
       "      <th>s5</th>\n",
       "      <th>s6</th>\n",
       "      <th>target</th>\n",
       "    </tr>\n",
       "  </thead>\n",
       "  <tbody>\n",
       "    <tr>\n",
       "      <th>0</th>\n",
       "      <td>0.038076</td>\n",
       "      <td>0.050680</td>\n",
       "      <td>0.061696</td>\n",
       "      <td>0.021872</td>\n",
       "      <td>-0.044223</td>\n",
       "      <td>-0.034821</td>\n",
       "      <td>-0.043401</td>\n",
       "      <td>-0.002592</td>\n",
       "      <td>0.019907</td>\n",
       "      <td>-0.017646</td>\n",
       "      <td>151.0</td>\n",
       "    </tr>\n",
       "    <tr>\n",
       "      <th>2</th>\n",
       "      <td>0.085299</td>\n",
       "      <td>0.050680</td>\n",
       "      <td>0.044451</td>\n",
       "      <td>-0.005670</td>\n",
       "      <td>-0.045599</td>\n",
       "      <td>-0.034194</td>\n",
       "      <td>-0.032356</td>\n",
       "      <td>-0.002592</td>\n",
       "      <td>0.002861</td>\n",
       "      <td>-0.025930</td>\n",
       "      <td>141.0</td>\n",
       "    </tr>\n",
       "    <tr>\n",
       "      <th>4</th>\n",
       "      <td>0.005383</td>\n",
       "      <td>-0.044642</td>\n",
       "      <td>-0.036385</td>\n",
       "      <td>0.021872</td>\n",
       "      <td>0.003935</td>\n",
       "      <td>0.015596</td>\n",
       "      <td>0.008142</td>\n",
       "      <td>-0.002592</td>\n",
       "      <td>-0.031988</td>\n",
       "      <td>-0.046641</td>\n",
       "      <td>135.0</td>\n",
       "    </tr>\n",
       "    <tr>\n",
       "      <th>7</th>\n",
       "      <td>0.063504</td>\n",
       "      <td>0.050680</td>\n",
       "      <td>-0.001895</td>\n",
       "      <td>0.066629</td>\n",
       "      <td>0.090620</td>\n",
       "      <td>0.108914</td>\n",
       "      <td>0.022869</td>\n",
       "      <td>0.017703</td>\n",
       "      <td>-0.035816</td>\n",
       "      <td>0.003064</td>\n",
       "      <td>63.0</td>\n",
       "    </tr>\n",
       "    <tr>\n",
       "      <th>8</th>\n",
       "      <td>0.041708</td>\n",
       "      <td>0.050680</td>\n",
       "      <td>0.061696</td>\n",
       "      <td>-0.040099</td>\n",
       "      <td>-0.013953</td>\n",
       "      <td>0.006202</td>\n",
       "      <td>-0.028674</td>\n",
       "      <td>-0.002592</td>\n",
       "      <td>-0.014960</td>\n",
       "      <td>0.011349</td>\n",
       "      <td>110.0</td>\n",
       "    </tr>\n",
       "    <tr>\n",
       "      <th>...</th>\n",
       "      <td>...</td>\n",
       "      <td>...</td>\n",
       "      <td>...</td>\n",
       "      <td>...</td>\n",
       "      <td>...</td>\n",
       "      <td>...</td>\n",
       "      <td>...</td>\n",
       "      <td>...</td>\n",
       "      <td>...</td>\n",
       "      <td>...</td>\n",
       "      <td>...</td>\n",
       "    </tr>\n",
       "    <tr>\n",
       "      <th>431</th>\n",
       "      <td>0.070769</td>\n",
       "      <td>0.050680</td>\n",
       "      <td>-0.030996</td>\n",
       "      <td>0.021872</td>\n",
       "      <td>-0.037344</td>\n",
       "      <td>-0.047034</td>\n",
       "      <td>0.033914</td>\n",
       "      <td>-0.039493</td>\n",
       "      <td>-0.014960</td>\n",
       "      <td>-0.001078</td>\n",
       "      <td>66.0</td>\n",
       "    </tr>\n",
       "    <tr>\n",
       "      <th>432</th>\n",
       "      <td>0.009016</td>\n",
       "      <td>-0.044642</td>\n",
       "      <td>0.055229</td>\n",
       "      <td>-0.005670</td>\n",
       "      <td>0.057597</td>\n",
       "      <td>0.044719</td>\n",
       "      <td>-0.002903</td>\n",
       "      <td>0.023239</td>\n",
       "      <td>0.055686</td>\n",
       "      <td>0.106617</td>\n",
       "      <td>173.0</td>\n",
       "    </tr>\n",
       "    <tr>\n",
       "      <th>434</th>\n",
       "      <td>0.016281</td>\n",
       "      <td>-0.044642</td>\n",
       "      <td>0.001339</td>\n",
       "      <td>0.008101</td>\n",
       "      <td>0.005311</td>\n",
       "      <td>0.010899</td>\n",
       "      <td>0.030232</td>\n",
       "      <td>-0.039493</td>\n",
       "      <td>-0.045424</td>\n",
       "      <td>0.032059</td>\n",
       "      <td>49.0</td>\n",
       "    </tr>\n",
       "    <tr>\n",
       "      <th>437</th>\n",
       "      <td>0.041708</td>\n",
       "      <td>0.050680</td>\n",
       "      <td>0.019662</td>\n",
       "      <td>0.059744</td>\n",
       "      <td>-0.005697</td>\n",
       "      <td>-0.002566</td>\n",
       "      <td>-0.028674</td>\n",
       "      <td>-0.002592</td>\n",
       "      <td>0.031193</td>\n",
       "      <td>0.007207</td>\n",
       "      <td>178.0</td>\n",
       "    </tr>\n",
       "    <tr>\n",
       "      <th>439</th>\n",
       "      <td>0.041708</td>\n",
       "      <td>0.050680</td>\n",
       "      <td>-0.015906</td>\n",
       "      <td>0.017293</td>\n",
       "      <td>-0.037344</td>\n",
       "      <td>-0.013840</td>\n",
       "      <td>-0.024993</td>\n",
       "      <td>-0.011080</td>\n",
       "      <td>-0.046883</td>\n",
       "      <td>0.015491</td>\n",
       "      <td>132.0</td>\n",
       "    </tr>\n",
       "  </tbody>\n",
       "</table>\n",
       "<p>228 rows × 11 columns</p>\n",
       "</div>"
      ],
      "text/plain": [
       "          age       sex       bmi        bp        s1        s2        s3  \\\n",
       "0    0.038076  0.050680  0.061696  0.021872 -0.044223 -0.034821 -0.043401   \n",
       "2    0.085299  0.050680  0.044451 -0.005670 -0.045599 -0.034194 -0.032356   \n",
       "4    0.005383 -0.044642 -0.036385  0.021872  0.003935  0.015596  0.008142   \n",
       "7    0.063504  0.050680 -0.001895  0.066629  0.090620  0.108914  0.022869   \n",
       "8    0.041708  0.050680  0.061696 -0.040099 -0.013953  0.006202 -0.028674   \n",
       "..        ...       ...       ...       ...       ...       ...       ...   \n",
       "431  0.070769  0.050680 -0.030996  0.021872 -0.037344 -0.047034  0.033914   \n",
       "432  0.009016 -0.044642  0.055229 -0.005670  0.057597  0.044719 -0.002903   \n",
       "434  0.016281 -0.044642  0.001339  0.008101  0.005311  0.010899  0.030232   \n",
       "437  0.041708  0.050680  0.019662  0.059744 -0.005697 -0.002566 -0.028674   \n",
       "439  0.041708  0.050680 -0.015906  0.017293 -0.037344 -0.013840 -0.024993   \n",
       "\n",
       "           s4        s5        s6  target  \n",
       "0   -0.002592  0.019907 -0.017646   151.0  \n",
       "2   -0.002592  0.002861 -0.025930   141.0  \n",
       "4   -0.002592 -0.031988 -0.046641   135.0  \n",
       "7    0.017703 -0.035816  0.003064    63.0  \n",
       "8   -0.002592 -0.014960  0.011349   110.0  \n",
       "..        ...       ...       ...     ...  \n",
       "431 -0.039493 -0.014960 -0.001078    66.0  \n",
       "432  0.023239  0.055686  0.106617   173.0  \n",
       "434 -0.039493 -0.045424  0.032059    49.0  \n",
       "437 -0.002592  0.031193  0.007207   178.0  \n",
       "439 -0.011080 -0.046883  0.015491   132.0  \n",
       "\n",
       "[228 rows x 11 columns]"
      ]
     },
     "execution_count": 50,
     "metadata": {},
     "output_type": "execute_result"
    }
   ],
   "source": [
    "# Calculate the mean and standard deviation of the original data\n",
    "mean_age = df['age'].mean()\n",
    "std_age = df['age'].std()\n",
    "\n",
    "# Assuming the data was normalized using (x - mean) / std\n",
    "# Here, we use the general range for unnormalization. For example, if normalized age > 0.05:\n",
    "normalized_threshold = 0.05\n",
    "\n",
    "# Unnormalize the threshold to the original scale\n",
    "unnormalized_threshold = mean_age + normalized_threshold * std_age\n",
    "print(f\"Unnormalized_threshold: {unnormalized_threshold}\")\n",
    "# Filter the DataFrame\n",
    "age_filtered_df = df[df['age'] > unnormalized_threshold]\n",
    "\n",
    "# Display the filtered DataFrame\n",
    "age_filtered_df"
   ]
  },
  {
   "cell_type": "markdown",
   "metadata": {
    "id": "eWjMN4ZT7bPV"
   },
   "source": [
    "### Q3: Find Relation Between Age, Sex, and Target Variable."
   ]
  },
  {
   "cell_type": "code",
   "execution_count": 52,
   "metadata": {
    "colab": {
     "base_uri": "https://localhost:8080/",
     "height": 178
    },
    "id": "NlSTuG227bPW",
    "outputId": "a4ff20c3-b3dd-428f-c70e-6f0503423eca"
   },
   "outputs": [
    {
     "data": {
      "text/plain": [
       "sex\n",
       "-0.044642    235\n",
       " 0.050680    207\n",
       "Name: count, dtype: int64"
      ]
     },
     "execution_count": 52,
     "metadata": {},
     "output_type": "execute_result"
    }
   ],
   "source": [
    "df.sex.value_counts(dropna=False)"
   ]
  },
  {
   "cell_type": "code",
   "execution_count": 53,
   "metadata": {
    "colab": {
     "base_uri": "https://localhost:8080/",
     "height": 268
    },
    "id": "uy1LsGyw7bPW",
    "outputId": "154e9bf7-c501-4bdf-b14d-ec6190b8df2b"
   },
   "outputs": [
    {
     "data": {
      "image/png": "[encoded data removed]",
      "text/plain": [
       "<Figure size 500x250 with 2 Axes>"
      ]
     },
     "metadata": {},
     "output_type": "display_data"
    }
   ],
   "source": [
    "# Create a scatter plot matrix to visualize relationships\n",
    "sns.pairplot(df, x_vars=['age', 'sex'], y_vars='target', kind='reg')\n",
    "plt.show()"
   ]
  },
  {
   "cell_type": "code",
   "execution_count": 54,
   "metadata": {
    "colab": {
     "base_uri": "https://localhost:8080/",
     "height": 516
    },
    "id": "vxXV4yWM_loN",
    "outputId": "252390d2-6407-45ea-e543-3d523fa36487"
   },
   "outputs": [
    {
     "data": {
      "text/plain": [
       "<Axes: xlabel='age', ylabel='target'>"
      ]
     },
     "execution_count": 54,
     "metadata": {},
     "output_type": "execute_result"
    },
    {
     "data": {
      "image/png": "[encoded data removed]",
      "text/plain": [
       "<Figure size 800x550 with 1 Axes>"
      ]
     },
     "metadata": {},
     "output_type": "display_data"
    }
   ],
   "source": [
    "# Creating a three way scatter plot between them\n",
    "sns.scatterplot (df, x=\"age\", y=\"target\", hue=\"sex\")"
   ]
  },
  {
   "cell_type": "markdown",
   "metadata": {
    "id": "z34c96ZH7bPW"
   },
   "source": [
    "### Q4: Generate Box Plot to Detect Outliers"
   ]
  },
  {
   "cell_type": "code",
   "execution_count": 56,
   "metadata": {
    "colab": {
     "base_uri": "https://localhost:8080/",
     "height": 672
    },
    "id": "FULcPV897bPW",
    "outputId": "f0f7349d-47c0-45f1-f91b-ce3cd96e69d4"
   },
   "outputs": [
    {
     "data": {
      "image/png": "[encoded data removed]",
      "text/plain": [
       "<Figure size 1200x800 with 1 Axes>"
      ]
     },
     "metadata": {},
     "output_type": "display_data"
    }
   ],
   "source": [
    "# Generate box plots for each feature to detect outliers\n",
    "df.drop('target', axis=1).plot(kind='box', figsize=(12, 8))\n",
    "plt.show()"
   ]
  },
  {
   "cell_type": "code",
   "execution_count": 57,
   "metadata": {
    "colab": {
     "base_uri": "https://localhost:8080/"
    },
    "id": "ZYA4Tn5_7bPW",
    "outputId": "de15b9be-d9e5-4479-f9d3-8e94589c02f4"
   },
   "outputs": [
    {
     "name": "stdout",
     "output_type": "stream",
     "text": [
      "age has 0 outliers\n",
      "sex has 0 outliers\n",
      "bmi has 3 outliers\n",
      "bp has 0 outliers\n",
      "s1 has 8 outliers\n",
      "s2 has 7 outliers\n",
      "s3 has 7 outliers\n",
      "s4 has 2 outliers\n",
      "s5 has 4 outliers\n",
      "s6 has 9 outliers\n",
      "target has 0 outliers\n"
     ]
    }
   ],
   "source": [
    "# Detect Outliers\n",
    "def detect_outliers_iqr(df, column):\n",
    "    \"\"\"\n",
    "    Detect outliers in a dataframe column using the Interquartile Range (IQR) method.\n",
    "\n",
    "    Parameters:\n",
    "    - df (pd.DataFrame): The input dataframe.\n",
    "    - column (str): The name of the column in which to detect outliers.\n",
    "\n",
    "    Returns:\n",
    "    - pd.DataFrame: A dataframe containing the rows with outlier values in the specified column.\n",
    "\n",
    "    The function calculates the first quartile (Q1) and third quartile (Q3) of the specified column,\n",
    "    then computes the interquartile range (IQR) as Q3 - Q1. Outliers are defined as data points\n",
    "    that fall below Q1 - 1.5 * IQR or above Q3 + 1.5 * IQR.\n",
    "    \"\"\"\n",
    "    Q1 = df[column].quantile(0.25)\n",
    "    Q3 = df[column].quantile(0.75)\n",
    "    IQR = Q3 - Q1\n",
    "    lower_bound = Q1 - 1.5 * IQR\n",
    "    upper_bound = Q3 + 1.5 * IQR\n",
    "    outliers = df[(df[column] < lower_bound) | (df[column] > upper_bound)]\n",
    "    return outliers\n",
    "\n",
    "outliers_dict_pre_capping = {}\n",
    "for column in df.columns:\n",
    "    outliers_dict_pre_capping[column] = detect_outliers_iqr(df, column)\n",
    "\n",
    "# Print the number of outliers in each feature\n",
    "for key, value in outliers_dict_pre_capping.items():\n",
    "    print(f\"{key} has {len(value)} outliers\")"
   ]
  },
  {
   "cell_type": "code",
   "execution_count": 58,
   "metadata": {
    "colab": {
     "base_uri": "https://localhost:8080/",
     "height": 1000
    },
    "id": "EP0sTjnL7bPW",
    "outputId": "f3bf122f-8cd1-4d51-bbda-d9e164a2e0bc",
    "scrolled": true
   },
   "outputs": [
    {
     "data": {
      "image/png": "[encoded data removed]",
      "text/plain": [
       "<Figure size 1000x600 with 1 Axes>"
      ]
     },
     "metadata": {},
     "output_type": "display_data"
    },
    {
     "data": {
      "image/png": "[encoded data removed]",
      "text/plain": [
       "<Figure size 1000x600 with 1 Axes>"
      ]
     },
     "metadata": {},
     "output_type": "display_data"
    },
    {
     "data": {
      "image/png": "[encoded data removed]",
      "text/plain": [
       "<Figure size 1000x600 with 1 Axes>"
      ]
     },
     "metadata": {},
     "output_type": "display_data"
    },
    {
     "data": {
      "image/png": "[encoded data removed]",
      "text/plain": [
       "<Figure size 1000x600 with 1 Axes>"
      ]
     },
     "metadata": {},
     "output_type": "display_data"
    },
    {
     "data": {
      "image/png": "[encoded data removed]",
      "text/plain": [
       "<Figure size 1000x600 with 1 Axes>"
      ]
     },
     "metadata": {},
     "output_type": "display_data"
    },
    {
     "data": {
      "image/png": "[encoded data removed]",
      "text/plain": [
       "<Figure size 1000x600 with 1 Axes>"
      ]
     },
     "metadata": {},
     "output_type": "display_data"
    },
    {
     "data": {
      "image/png": "[encoded data removed]",
      "text/plain": [
       "<Figure size 1000x600 with 1 Axes>"
      ]
     },
     "metadata": {},
     "output_type": "display_data"
    },
    {
     "data": {
      "image/png": "[encoded data removed]",
      "text/plain": [
       "<Figure size 1000x600 with 1 Axes>"
      ]
     },
     "metadata": {},
     "output_type": "display_data"
    },
    {
     "data": {
      "image/png": "[encoded data removed]",
      "text/plain": [
       "<Figure size 1000x600 with 1 Axes>"
      ]
     },
     "metadata": {},
     "output_type": "display_data"
    },
    {
     "data": {
      "image/png": "[encoded data removed]",
      "text/plain": [
       "<Figure size 1000x600 with 1 Axes>"
      ]
     },
     "metadata": {},
     "output_type": "display_data"
    }
   ],
   "source": [
    "#Visualize Outliers before capping\n",
    "# Bin the target variable\n",
    "df['target_bin'] = pd.qcut(df['target'], q=4, labels=['Low', 'Medium-Low', 'Medium-High', 'High'])\n",
    "\n",
    "# Boxplots for each feature with respect to the binned target\n",
    "for col in df.drop(['target', 'target_bin'], axis=1).columns:\n",
    "    plt.figure(figsize=(10, 6))\n",
    "    sns.boxplot(x='target_bin', y=col, data=df)\n",
    "    plt.title(f'Boxplot of {col} by Target Bins')\n",
    "    plt.xlabel('Target Bin')\n",
    "    plt.ylabel(col)\n",
    "    plt.show()"
   ]
  },
  {
   "cell_type": "code",
   "execution_count": 59,
   "metadata": {
    "colab": {
     "base_uri": "https://localhost:8080/",
     "height": 300
    },
    "id": "mDqtjUY_7bPW",
    "outputId": "8a66a943-99d1-4c64-f750-4cafac02a01f"
   },
   "outputs": [
    {
     "data": {
      "text/html": [
       "<div>\n",
       "<style scoped>\n",
       "    .dataframe tbody tr th:only-of-type {\n",
       "        vertical-align: middle;\n",
       "    }\n",
       "\n",
       "    .dataframe tbody tr th {\n",
       "        vertical-align: top;\n",
       "    }\n",
       "\n",
       "    .dataframe thead th {\n",
       "        text-align: right;\n",
       "    }\n",
       "</style>\n",
       "<table border=\"1\" class=\"dataframe\">\n",
       "  <thead>\n",
       "    <tr style=\"text-align: right;\">\n",
       "      <th></th>\n",
       "      <th>age</th>\n",
       "      <th>sex</th>\n",
       "      <th>bmi</th>\n",
       "      <th>bp</th>\n",
       "      <th>s1</th>\n",
       "      <th>s2</th>\n",
       "      <th>s3</th>\n",
       "      <th>s4</th>\n",
       "      <th>s5</th>\n",
       "      <th>s6</th>\n",
       "      <th>target</th>\n",
       "    </tr>\n",
       "  </thead>\n",
       "  <tbody>\n",
       "    <tr>\n",
       "      <th>count</th>\n",
       "      <td>4.420000e+02</td>\n",
       "      <td>4.420000e+02</td>\n",
       "      <td>442.000000</td>\n",
       "      <td>4.420000e+02</td>\n",
       "      <td>442.000000</td>\n",
       "      <td>442.000000</td>\n",
       "      <td>442.000000</td>\n",
       "      <td>442.000000</td>\n",
       "      <td>442.000000</td>\n",
       "      <td>442.000000</td>\n",
       "      <td>442.000000</td>\n",
       "    </tr>\n",
       "    <tr>\n",
       "      <th>mean</th>\n",
       "      <td>-2.511817e-19</td>\n",
       "      <td>1.230790e-17</td>\n",
       "      <td>-0.000181</td>\n",
       "      <td>-4.797570e-17</td>\n",
       "      <td>-0.000212</td>\n",
       "      <td>-0.000353</td>\n",
       "      <td>-0.000533</td>\n",
       "      <td>-0.000114</td>\n",
       "      <td>-0.000021</td>\n",
       "      <td>-0.000130</td>\n",
       "      <td>152.133484</td>\n",
       "    </tr>\n",
       "    <tr>\n",
       "      <th>std</th>\n",
       "      <td>4.761905e-02</td>\n",
       "      <td>4.761905e-02</td>\n",
       "      <td>0.047056</td>\n",
       "      <td>4.761905e-02</td>\n",
       "      <td>0.047019</td>\n",
       "      <td>0.046527</td>\n",
       "      <td>0.045934</td>\n",
       "      <td>0.047227</td>\n",
       "      <td>0.047561</td>\n",
       "      <td>0.046997</td>\n",
       "      <td>77.093005</td>\n",
       "    </tr>\n",
       "    <tr>\n",
       "      <th>min</th>\n",
       "      <td>-1.072256e-01</td>\n",
       "      <td>-4.464164e-02</td>\n",
       "      <td>-0.090275</td>\n",
       "      <td>-1.123988e-01</td>\n",
       "      <td>-0.126781</td>\n",
       "      <td>-0.115613</td>\n",
       "      <td>-0.102307</td>\n",
       "      <td>-0.076395</td>\n",
       "      <td>-0.126097</td>\n",
       "      <td>-0.124823</td>\n",
       "      <td>25.000000</td>\n",
       "    </tr>\n",
       "    <tr>\n",
       "      <th>25%</th>\n",
       "      <td>-3.729927e-02</td>\n",
       "      <td>-4.464164e-02</td>\n",
       "      <td>-0.034229</td>\n",
       "      <td>-3.665608e-02</td>\n",
       "      <td>-0.034248</td>\n",
       "      <td>-0.030358</td>\n",
       "      <td>-0.035117</td>\n",
       "      <td>-0.039493</td>\n",
       "      <td>-0.033246</td>\n",
       "      <td>-0.033179</td>\n",
       "      <td>87.000000</td>\n",
       "    </tr>\n",
       "    <tr>\n",
       "      <th>50%</th>\n",
       "      <td>5.383060e-03</td>\n",
       "      <td>-4.464164e-02</td>\n",
       "      <td>-0.007284</td>\n",
       "      <td>-5.670422e-03</td>\n",
       "      <td>-0.004321</td>\n",
       "      <td>-0.003819</td>\n",
       "      <td>-0.006584</td>\n",
       "      <td>-0.002592</td>\n",
       "      <td>-0.001947</td>\n",
       "      <td>-0.001078</td>\n",
       "      <td>140.500000</td>\n",
       "    </tr>\n",
       "    <tr>\n",
       "      <th>75%</th>\n",
       "      <td>3.807591e-02</td>\n",
       "      <td>5.068012e-02</td>\n",
       "      <td>0.031248</td>\n",
       "      <td>3.564379e-02</td>\n",
       "      <td>0.028358</td>\n",
       "      <td>0.029844</td>\n",
       "      <td>0.029312</td>\n",
       "      <td>0.034309</td>\n",
       "      <td>0.032432</td>\n",
       "      <td>0.027917</td>\n",
       "      <td>211.500000</td>\n",
       "    </tr>\n",
       "    <tr>\n",
       "      <th>max</th>\n",
       "      <td>1.107267e-01</td>\n",
       "      <td>5.068012e-02</td>\n",
       "      <td>0.129464</td>\n",
       "      <td>1.320436e-01</td>\n",
       "      <td>0.122267</td>\n",
       "      <td>0.120149</td>\n",
       "      <td>0.125954</td>\n",
       "      <td>0.145012</td>\n",
       "      <td>0.130949</td>\n",
       "      <td>0.119561</td>\n",
       "      <td>346.000000</td>\n",
       "    </tr>\n",
       "  </tbody>\n",
       "</table>\n",
       "</div>"
      ],
      "text/plain": [
       "                age           sex         bmi            bp          s1  \\\n",
       "count  4.420000e+02  4.420000e+02  442.000000  4.420000e+02  442.000000   \n",
       "mean  -2.511817e-19  1.230790e-17   -0.000181 -4.797570e-17   -0.000212   \n",
       "std    4.761905e-02  4.761905e-02    0.047056  4.761905e-02    0.047019   \n",
       "min   -1.072256e-01 -4.464164e-02   -0.090275 -1.123988e-01   -0.126781   \n",
       "25%   -3.729927e-02 -4.464164e-02   -0.034229 -3.665608e-02   -0.034248   \n",
       "50%    5.383060e-03 -4.464164e-02   -0.007284 -5.670422e-03   -0.004321   \n",
       "75%    3.807591e-02  5.068012e-02    0.031248  3.564379e-02    0.028358   \n",
       "max    1.107267e-01  5.068012e-02    0.129464  1.320436e-01    0.122267   \n",
       "\n",
       "               s2          s3          s4          s5          s6      target  \n",
       "count  442.000000  442.000000  442.000000  442.000000  442.000000  442.000000  \n",
       "mean    -0.000353   -0.000533   -0.000114   -0.000021   -0.000130  152.133484  \n",
       "std      0.046527    0.045934    0.047227    0.047561    0.046997   77.093005  \n",
       "min     -0.115613   -0.102307   -0.076395   -0.126097   -0.124823   25.000000  \n",
       "25%     -0.030358   -0.035117   -0.039493   -0.033246   -0.033179   87.000000  \n",
       "50%     -0.003819   -0.006584   -0.002592   -0.001947   -0.001078  140.500000  \n",
       "75%      0.029844    0.029312    0.034309    0.032432    0.027917  211.500000  \n",
       "max      0.120149    0.125954    0.145012    0.130949    0.119561  346.000000  "
      ]
     },
     "execution_count": 59,
     "metadata": {},
     "output_type": "execute_result"
    }
   ],
   "source": [
    "# Handle Outliers\n",
    "def cap_outliers(df, column):\n",
    "    \"\"\"\n",
    "    Cap the outliers in a dataframe column using the Interquartile Range (IQR) method.\n",
    "\n",
    "    This function modifies the input dataframe by capping the outliers at the boundaries defined by\n",
    "    the lower and upper limits of the IQR method.\n",
    "\n",
    "    Parameters:\n",
    "    - df (pd.DataFrame): The input dataframe.\n",
    "    - column (str): The name of the column in which to cap outliers.\n",
    "\n",
    "    Returns:\n",
    "    - pd.DataFrame: The dataframe with outliers in the specified column capped.\n",
    "\n",
    "    The function calculates the first quartile (Q1) and third quartile (Q3) of the specified column,\n",
    "    then computes the interquartile range (IQR) as Q3 - Q1. Outliers are capped at the values of\n",
    "    Q1 - 1.5 * IQR and Q3 + 1.5 * IQR for the lower and upper bounds, respectively.\n",
    "    \"\"\"\n",
    "\n",
    "    Q1 = df[column].quantile(0.25)\n",
    "    Q3 = df[column].quantile(0.75)\n",
    "    IQR = Q3 - Q1\n",
    "    lower_bound = Q1 - 1.5 * IQR\n",
    "    upper_bound = Q3 + 1.5 * IQR\n",
    "    df[column] = np.where(df[column] < lower_bound, lower_bound, df[column])\n",
    "    df[column] = np.where(df[column] > upper_bound, upper_bound, df[column])\n",
    "    return df\n",
    "\n",
    "df_capped = df.copy()\n",
    "for column in  df.drop(['target', 'target_bin'], axis=1).columns:\n",
    "    df_capped = cap_outliers(df_capped, column)\n",
    "\n",
    "# Display the transformed dataframe\n",
    "df_capped.describe()"
   ]
  },
  {
   "cell_type": "code",
   "execution_count": 60,
   "metadata": {
    "colab": {
     "base_uri": "https://localhost:8080/",
     "height": 1000
    },
    "id": "Ol_nBYQM7bPW",
    "outputId": "061a2ec9-1cf1-4691-c69c-e9cad635f38a",
    "scrolled": true
   },
   "outputs": [
    {
     "data": {
      "image/png": "[encoded data removed]",
      "text/plain": [
       "<Figure size 1000x600 with 1 Axes>"
      ]
     },
     "metadata": {},
     "output_type": "display_data"
    },
    {
     "data": {
      "image/png": "[encoded data removed]",
      "text/plain": [
       "<Figure size 1000x600 with 1 Axes>"
      ]
     },
     "metadata": {},
     "output_type": "display_data"
    },
    {
     "data": {
      "image/png": "[encoded data removed]",
      "text/plain": [
       "<Figure size 1000x600 with 1 Axes>"
      ]
     },
     "metadata": {},
     "output_type": "display_data"
    },
    {
     "data": {
      "image/png": "[encoded data removed]",
      "text/plain": [
       "<Figure size 1000x600 with 1 Axes>"
      ]
     },
     "metadata": {},
     "output_type": "display_data"
    },
    {
     "data": {
      "image/png": "[encoded data removed]",
      "text/plain": [
       "<Figure size 1000x600 with 1 Axes>"
      ]
     },
     "metadata": {},
     "output_type": "display_data"
    },
    {
     "data": {
      "image/png": "[encoded data removed]",
      "text/plain": [
       "<Figure size 1000x600 with 1 Axes>"
      ]
     },
     "metadata": {},
     "output_type": "display_data"
    },
    {
     "data": {
      "image/png": "[encoded data removed]",
      "text/plain": [
       "<Figure size 1000x600 with 1 Axes>"
      ]
     },
     "metadata": {},
     "output_type": "display_data"
    },
    {
     "data": {
      "image/png": "[encoded data removed]",
      "text/plain": [
       "<Figure size 1000x600 with 1 Axes>"
      ]
     },
     "metadata": {},
     "output_type": "display_data"
    },
    {
     "data": {
      "image/png": "[encoded data removed]",
      "text/plain": [
       "<Figure size 1000x600 with 1 Axes>"
      ]
     },
     "metadata": {},
     "output_type": "display_data"
    },
    {
     "data": {
      "image/png": "[encoded data removed]",
      "text/plain": [
       "<Figure size 1000x600 with 1 Axes>"
      ]
     },
     "metadata": {},
     "output_type": "display_data"
    }
   ],
   "source": [
    "#Visualize Outliers before capping\n",
    "# Boxplots for each feature with respect to the binned target\n",
    "for col in df_capped.drop(['target', 'target_bin'], axis=1).columns:\n",
    "    plt.figure(figsize=(10, 6))\n",
    "    sns.boxplot(x='target_bin', y=col, data=df_capped)\n",
    "    plt.title(f'Boxplot of {col} by Target Bins')\n",
    "    plt.xlabel('Target Bin')\n",
    "    plt.ylabel(col)\n",
    "    plt.show()"
   ]
  },
  {
   "cell_type": "code",
   "execution_count": 110,
   "metadata": {},
   "outputs": [],
   "source": [
    "df[\"flag\"] = np.where(df.bmi>df.bmi.quantile(0.99), True, False)"
   ]
  },
  {
   "cell_type": "code",
   "execution_count": 112,
   "metadata": {},
   "outputs": [
    {
     "data": {
      "text/plain": [
       "flag\n",
       "False    437\n",
       "True       5\n",
       "Name: count, dtype: int64"
      ]
     },
     "execution_count": 112,
     "metadata": {},
     "output_type": "execute_result"
    }
   ],
   "source": [
    "df.flag.value_counts(dropna=False)"
   ]
  },
  {
   "cell_type": "code",
   "execution_count": null,
   "metadata": {
    "colab": {
     "base_uri": "https://localhost:8080/"
    },
    "id": "gFT_2UtQ7bPX",
    "outputId": "491cdadd-35a9-42f6-fb6a-e01ba0e3d841",
    "scrolled": true
   },
   "outputs": [],
   "source": [
    "# Detect Outliers Post Cappings\n",
    "outliers_dict_post_capping = {}\n",
    "for column in df_capped.drop(['target', 'target_bin'], axis=1).columns:\n",
    "    outliers_dict_post_capping[column] = detect_outliers_iqr(df_capped, column)\n",
    "\n",
    "# Print the number of outliers in each feature\n",
    "for key, value in outliers_dict_post_capping.items():\n",
    "    print(f\"{key} has {len(value)} outliers\")"
   ]
  },
  {
   "cell_type": "code",
   "execution_count": null,
   "metadata": {
    "colab": {
     "base_uri": "https://localhost:8080/",
     "height": 847
    },
    "id": "hkxcXgkv7bPX",
    "outputId": "ba1bb533-6f86-4d3a-f994-0c39c89a174b"
   },
   "outputs": [],
   "source": [
    "# Histograms Before Capping\n",
    "df.hist(bins=30, figsize=(15, 10))\n",
    "plt.show()"
   ]
  },
  {
   "cell_type": "code",
   "execution_count": null,
   "metadata": {
    "colab": {
     "base_uri": "https://localhost:8080/",
     "height": 847
    },
    "id": "FCd55h177bPX",
    "outputId": "94cb3cf9-42ae-4eb3-e2fa-89e6f44b1708"
   },
   "outputs": [],
   "source": [
    "# Histograms After Capping\n",
    "df_capped.hist(bins=30, figsize=(15, 10))\n",
    "plt.show()"
   ]
  },
  {
   "cell_type": "code",
   "execution_count": null,
   "metadata": {
    "colab": {
     "base_uri": "https://localhost:8080/",
     "height": 1000
    },
    "id": "UywPpgJr7bPX",
    "outputId": "38d1b119-1dc7-4a89-9585-4f20ec9c5f20"
   },
   "outputs": [],
   "source": [
    "# KDE plots\n",
    "# Create KDE plots for all columns\n",
    "def plot_kde_for_columns(df):\n",
    "    \"\"\"\n",
    "    Plot Kernel Density Estimate (KDE) plots for each column in a DataFrame.\n",
    "\n",
    "    This function creates KDE plots for all columns in the given DataFrame, with each plot displayed in a separate subplot.\n",
    "\n",
    "    Parameters:\n",
    "    - df (pd.DataFrame): The input dataframe containing the data to plot.\n",
    "\n",
    "    Returns:\n",
    "    - None: The function displays the KDE plots for each column in the DataFrame.\n",
    "\n",
    "    The KDE plots provide a visual representation of the distribution of the data for each column. The 'fill=True' option fills\n",
    "    the area under the KDE curve, making it easier to visualize the density.\n",
    "    \"\"\"\n",
    "    num_columns = len(df.columns)\n",
    "    plt.figure(figsize=(6, num_columns * 3))\n",
    "\n",
    "    for i, column in enumerate(df.columns):\n",
    "        plt.subplot(num_columns, 1, i + 1)\n",
    "        sns.kdeplot(df[column], fill=True)\n",
    "        plt.title(f'KDE Plot for {column}')\n",
    "        plt.xlabel(column)\n",
    "        plt.ylabel('Density')\n",
    "\n",
    "    plt.tight_layout()\n",
    "    plt.show()\n",
    "\n",
    "# Call the function to plot KDE plots\n",
    "plot_kde_for_columns(df_capped.drop(\"target_bin\", axis=1))"
   ]
  },
  {
   "cell_type": "markdown",
   "metadata": {
    "id": "72B85Ptz7bPX"
   },
   "source": [
    "As the data seem to have less outliers, we can update the dataframe."
   ]
  },
  {
   "cell_type": "code",
   "execution_count": 116,
   "metadata": {
    "colab": {
     "base_uri": "https://localhost:8080/",
     "height": 223
    },
    "id": "Rzi7-uOb7bPX",
    "outputId": "eebe3003-11af-4927-ace9-459cc0e27e53"
   },
   "outputs": [
    {
     "name": "stdout",
     "output_type": "stream",
     "text": [
      "The shape of the dataframe is: (442, 11)\n"
     ]
    },
    {
     "data": {
      "text/html": [
       "<div>\n",
       "<style scoped>\n",
       "    .dataframe tbody tr th:only-of-type {\n",
       "        vertical-align: middle;\n",
       "    }\n",
       "\n",
       "    .dataframe tbody tr th {\n",
       "        vertical-align: top;\n",
       "    }\n",
       "\n",
       "    .dataframe thead th {\n",
       "        text-align: right;\n",
       "    }\n",
       "</style>\n",
       "<table border=\"1\" class=\"dataframe\">\n",
       "  <thead>\n",
       "    <tr style=\"text-align: right;\">\n",
       "      <th></th>\n",
       "      <th>age</th>\n",
       "      <th>sex</th>\n",
       "      <th>bmi</th>\n",
       "      <th>bp</th>\n",
       "      <th>s1</th>\n",
       "      <th>s2</th>\n",
       "      <th>s3</th>\n",
       "      <th>s4</th>\n",
       "      <th>s5</th>\n",
       "      <th>s6</th>\n",
       "      <th>target</th>\n",
       "    </tr>\n",
       "  </thead>\n",
       "  <tbody>\n",
       "    <tr>\n",
       "      <th>0</th>\n",
       "      <td>0.038076</td>\n",
       "      <td>0.050680</td>\n",
       "      <td>0.061696</td>\n",
       "      <td>0.021872</td>\n",
       "      <td>-0.044223</td>\n",
       "      <td>-0.034821</td>\n",
       "      <td>-0.043401</td>\n",
       "      <td>-0.002592</td>\n",
       "      <td>0.019907</td>\n",
       "      <td>-0.017646</td>\n",
       "      <td>151.0</td>\n",
       "    </tr>\n",
       "    <tr>\n",
       "      <th>1</th>\n",
       "      <td>-0.001882</td>\n",
       "      <td>-0.044642</td>\n",
       "      <td>-0.051474</td>\n",
       "      <td>-0.026328</td>\n",
       "      <td>-0.008449</td>\n",
       "      <td>-0.019163</td>\n",
       "      <td>0.074412</td>\n",
       "      <td>-0.039493</td>\n",
       "      <td>-0.068332</td>\n",
       "      <td>-0.092204</td>\n",
       "      <td>75.0</td>\n",
       "    </tr>\n",
       "    <tr>\n",
       "      <th>2</th>\n",
       "      <td>0.085299</td>\n",
       "      <td>0.050680</td>\n",
       "      <td>0.044451</td>\n",
       "      <td>-0.005670</td>\n",
       "      <td>-0.045599</td>\n",
       "      <td>-0.034194</td>\n",
       "      <td>-0.032356</td>\n",
       "      <td>-0.002592</td>\n",
       "      <td>0.002861</td>\n",
       "      <td>-0.025930</td>\n",
       "      <td>141.0</td>\n",
       "    </tr>\n",
       "    <tr>\n",
       "      <th>3</th>\n",
       "      <td>-0.089063</td>\n",
       "      <td>-0.044642</td>\n",
       "      <td>-0.011595</td>\n",
       "      <td>-0.036656</td>\n",
       "      <td>0.012191</td>\n",
       "      <td>0.024991</td>\n",
       "      <td>-0.036038</td>\n",
       "      <td>0.034309</td>\n",
       "      <td>0.022688</td>\n",
       "      <td>-0.009362</td>\n",
       "      <td>206.0</td>\n",
       "    </tr>\n",
       "    <tr>\n",
       "      <th>4</th>\n",
       "      <td>0.005383</td>\n",
       "      <td>-0.044642</td>\n",
       "      <td>-0.036385</td>\n",
       "      <td>0.021872</td>\n",
       "      <td>0.003935</td>\n",
       "      <td>0.015596</td>\n",
       "      <td>0.008142</td>\n",
       "      <td>-0.002592</td>\n",
       "      <td>-0.031988</td>\n",
       "      <td>-0.046641</td>\n",
       "      <td>135.0</td>\n",
       "    </tr>\n",
       "  </tbody>\n",
       "</table>\n",
       "</div>"
      ],
      "text/plain": [
       "        age       sex       bmi        bp        s1        s2        s3  \\\n",
       "0  0.038076  0.050680  0.061696  0.021872 -0.044223 -0.034821 -0.043401   \n",
       "1 -0.001882 -0.044642 -0.051474 -0.026328 -0.008449 -0.019163  0.074412   \n",
       "2  0.085299  0.050680  0.044451 -0.005670 -0.045599 -0.034194 -0.032356   \n",
       "3 -0.089063 -0.044642 -0.011595 -0.036656  0.012191  0.024991 -0.036038   \n",
       "4  0.005383 -0.044642 -0.036385  0.021872  0.003935  0.015596  0.008142   \n",
       "\n",
       "         s4        s5        s6  target  \n",
       "0 -0.002592  0.019907 -0.017646   151.0  \n",
       "1 -0.039493 -0.068332 -0.092204    75.0  \n",
       "2 -0.002592  0.002861 -0.025930   141.0  \n",
       "3  0.034309  0.022688 -0.009362   206.0  \n",
       "4 -0.002592 -0.031988 -0.046641   135.0  "
      ]
     },
     "execution_count": 116,
     "metadata": {},
     "output_type": "execute_result"
    }
   ],
   "source": [
    "df = df_capped.drop(\"target_bin\", axis=1).copy()\n",
    "print(f\"The shape of the dataframe is: {df.shape}\")\n",
    "df.head()"
   ]
  },
  {
   "cell_type": "markdown",
   "metadata": {
    "id": "rE1u1ixJ7bPX"
   },
   "source": [
    "### Multicollinearity Removal"
   ]
  },
  {
   "cell_type": "code",
   "execution_count": 120,
   "metadata": {
    "colab": {
     "base_uri": "https://localhost:8080/",
     "height": 830
    },
    "id": "El7jjwNF7bPX",
    "outputId": "be98b51b-f3b8-4078-be02-b49a80361faa"
   },
   "outputs": [
    {
     "data": {
      "image/png": "[encoded data removed]",
      "text/plain": [
       "<Figure size 1200x1000 with 2 Axes>"
      ]
     },
     "metadata": {},
     "output_type": "display_data"
    }
   ],
   "source": [
    "### Checking multicollinearity through Correlation matrix\n",
    "corr_matrix = df.corr()\n",
    "\n",
    "plt.figure(figsize=(12,10))\n",
    "sns.heatmap(corr_matrix, annot=True, fmt='.2f')\n",
    "# Save the heatmap to a file\n",
    "plt.savefig('heatmap.png')\n",
    "plt.show()"
   ]
  },
  {
   "cell_type": "code",
   "execution_count": 118,
   "metadata": {},
   "outputs": [
    {
     "name": "stdout",
     "output_type": "stream",
     "text": [
      "Columns 's1' and 's2' have a correlation of 0.89\n",
      "Columns 's3' and 's4' have a correlation of -0.75\n"
     ]
    }
   ],
   "source": [
    "\n",
    "def print_high_correlation_columns(df, threshold_low=-0.7, threshold_high=0.7):\n",
    "    \"\"\"\n",
    "    Print columns with correlation values in the ranges [-1, -0.7] and [0.7, 1].\n",
    "\n",
    "    Parameters:\n",
    "        df (pd.DataFrame): The DataFrame containing the data.\n",
    "        threshold_low (float): The lower bound for negative correlations (default is -0.7).\n",
    "        threshold_high (float): The upper bound for positive correlations (default is 0.7).\n",
    "    \"\"\"\n",
    "    # Calculate the correlation matrix\n",
    "    corr_matrix = df.corr()\n",
    "    \n",
    "    # Find correlations that are in the specified ranges\n",
    "    high_corr_pairs = []\n",
    "    for i in range(corr_matrix.shape[0]):\n",
    "        for j in range(i + 1, corr_matrix.shape[1]):\n",
    "            corr_value = corr_matrix.iloc[i, j]\n",
    "            if corr_value <= threshold_low or corr_value >= threshold_high:\n",
    "                high_corr_pairs.append((corr_matrix.index[i], corr_matrix.columns[j], corr_value))\n",
    "    \n",
    "    # Print the columns and their correlation values\n",
    "    for col1, col2, corr_value in high_corr_pairs:\n",
    "        print(f\"Columns '{col1}' and '{col2}' have a correlation of {corr_value:.2f}\")\n",
    "\n",
    "print_high_correlation_columns(df)\n"
   ]
  },
  {
   "cell_type": "code",
   "execution_count": null,
   "metadata": {
    "id": "UQo-q_4S7bPX"
   },
   "outputs": [],
   "source": [
    "# # Add a constant to the model (intercept)\n",
    "# X_with_const = add_constant(X)\n",
    "\n",
    "# # Calculate VIF for each feature\n",
    "# vif_data = pd.DataFrame()\n",
    "# vif_data[\"feature\"] = X_with_const.columns\n",
    "# vif_data[\"VIF\"] = [variance_inflation_factor(X_with_const.values, i) for i in range(X_with_const.shape[1])]\n",
    "\n",
    "# # Display VIF values\n",
    "# print(vif_data)"
   ]
  },
  {
   "cell_type": "markdown",
   "metadata": {
    "id": "6tAi3d04BdLJ"
   },
   "source": [
    "#### Based on above data, we can say that:\n",
    "\n",
    "- s1 variable is heavily correlated with s2.\n",
    "- s3 variable is correlated with s4.\n",
    "\n",
    "**Dropping one variable from each of them.**"
   ]
  },
  {
   "cell_type": "code",
   "execution_count": null,
   "metadata": {
    "id": "v55LhF4X7bPY"
   },
   "outputs": [],
   "source": [
    "# Dropping the correlated feature\n",
    "cols_to_drop_for_multicollinearity_removal = [\n",
    "    \"s2\", \"s4\"\n",
    "]\n",
    "df = df.drop(cols_to_drop_for_multicollinearity_removal, axis=1)"
   ]
  },
  {
   "cell_type": "code",
   "execution_count": null,
   "metadata": {
    "colab": {
     "base_uri": "https://localhost:8080/"
    },
    "id": "xsZ5YNO47bPY",
    "outputId": "1eb60a85-4da8-4615-e04b-01aeaca53724"
   },
   "outputs": [],
   "source": [
    "# Save the updated dataframe to the parquet file\n",
    "df.to_parquet('cleaned_diabietes_dataset.parquet')\n",
    "print(f\"The cleaned_diabietes_dataset file is saved successfully!\")"
   ]
  },
  {
   "cell_type": "markdown",
   "metadata": {
    "id": "RCQKkQet7bPY"
   },
   "source": [
    "## Modelling\n",
    "----"
   ]
  },
  {
   "cell_type": "code",
   "execution_count": null,
   "metadata": {
    "colab": {
     "base_uri": "https://localhost:8080/",
     "height": 223
    },
    "id": "DQ0vkeGN7bPY",
    "outputId": "58c2b8ee-7fd6-4887-c9c6-b683b5e093e8",
    "scrolled": true
   },
   "outputs": [],
   "source": [
    "# Load the cleaned dataset to perform modelling\n",
    "df = pd.read_parquet('cleaned_diabietes_dataset.parquet')\n",
    "print(f\"The shape of loaded cleaned diabietes dataset is {df.shape}\")\n",
    "df.head()"
   ]
  },
  {
   "cell_type": "markdown",
   "metadata": {
    "id": "jW8Od4-77bPY"
   },
   "source": [
    "#### Train - Test Split"
   ]
  },
  {
   "cell_type": "markdown",
   "metadata": {
    "id": "meyBZVfq7bPY"
   },
   "source": [
    "### Q5: Split the Dataset into Training and Test Sets"
   ]
  },
  {
   "cell_type": "code",
   "execution_count": null,
   "metadata": {
    "colab": {
     "base_uri": "https://localhost:8080/"
    },
    "id": "js076zDv7bPY",
    "outputId": "fd6f9dff-e590-48ca-e5ec-bbc6285a770b"
   },
   "outputs": [],
   "source": [
    "# Defining Features and Target\n",
    "\n",
    "# Get feature names from the DataFrame\n",
    "feature_names = df.drop(\"target\", axis=1).columns.tolist()\n",
    "print(\"Feature names:\", feature_names)\n",
    "target_names = \"target\"\n",
    "print(\"Target names:\", target_names)\n",
    "\n",
    "X = df.drop('target', axis=1)\n",
    "y = df['target']\n",
    "\n",
    "# Splitting the data to the train and test\n",
    "X_train, X_test, y_train, y_test = train_test_split(X, y, test_size=0.2, random_state=RANDOM_STATE)"
   ]
  },
  {
   "cell_type": "code",
   "execution_count": null,
   "metadata": {
    "colab": {
     "base_uri": "https://localhost:8080/",
     "height": 66,
     "referenced_widgets": [
      "d23f96e754ac49adacd03c23880f007a",
      "08e77dc6747a42f187ee1a46901ad484",
      "1f9ab18d01874bd0bf78286ba8896631",
      "fb56759a010f4b8f9d2940feb9440cb5",
      "d412404f7d2443bfaddc932082c5b89f",
      "161fe67c191b43dc8ba23f6a1ed30b14",
      "a39dcd9fea134075b6149d927984302c",
      "f7c55c0a9a93476f923d3e0f00f102d7",
      "3395be2ad1fb45a2a5852a5a61f6f638",
      "38919abf35994df5a3d8a6026c15f450",
      "8afc20954d0749d2849e1c3003849742"
     ]
    },
    "id": "GDseoUvh7bPY",
    "outputId": "9752ce79-ac83-4beb-867c-08c796bc3c4c"
   },
   "outputs": [],
   "source": [
    "# Combine the features and target for train and test sets\n",
    "train_df = pd.concat([X_train.reset_index(drop=True), y_train.reset_index(drop=True)], axis=1)\n",
    "test_df = pd.concat([X_test.reset_index(drop=True), y_test.reset_index(drop=True)], axis=1)\n",
    "\n",
    "# Generate the Sweetviz report\n",
    "compare_report = sv.compare([train_df, \"Train\"], [test_df, \"Test\"])\n",
    "\n",
    "# Save the report to an HTML file\n",
    "compare_report.show_html('sweetviz_report_pred_diabetes_train_test_comparison.html')"
   ]
  },
  {
   "cell_type": "code",
   "execution_count": null,
   "metadata": {
    "colab": {
     "base_uri": "https://localhost:8080/",
     "height": 797
    },
    "id": "UsAvNqY9rE4m",
    "outputId": "01df1cf1-3503-4577-86bd-ca7dfa599bf4"
   },
   "outputs": [],
   "source": [
    "marginal = Marginal(feature_names).explain_data(X_train, y_train, name='Train Data')\n",
    "show(marginal)"
   ]
  },
  {
   "cell_type": "markdown",
   "metadata": {
    "id": "BhNLxOI77bPY"
   },
   "source": [
    "### Q6: Train the Model Using Training Dataset"
   ]
  },
  {
   "cell_type": "markdown",
   "metadata": {
    "id": "rZn5LbD_7bPY"
   },
   "source": [
    "#### Applying Linear Regression:\n",
    "- Working: A linear approach to modeling the relationship between a dependent variable and one or more independent variables by fitting a linear equation.\n",
    "- Advantages: Simple to implement and interpret, computationally efficient.\n",
    "- Disadvantages: Assumes a linear relationship, sensitive to outliers, can underperform when the relationship is non-linear.\n",
    "- Parameters: No specific parameters in the basic model, but in practice, features may be standardized."
   ]
  },
  {
   "cell_type": "code",
   "execution_count": null,
   "metadata": {
    "colab": {
     "base_uri": "https://localhost:8080/",
     "height": 74
    },
    "id": "ZjcY73Vt7bPY",
    "outputId": "b465a43b-951c-4c51-ff39-29db89417fdc"
   },
   "outputs": [],
   "source": [
    "# Initialize and train a Linear Regression model\n",
    "model = LinearRegression()\n",
    "model.fit(X_train, y_train)"
   ]
  },
  {
   "cell_type": "markdown",
   "metadata": {
    "id": "BqWo38Na7bPZ"
   },
   "source": [
    "### Q7: Generate Predictions Using Test Dataset"
   ]
  },
  {
   "cell_type": "code",
   "execution_count": null,
   "metadata": {
    "id": "EMOnnIGQ7bPZ"
   },
   "outputs": [],
   "source": [
    "# Predict on the test set\n",
    "y_pred = model.predict(X_test)"
   ]
  },
  {
   "cell_type": "markdown",
   "metadata": {
    "id": "8p-1VV8u7bPZ"
   },
   "source": [
    "### Q8: Calculate MSE for the Predictions"
   ]
  },
  {
   "cell_type": "markdown",
   "metadata": {
    "id": "zrn-HccFBuPu"
   },
   "source": [
    "##### Mean Squared Error (MSE)\n",
    "\n",
    "**Mean Squared Error (MSE)** is a commonly used metric for evaluating the performance of regression models. It measures the average of the squares of the errors, which are the differences between the predicted values and the actual values.\n",
    "\n",
    "### Interpretation\n",
    "- **MSE measures the average squared difference between the predicted and actual values.**\n",
    "- **A lower MSE indicates better model performance**, as it means the predicted values are closer to the actual values.\n",
    "- **MSE is sensitive to outliers** because it squares the errors, making larger errors have a disproportionately large impact.\n",
    "\n",
    "### Applications\n",
    "MSE is widely used in various contexts, including:\n",
    "- Evaluating the performance of regression models.\n",
    "- Comparing different models to select the best one.\n",
    "- Fine-tuning hyperparameters to minimize prediction errors.\n",
    "\n",
    "### Example\n",
    "Suppose you have a model that predicts house prices and you want to evaluate its performance using MSE. You would compute the MSE by comparing the predicted house prices with the actual house prices from a test dataset. If the MSE is low, the model's predictions are close to the actual prices, indicating good performance.\n"
   ]
  },
  {
   "cell_type": "code",
   "execution_count": null,
   "metadata": {
    "colab": {
     "base_uri": "https://localhost:8080/"
    },
    "id": "r1xO9vU27bPZ",
    "outputId": "ba0a7a17-c852-4d63-a820-205eb272e7f9"
   },
   "outputs": [],
   "source": [
    "mse = mean_squared_error(y_test, y_pred)\n",
    "mse"
   ]
  },
  {
   "cell_type": "markdown",
   "metadata": {
    "id": "903ax5L57bPZ"
   },
   "source": [
    "### Q9: Evaluate Your Models"
   ]
  },
  {
   "cell_type": "markdown",
   "metadata": {
    "id": "ROj-pzBQ7bPZ"
   },
   "source": [
    "To evaluate the model, we consider metrics like Mean Squared Error (MSE), R-squared, and visual inspection of residuals."
   ]
  },
  {
   "cell_type": "code",
   "execution_count": null,
   "metadata": {
    "colab": {
     "base_uri": "https://localhost:8080/",
     "height": 537
    },
    "id": "agMHWeh87bPZ",
    "outputId": "4d928887-48a9-4b9e-fad4-515621825db4"
   },
   "outputs": [],
   "source": [
    "# Calculate R-squared\n",
    "r_squared = model.score(X_test, y_test)\n",
    "\n",
    "# Residuals\n",
    "residuals = y_test - y_pred\n",
    "\n",
    "# Plot residuals\n",
    "plt.scatter(y_pred, residuals)\n",
    "plt.xlabel('Predicted Values')\n",
    "plt.ylabel('Residuals')\n",
    "plt.title('Residual Plot')\n",
    "plt.axhline(0, color='red', linestyle='--')\n",
    "plt.show()\n",
    "\n",
    "r_squared, mse"
   ]
  },
  {
   "cell_type": "code",
   "execution_count": null,
   "metadata": {
    "colab": {
     "base_uri": "https://localhost:8080/"
    },
    "id": "SoGER-mTWhP0",
    "outputId": "cd532e59-faa2-4d89-d29c-f5c2e19d4322"
   },
   "outputs": [],
   "source": [
    "# Calculate the Adjusted R-squared\n",
    "def adjusted_r2(r2, n, p):\n",
    "    \"\"\"\n",
    "    Calculate the adjusted R-squared value.\n",
    "\n",
    "    Adjusted R-squared adjusts the R-squared value for the number of predictors in the model.\n",
    "    It provides a more accurate measure of model performance when comparing models with different numbers of features.\n",
    "\n",
    "    Parameters:\n",
    "    r2 (float): The R-squared value of the model.\n",
    "    n (int): The number of observations (data points) used in the model.\n",
    "    p (int): The number of predictors (features) in the model.\n",
    "\n",
    "    Returns:\n",
    "    float: The adjusted R-squared value.\n",
    "    \"\"\"\n",
    "    return 1 - (1 - r2) * (n - 1) / (n - p - 1)\n",
    "\n",
    "# Get the number of observations and features\n",
    "n = len(y_test)\n",
    "p = X_test.shape[1]\n",
    "\n",
    "adj_r2 = adjusted_r2(r_squared, n, p)\n",
    "print(f\"Adjusted R-squared: {adj_r2}\")"
   ]
  },
  {
   "cell_type": "raw",
   "metadata": {
    "id": "yelp1aQt7bPZ"
   },
   "source": [
    "Given the simplicity and interpretability, Linear Regression is a good starting point.\n",
    "\n",
    "For more complex models, we would explore Ridge, Lasso, or more advanced techniques like Gradient Boosting or Neural Networks, depending on data complexity and performance needs."
   ]
  },
  {
   "cell_type": "markdown",
   "metadata": {
    "id": "FcGNi44H7bPZ"
   },
   "source": [
    "### Q11: Model Monitoring Strategy and Key Metrics"
   ]
  },
  {
   "cell_type": "markdown",
   "metadata": {
    "id": "s73uL1407bPZ"
   },
   "source": [
    "**A. Model Monitoring Strategy:**\n",
    "- Regular Performance Evaluation: Continuously monitoring MSE and R-squared to ensure consistent performance.\n",
    "- Drift Detection: Monitoring for changes in the distribution of input features or the target variable.\n",
    "- Recalibration: Updating the model with new data periodically to maintain accuracy.\n",
    "- Residual Analysis: Regularly analyzing residuals to detect any patterns indicating model issues"
   ]
  },
  {
   "cell_type": "markdown",
   "metadata": {
    "id": "SP4Nc9GN7bPZ"
   },
   "source": [
    "**B. Key Performance Metrics:**\n",
    "- Mean Squared Error (MSE): To measure the average squared difference between the predicted and actual values.\n",
    "- R-squared: To understand the proportion of variance explained by the model."
   ]
  },
  {
   "cell_type": "markdown",
   "metadata": {
    "id": "8s-EKE4v7bPZ"
   },
   "source": [
    "### Applying Smaller Decision tree for easy of visualization\n",
    "- Working: Splits the data into subsets based on feature values to predict the target variable. The max_depth parameter limits the depth of the tree.\n",
    "- Advantages: Easy to interpret, handles both numerical and categorical data, captures non-linear relationships.\n",
    "- Disadvantages: Prone to overfitting, especially with high-depth trees; sensitive to small changes in the data.\n",
    "- Parameters:\n",
    "    - max_depth=3: Limits the depth of the tree to prevent overfitting"
   ]
  },
  {
   "cell_type": "code",
   "execution_count": null,
   "metadata": {
    "colab": {
     "base_uri": "https://localhost:8080/",
     "height": 842
    },
    "id": "3S7zsTNr7bPZ",
    "outputId": "754c0ba1-5db3-446b-9d8a-d8801834b747"
   },
   "outputs": [],
   "source": [
    "# Initialize and train the Decision Tree Regressor with max_depth\n",
    "df_reg_small = DecisionTreeRegressor(max_depth=3, random_state=42)\n",
    "df_reg_small.fit(X_train, y_train)\n",
    "\n",
    "# Generate predictions on the test set\n",
    "y_pred_dt = df_reg_small.predict(X_test)\n",
    "\n",
    "# Calculate Mean Squared Error (MSE)\n",
    "mse_dt = mean_squared_error(y_test, y_pred_dt)\n",
    "print(f\"Decision Tree Mean Squared Error with max_depth=3: {mse_dt}\")\n",
    "\n",
    "# Calculate R-squared\n",
    "r_squared_dt = df_reg_small.score(X_test, y_test)\n",
    "print(f\"R-squared with max_depth=3: {r_squared_dt}\")\n",
    "\n",
    "# Plot the decision tree\n",
    "plt.figure(figsize=(20, 10))\n",
    "plot_tree(df_reg_small, feature_names=diabetes.feature_names, filled=True)\n",
    "plt.show()"
   ]
  },
  {
   "cell_type": "markdown",
   "metadata": {
    "id": "DXeYcC1i7bPa"
   },
   "source": [
    "### Applying DT"
   ]
  },
  {
   "cell_type": "code",
   "execution_count": null,
   "metadata": {
    "colab": {
     "base_uri": "https://localhost:8080/",
     "height": 842
    },
    "id": "peC8ZxcX7bPa",
    "outputId": "b042689e-93bb-444e-b1f7-26144990043e"
   },
   "outputs": [],
   "source": [
    "# Train a Decision Tree model\n",
    "dt_reg = DecisionTreeRegressor(random_state=RANDOM_STATE)\n",
    "dt_reg.fit(X_train, y_train)\n",
    "\n",
    "# Generate predictions\n",
    "y_pred_dt = dt_reg.predict(X_test)\n",
    "\n",
    "# Calculate Mean Squared Error (MSE)\n",
    "mse_dt = mean_squared_error(y_test, y_pred_dt)\n",
    "print(f\"Decision Tree Mean Squared Error: {mse_dt}\")\n",
    "\n",
    "# Calculate R-squared\n",
    "r_squared_dt = dt_reg.score(X_test, y_test)\n",
    "print(f\"R-squared: {r_squared_dt}\")\n",
    "\n",
    "# Plot the decision tree\n",
    "plt.figure(figsize=(20, 10))\n",
    "plot_tree(dt_reg, feature_names=diabetes.feature_names, filled=True)\n",
    "plt.show()"
   ]
  },
  {
   "cell_type": "markdown",
   "metadata": {
    "id": "vnQYaqg67bPa"
   },
   "source": [
    "Note:\n",
    "- Large Trees Not Displaying:\n",
    "    If the tree is too large, plot_tree might not render it correctly. We can try limiting the depth of the tree:"
   ]
  },
  {
   "cell_type": "markdown",
   "metadata": {
    "id": "FU93Xbe57bPa"
   },
   "source": [
    "### Applying Ridge Regression\n",
    "- Working: Linear regression with L2 regularization, which penalizes the magnitude of coefficients to prevent overfitting.\n",
    "- Advantages: Reduces model complexity, less sensitive to multicollinearity.\n",
    "- Disadvantages: May still be affected by multicollinearity, less interpretable coefficients.\n",
    "- Parameters:\n",
    "    - alpha=1.0: Regularization strength; higher values imply stronger regularization."
   ]
  },
  {
   "cell_type": "code",
   "execution_count": null,
   "metadata": {
    "colab": {
     "base_uri": "https://localhost:8080/"
    },
    "id": "hloqPv-g7bPa",
    "outputId": "3d854259-c9e1-4596-cd63-0880e471a253"
   },
   "outputs": [],
   "source": [
    "ridge_model = Ridge(alpha=1.0)\n",
    "ridge_model.fit(X_train, y_train)\n",
    "y_pred_ridge = ridge_model.predict(X_test)\n",
    "mse_ridge = mean_squared_error(y_test, y_pred_ridge)\n",
    "print(f\"Ridge Regression MSE: {mse_ridge}\")"
   ]
  },
  {
   "cell_type": "markdown",
   "metadata": {
    "id": "e-kfk5wF7bPa"
   },
   "source": [
    "### Applying Lasso Regression\n",
    "- Working: Linear regression with L1 regularization, which can shrink some coefficients to zero, effectively performing feature selection.\n",
    "- Advantages: Can select important features, reducing model complexity.\n",
    "- Disadvantages: May discard useful variables, sensitive to outliers.\n",
    "- Parameters:\n",
    "    - alpha=0.1: Regularization strength; higher values imply stronger regularization."
   ]
  },
  {
   "cell_type": "code",
   "execution_count": null,
   "metadata": {
    "colab": {
     "base_uri": "https://localhost:8080/"
    },
    "id": "pKGfn17s7bPa",
    "outputId": "973d16fd-4036-45c1-b173-d1d78ba2595c"
   },
   "outputs": [],
   "source": [
    "lasso_model = Lasso(alpha=0.1)\n",
    "lasso_model.fit(X_train, y_train)\n",
    "y_pred_lasso = lasso_model.predict(X_test)\n",
    "mse_lasso = mean_squared_error(y_test, y_pred_lasso)\n",
    "print(f\"Lasso Regression MSE: {mse_lasso}\")"
   ]
  },
  {
   "cell_type": "markdown",
   "metadata": {
    "id": "v-1tDHhw7bPa"
   },
   "source": [
    "### Applying Random Forest Regressor\n",
    "- Working: An ensemble method that fits multiple decision trees and averages their predictions to improve accuracy and control overfitting.\n",
    "- Advantages: Handles non-linear relationships well, reduces overfitting, robust to outliers.\n",
    "- Disadvantages: Can be computationally intensive, less interpretable than single decision trees.\n",
    "- Parameters:\n",
    "    - n_estimators=N_ESTIMATORS: Number of trees in the forest.\n",
    "    - random_state=RANDOM_STATE: Ensures reproducibility."
   ]
  },
  {
   "cell_type": "code",
   "execution_count": null,
   "metadata": {
    "colab": {
     "base_uri": "https://localhost:8080/"
    },
    "id": "h-2Ievg07bPa",
    "outputId": "0cd81b28-9ec1-4878-b30d-c8b575eacb4d"
   },
   "outputs": [],
   "source": [
    "rf_model = RandomForestRegressor(n_estimators=100, random_state=42)\n",
    "rf_model.fit(X_train, y_train)\n",
    "y_pred_rf = rf_model.predict(X_test)\n",
    "mse_rf = mean_squared_error(y_test, y_pred_rf)\n",
    "print(f\"Random Forest MSE: {mse_rf}\")"
   ]
  },
  {
   "cell_type": "markdown",
   "metadata": {
    "id": "XU-p3kDV7bPa"
   },
   "source": [
    "### Applying Gradient Boosting Regressor\n",
    "- Working: Sequentially builds trees, with each tree correcting the errors of the previous ones. It's a form of boosting.\n",
    "- Advantages: High predictive accuracy, handles complex data well.\n",
    "- Disadvantages: Prone to overfitting, sensitive to hyperparameters, computationally expensive.\n",
    "- Parameters:\n",
    "    - n_estimators=N_ESTIMATORS: Number of boosting stages.\n",
    "    - random_state=RANDOM_STATE: Ensures reproducibility."
   ]
  },
  {
   "cell_type": "code",
   "execution_count": null,
   "metadata": {
    "colab": {
     "base_uri": "https://localhost:8080/"
    },
    "id": "EaTOXUtr7bPa",
    "outputId": "6373f208-c629-4a6e-e966-8f9052a47dd6"
   },
   "outputs": [],
   "source": [
    "gb_model = GradientBoostingRegressor(n_estimators=100, random_state=42)\n",
    "gb_model.fit(X_train, y_train)\n",
    "y_pred_gb = gb_model.predict(X_test)\n",
    "mse_gb = mean_squared_error(y_test, y_pred_gb)\n",
    "print(f\"Gradient Boosting MSE: {mse_gb}\")"
   ]
  },
  {
   "cell_type": "markdown",
   "metadata": {
    "id": "g8rGchrS7bPa"
   },
   "source": [
    "### Applying Support Vector Machines\n",
    "- Working: Uses a kernel trick to transform data and find a hyperplane that best fits the target values with minimal error.\n",
    "- Advantages: Effective in high-dimensional spaces, robust to outliers (with appropriate loss function).\n",
    "- Disadvantages: Not scalable to large datasets, sensitive to parameter tuning.\n",
    "- Parameters:\n",
    "    - kernel='rbf': Radial basis function kernel, which handles non-linear relationships."
   ]
  },
  {
   "cell_type": "code",
   "execution_count": null,
   "metadata": {
    "colab": {
     "base_uri": "https://localhost:8080/"
    },
    "id": "esgotUIn7bPa",
    "outputId": "c6376cca-58df-4832-ffa3-fa5b26798898"
   },
   "outputs": [],
   "source": [
    "svr_model = SVR(kernel='rbf')\n",
    "svr_model.fit(X_train, y_train)\n",
    "y_pred_svr = svr_model.predict(X_test)\n",
    "mse_svr = mean_squared_error(y_test, y_pred_svr)\n",
    "print(f\"SVR MSE: {mse_svr}\")"
   ]
  },
  {
   "cell_type": "markdown",
   "metadata": {
    "id": "TQqMKwaFB-f-"
   },
   "source": [
    "### Applying KNeighborsRegressor\n",
    "- Working: Predicts target values based on the average of the k-nearest neighbors.\n",
    "- Advantages: Simple to implement, no training phase, can capture complex relationships.\n",
    "- Disadvantages: Computationally expensive for large datasets, sensitive to the choice of k and distance metric.\n",
    "- Parameters:\n",
    "    - n_neighbors=5: Number of neighbors considered for prediction."
   ]
  },
  {
   "cell_type": "code",
   "execution_count": null,
   "metadata": {
    "colab": {
     "base_uri": "https://localhost:8080/"
    },
    "id": "aMtCofGs7bPb",
    "outputId": "b7889504-3622-492a-eda6-092200b128e3"
   },
   "outputs": [],
   "source": [
    "knn_model = KNeighborsRegressor(n_neighbors=5)\n",
    "knn_model.fit(X_train, y_train)\n",
    "y_pred_knn = knn_model.predict(X_test)\n",
    "mse_knn = mean_squared_error(y_test, y_pred_knn)\n",
    "print(f\"KNN Regressor MSE: {mse_knn}\")"
   ]
  },
  {
   "cell_type": "markdown",
   "metadata": {
    "id": "XVnQ4DviCK8N"
   },
   "source": [
    "### Applying MLPRegressor ((Multilayer Perceptron))\n",
    "- Working: A feedforward neural network with multiple layers and non-linear activation functions.\n",
    "- Advantages: Capable of learning complex relationships, flexible architecture.\n",
    "- Disadvantages: Requires significant tuning, prone to overfitting, computationally intensive.\n",
    "- Parameters:\n",
    "    - hidden_layer_sizes=(100,): Specifies the number of neurons in the hidden layers.\n",
    "    - max_iter=1000: Maximum number of iterations during training.\n",
    "    - random_state=RANDOM_STATE: Ensures reproducibility."
   ]
  },
  {
   "cell_type": "code",
   "execution_count": null,
   "metadata": {
    "colab": {
     "base_uri": "https://localhost:8080/"
    },
    "id": "ZhNxt6zL7bPb",
    "outputId": "ea221cd7-7b32-4fde-dd48-4c928e6d0ecf"
   },
   "outputs": [],
   "source": [
    "mlp_model = MLPRegressor(hidden_layer_sizes=(100,), max_iter=1000, random_state=42)\n",
    "mlp_model.fit(X_train, y_train)\n",
    "y_pred_mlp = mlp_model.predict(X_test)\n",
    "mse_mlp = mean_squared_error(y_test, y_pred_mlp)\n",
    "print(f\"MLP Regressor MSE: {mse_mlp}\")"
   ]
  },
  {
   "cell_type": "markdown",
   "metadata": {
    "id": "jTTGbkgs7bPb"
   },
   "source": [
    "### Evaluate Multiple Models and Store the Results for Comparison\n",
    "\n",
    "- **LightGBM Regressor**\n",
    "    - Working: A gradient boosting framework that uses tree-based learning algorithms, optimized for speed and efficiency.\n",
    "    - Advantages: Fast training speed, low memory usage, can handle large datasets.\n",
    "    - Disadvantages: Sensitive to overfitting, requires careful tuning of hyperparameters.\n",
    "    - Parameters:\n",
    "        - objective='regression': Specifies the type of model.\n",
    "        - metric='mse': Evaluation metric.\n",
    "        - random_state=RANDOM_STATE: Ensures reproducibility.\n",
    "\n",
    "- **XGBoost Regressor**\n",
    "    - Working: An optimized gradient boosting framework that provides parallel tree boosting and is faster than other gradient boosting algorithms.\n",
    "    - Advantages: High predictive accuracy, handles missing values, effective for large datasets.\n",
    "    - Disadvantages: Can be prone to overfitting, sensitive to hyperparameters.\n",
    "    - Parameters:\n",
    "        - objective='reg:squarederror': Specifies the type of model for regression tasks.\n",
    "        - random_state=42: Ensures reproducibility.\n",
    "\n",
    "- **Explainable Boosting Machine (EBM) Regressor**\n",
    "  - Working: An interpretable model that combines additive models with boosting to provide clear feature contributions and interactions.\n",
    "  - Advantages:\n",
    "    - Interpretable: Easy to understand feature impacts.\n",
    "    - Flexible: Handles various data types and interactions.\n",
    "    - Competitive Performance: High performance while maintaining transparency.\n",
    "  - Disadvantages:\n",
    "    - Computational Cost: May be slower than simpler models.\n",
    "    - Feature Engineering: Requires careful feature selection.\n",
    "  - Parameters:\n",
    "    - feature_names: Names of the features.\n",
    "    - interactions=0: No feature interactions (main effects only).\n",
    "    - max_bins=256: Maximum bins per feature for representation.\n",
    "    - random_state: Ensures reproducibility.\n",
    "\n",
    "- **Pipeline with PCA and Random Forest**\n",
    "  - Working: This pipeline first applies Principal Component Analysis (PCA) for dimensionality reduction and then fits a RandomForestRegressor to the transformed data. PCA reduces the feature space, which can improve the efficiency and effectiveness of the RandomForestRegressor.\n",
    " - Advantages:\n",
    "    - Reduces feature space, improving efficiency.\n",
    "    - RandomForest handles complex relationships well.\n",
    "  - Disadvantages:\n",
    "    - PCA can lose interpretability.\n",
    "    - RandomForest requires careful tuning.\n",
    "  - Parameters:\n",
    "    - pca: Reduces dimensions.\n",
    "    - rf: Performs regression.\n",
    "    - random_state=RANDOM_STATE: Ensures reproducibility."
   ]
  },
  {
   "cell_type": "code",
   "execution_count": null,
   "metadata": {
    "id": "GItmDOe07bPb",
    "scrolled": true
   },
   "outputs": [],
   "source": [
    "# Initialize list to store results\n",
    "results = []\n",
    "\n",
    "# List of models\n",
    "models = {\n",
    "    \"Linear Regression\": LinearRegression(),\n",
    "    \"Decision Tree Small\": DecisionTreeRegressor(\n",
    "        max_depth=3,\n",
    "        random_state=RANDOM_STATE\n",
    "    ),\n",
    "    \"Decision Tree Regressor\": DecisionTreeRegressor(\n",
    "        random_state=RANDOM_STATE\n",
    "    ),\n",
    "    \"Ridge Regression\": Ridge(alpha=1.0),\n",
    "    \"Lasso Regression\": Lasso(alpha=0.1),\n",
    "    \"Random Forest\": RandomForestRegressor\n",
    "     (n_estimators=N_ESTIMATORS,\n",
    "      random_state=RANDOM_STATE\n",
    "    ),\n",
    "    \"Gradient Boosting\": GradientBoostingRegressor(\n",
    "        n_estimators=N_ESTIMATORS,\n",
    "        random_state=RANDOM_STATE\n",
    "    ),\n",
    "    \"SVR\": SVR(kernel='rbf'),\n",
    "    \"KNN Regressor\": KNeighborsRegressor(n_neighbors=5),\n",
    "    \"LightGBM Regressor\": lgb.LGBMRegressor(\n",
    "        objective='regression',\n",
    "        metric='mse',\n",
    "        random_state=RANDOM_STATE,\n",
    "        verbose=-1\n",
    "    ),\n",
    "    \"XGBoost Regressor\":xgb.XGBRegressor(\n",
    "        objective='reg:squarederror',\n",
    "        random_state=RANDOM_STATE\n",
    "    ),\n",
    "    \"MLP Regressor\": MLPRegressor(\n",
    "        hidden_layer_sizes=(100,),\n",
    "        max_iter=1000,\n",
    "        random_state=RANDOM_STATE\n",
    "  ),\n",
    "    \"EBM\": ExplainableBoostingRegressor(\n",
    "        feature_names=feature_names,\n",
    "        interactions=0,\n",
    "        max_bins=256,\n",
    "        random_state=RANDOM_STATE\n",
    "    ),\n",
    "    \"Pipeline with PCA and RF\": Pipeline([\n",
    "        ('pca', PCA()),\n",
    "        ('rf', RandomForestRegressor(\n",
    "            random_state=RANDOM_STATE\n",
    "          ))\n",
    "    ])\n",
    "}"
   ]
  },
  {
   "cell_type": "code",
   "execution_count": null,
   "metadata": {
    "id": "X0tjBaZabrM8"
   },
   "outputs": [],
   "source": [
    "def evaluate_multiple_models(\n",
    "    models,\n",
    "    X, y,\n",
    "    X_train, y_train,\n",
    "    X_test, y_test,\n",
    "    cv_folds,\n",
    "    col_to_rank=\"test_mse\",\n",
    "    suffix_file_name=\"\"\n",
    "):\n",
    "    \"\"\"\n",
    "    Evaluate multiple machine learning models and save their performance metrics.\n",
    "\n",
    "    This function performs cross-validation, trains models, evaluates them on test data,\n",
    "    and calculates performance metrics including Mean Squared Error (MSE), R-squared,\n",
    "    Adjusted R-squared, and the time taken for each model. It also saves each trained model\n",
    "    as a .pkl file and creates a DataFrame with the results.\n",
    "\n",
    "    Parameters:\n",
    "    models (dict): A dictionary where keys are model names and values are model instances.\n",
    "    X (DataFrame): The feature matrix used for cross-validation.\n",
    "    y (Series): The target vector used for cross-validation.\n",
    "    X_train (DataFrame): The training feature matrix.\n",
    "    y_train (Series): The training target vector.\n",
    "    X_test (DataFrame): The test feature matrix.\n",
    "    y_test (Series): The test target vector.\n",
    "    cv_folds (int, optional): The number of cross-validation folds. Default is CV_FOLDS.\n",
    "    col_to_rank (str, optional): The column to rank. Default is \"test_mse\".\n",
    "    suffix_file_name (str, optional): A suffix to be added to the filename. Default is \"\".\n",
    "\n",
    "    Returns:\n",
    "    DataFrame: A DataFrame containing the performance metrics and filenames of the saved models.\n",
    "    \"\"\"\n",
    "    results = []\n",
    "\n",
    "    for model_name, model in models.items():\n",
    "        print(f\"Evaluating {model_name}...\")\n",
    "        start_time = time.time()  # Start timing\n",
    "\n",
    "        # Perform cross-validation on the entire dataset\n",
    "        cv_scores = cross_val_score(model, X, y, cv=cv_folds, scoring='neg_mean_squared_error')\n",
    "        mean_mse = -cv_scores.mean()  # Convert from negative MSE to positive MSE\n",
    "\n",
    "        # Fit the model on the training data\n",
    "        model.fit(X_train, y_train)\n",
    "        # Generate predictions on the test set\n",
    "        y_pred = model.predict(X_test)\n",
    "\n",
    "        # Calculate test set MSE\n",
    "        test_mse = mean_squared_error(y_test, y_pred)\n",
    "        # Calculate test set R-Squared\n",
    "        r_squared = model.score(X_test, y_test)\n",
    "\n",
    "        # Get the number of observations and features\n",
    "        n = len(y_test)\n",
    "        p = X_test.shape[1]\n",
    "        adj_r2 = adjusted_r2(r_squared, n, p)\n",
    "\n",
    "        end_time = time.time()  # End timing\n",
    "        elapsed_time = end_time - start_time  # Calculate elapsed time\n",
    "\n",
    "        # Save the model as a .pkl file\n",
    "        pkl_filename = f\"{model_name.replace(' ', '_') + suffix_file_name}.pkl\"\n",
    "        joblib.dump(model, pkl_filename)\n",
    "\n",
    "        # Append results\n",
    "        results.append({\n",
    "            \"model_name\": model_name,\n",
    "            \"mean_mse\": mean_mse,\n",
    "            \"test_mse\": test_mse,\n",
    "            \"r_squared\": r_squared,\n",
    "            \"adj_r_squared\": adj_r2,\n",
    "            \"time_seconds\": elapsed_time,\n",
    "            \"model_pkl_file\": pkl_filename\n",
    "        })\n",
    "\n",
    "    # Create a DataFrame from results\n",
    "    results_df = pd.DataFrame(results)\n",
    "\n",
    "    # Add ranking column based on \"col_to_rank\" parameter\n",
    "    ranked_col_name = f\"rank_{col_to_rank}\"\n",
    "    results_df[ranked_col_name] = results_df[col_to_rank].rank(ascending=True).astype(\"int64\")\n",
    "    print(f\"The ranking column based on {col_to_rank} has been added as {ranked_col_name}.\")\n",
    "\n",
    "    # Sort the DataFrame by rank\n",
    "    results_df = results_df.sort_values(by=ranked_col_name)\n",
    "\n",
    "    # Save the results dataframe\n",
    "    save_results_file_name = f\"pred_diabetes_eval_results{suffix_file_name}.csv\"\n",
    "    results_df.to_csv(save_results_file_name, index=False)\n",
    "    print(f\"The results dataframe has been saved as {save_results_file_name}.\")\n",
    "\n",
    "    # Display the DataFrame\n",
    "    return results_df"
   ]
  },
  {
   "cell_type": "code",
   "execution_count": null,
   "metadata": {
    "colab": {
     "base_uri": "https://localhost:8080/",
     "height": 766
    },
    "id": "AW6VJIKYbzTx",
    "outputId": "d797700a-7e4c-44fa-8dd5-7f3527ccd36e"
   },
   "outputs": [],
   "source": [
    "# Evaluating multiple models\n",
    "results_df =  evaluate_multiple_models(\n",
    "    models,\n",
    "    X, y,\n",
    "    X_train, y_train,\n",
    "    X_test, y_test,\n",
    "    cv_folds=CV_FOLDS,\n",
    "    col_to_rank=\"test_mse\",\n",
    "    suffix_file_name = \"\" # Format: \"_itr1\"\n",
    ")\n",
    "results_df"
   ]
  },
  {
   "cell_type": "raw",
   "metadata": {
    "id": "2QFFqqYS7bPb"
   },
   "source": [
    "Note:\n",
    "The above table shows the best fit algorithms in the decreasing order."
   ]
  },
  {
   "cell_type": "code",
   "execution_count": null,
   "metadata": {
    "colab": {
     "base_uri": "https://localhost:8080/",
     "height": 766
    },
    "id": "cyzPlsUbCzvH",
    "outputId": "454c4a31-39d4-4b40-805c-fbcd26e1a9d1"
   },
   "outputs": [],
   "source": [
    "# Evaluating multiple models having CV only with Train set\n",
    "results_df_only_train_in_cv =  evaluate_multiple_models(\n",
    "    models,\n",
    "    X=X_train, \n",
    "    y=y_train,\n",
    "    X_train=X_train, \n",
    "    y_train=y_train,\n",
    "    X_test=X_test, \n",
    "    y_test=y_test,\n",
    "    cv_folds=CV_FOLDS,\n",
    "    col_to_rank=\"test_mse\",\n",
    "    suffix_file_name = \"_itr2\"\n",
    ")\n",
    "results_df_only_train_in_cv"
   ]
  },
  {
   "cell_type": "markdown",
   "metadata": {
    "id": "4p_Xg7H7UEmx"
   },
   "source": [
    "### Visualizing the Best Model: **Pipeline with PCA and RF**"
   ]
  },
  {
   "cell_type": "code",
   "execution_count": null,
   "metadata": {
    "colab": {
     "base_uri": "https://localhost:8080/",
     "height": 126
    },
    "id": "E4ZdSgX6Tlhv",
    "outputId": "a2b036fc-b15e-43b8-d759-a7bb1142791f"
   },
   "outputs": [],
   "source": [
    "blackbox_model = joblib.load(\"Pipeline_with_PCA_and_RF.pkl\")\n",
    "blackbox_model"
   ]
  },
  {
   "cell_type": "code",
   "execution_count": null,
   "metadata": {
    "colab": {
     "base_uri": "https://localhost:8080/",
     "height": 317
    },
    "id": "6F8yEBDQGPED",
    "outputId": "9bf8001d-5880-4ab5-9ebe-767d063f72b7"
   },
   "outputs": [],
   "source": [
    "def save_and_return_feature_importances(pipeline, model_name, feature_names):\n",
    "    \"\"\"\n",
    "    Save the feature importances from the model to a CSV file and return the DataFrame.\n",
    "\n",
    "    Parameters:\n",
    "    - pipeline: The trained scikit-learn Pipeline object (with a model that has `feature_importances_`).\n",
    "    - model_name: A string representing the model name to use in the CSV file.\n",
    "    - feature_names: List of feature names used in the model.\n",
    "\n",
    "    Returns:\n",
    "    - feature_importances_df: A DataFrame containing the feature importances.\n",
    "    \"\"\"\n",
    "\n",
    "    # Extract the model from the pipeline (assume the model is the last step)\n",
    "    model = pipeline.named_steps[list(pipeline.named_steps.keys())[-1]]\n",
    "\n",
    "    # Check if the model has feature importances\n",
    "    if hasattr(model, 'feature_importances_'):\n",
    "        # Extract feature importances\n",
    "        importances = model.feature_importances_\n",
    "    else:\n",
    "        raise AttributeError(f\"The model '{model_name}' does not have an attribute 'feature_importances_'.\")\n",
    "\n",
    "    # Create a DataFrame to store the feature importances\n",
    "    feature_importances_df = pd.DataFrame({\n",
    "        'Feature': feature_names,\n",
    "        'Importance': importances\n",
    "    })\n",
    "\n",
    "    # Sort the DataFrame by importance in descending order\n",
    "    feature_importances_df = feature_importances_df.sort_values(by='Importance', ascending=False)\n",
    "\n",
    "    # Save the DataFrame to a CSV file\n",
    "    csv_filename = f'{model_name}_feature_importances.csv'\n",
    "    feature_importances_df.to_csv(csv_filename, index=False)\n",
    "    print(f\"{model_name.title()} Term importances saved to {csv_filename} successfully!\")\n",
    "\n",
    "    # Return the DataFrame\n",
    "    return feature_importances_df\n",
    "\n",
    "# Example usage\n",
    "# Assume rf_model is a trained RandomForestRegressor and X_train is the training data\n",
    "blackbox_feature_names = X_train.columns.tolist()\n",
    "blackbox_feature_importances_df = save_and_return_feature_importances(\n",
    "    blackbox_model,\n",
    "    'PCA_w_RandomForest',\n",
    "    blackbox_feature_names\n",
    ")\n",
    "blackbox_feature_importances_df"
   ]
  },
  {
   "cell_type": "markdown",
   "metadata": {
    "id": "AjxC82AvwAWO"
   },
   "source": [
    "#### Show Blackbox Performance"
   ]
  },
  {
   "cell_type": "code",
   "execution_count": null,
   "metadata": {
    "colab": {
     "base_uri": "https://localhost:8080/",
     "height": 797
    },
    "id": "UBCjMyT5v87w",
    "outputId": "77b7166e-cffc-446b-fe90-ba30544214be"
   },
   "outputs": [],
   "source": [
    "blackbox_perf = RegressionPerf(blackbox_model).explain_perf(X_test, y_test, name='Blackbox')\n",
    "show(blackbox_perf)"
   ]
  },
  {
   "cell_type": "markdown",
   "metadata": {
    "id": "0KKI0LCRwPTz"
   },
   "source": [
    "#### Local Explanations:\n",
    "  - How an individual prediction was made"
   ]
  },
  {
   "cell_type": "code",
   "execution_count": null,
   "metadata": {
    "id": "9Z62wo0JwENI"
   },
   "outputs": [],
   "source": [
    "# Blackbox explainers need a predict function, and optionally a dataset\n",
    "lime = LimeTabular(blackbox_model, X_train, random_state=1)\n",
    "\n",
    "# #Pick the instances to explain, optionally pass in labels if you have them\n",
    "# lime_local = lime.explain_local(X_test[:5], y_test[:5], name='LIME')\n",
    "# show(lime_local, 0)"
   ]
  },
  {
   "cell_type": "code",
   "execution_count": null,
   "metadata": {
    "colab": {
     "base_uri": "https://localhost:8080/",
     "height": 49,
     "referenced_widgets": [
      "b6a50889ae3a4e60a01f7f040c695dda",
      "43b3e7ac9eaf40bca3b1302980f3db45",
      "becb0ffcfb6e4b97a7ff72c859ae4d4f",
      "7a1171b993624e9b8627273f833dbe9b",
      "6051d9d6f1d24ff7b9bb0b5175907b70",
      "67b4d4a0d8bf470281dd2462899e7222",
      "68396abd08544f00b93c85951eb99989",
      "0c5812562a19417faa723df5f145eaea",
      "517d609291104009b5e70faed5882599",
      "9814b35f7161453aa419e7d81c9d4e8f",
      "702d34dc4608488b98800ec6cf4bd403"
     ]
    },
    "id": "z1eH11J601wf",
    "outputId": "524d0aa3-25b3-4235-8049-e9963df38084"
   },
   "outputs": [],
   "source": [
    "background_val = pd.DataFrame(np.median(X_train, axis=0).reshape(1, -1), columns=X.columns)\n",
    "shap = ShapKernel(blackbox_model, background_val)\n",
    "shap_local = shap.explain_local(X_test[:5], y_test[:5], name='SHAP')"
   ]
  },
  {
   "cell_type": "code",
   "execution_count": null,
   "metadata": {
    "colab": {
     "base_uri": "https://localhost:8080/",
     "height": 797
    },
    "id": "Gmxyxn0K1CT_",
    "outputId": "77f31dc4-0ec0-4588-dcaa-0188dbb0d6e0"
   },
   "outputs": [],
   "source": [
    "show(shap_local)"
   ]
  },
  {
   "cell_type": "markdown",
   "metadata": {
    "id": "bPqL912P1Cow"
   },
   "source": [
    "#### Global Explanations:\n",
    "  - How the model behaves overall"
   ]
  },
  {
   "cell_type": "code",
   "execution_count": null,
   "metadata": {
    "colab": {
     "base_uri": "https://localhost:8080/",
     "height": 797
    },
    "id": "Xvg2lEhJ1A8Q",
    "outputId": "5a0d81d6-0957-45f3-e632-573548ac339b",
    "scrolled": true
   },
   "outputs": [],
   "source": [
    "from interpret.blackbox import MorrisSensitivity\n",
    "\n",
    "sensitivity = MorrisSensitivity(blackbox_model, X_train)\n",
    "sensitivity_global = sensitivity.explain_global(name=\"Global Sensitivity\")\n",
    "\n",
    "show(sensitivity_global)"
   ]
  },
  {
   "cell_type": "code",
   "execution_count": null,
   "metadata": {
    "colab": {
     "base_uri": "https://localhost:8080/",
     "height": 797
    },
    "id": "z8YyHXhV1jTP",
    "outputId": "19e4ed52-db3e-4eb3-8873-215037732533"
   },
   "outputs": [],
   "source": [
    "from interpret.blackbox import PartialDependence\n",
    "\n",
    "pdp = PartialDependence(blackbox_model, X_train)\n",
    "pdp_global = pdp.explain_global(name='Partial Dependence')\n",
    "\n",
    "show(pdp_global, 0)"
   ]
  },
  {
   "cell_type": "markdown",
   "metadata": {
    "id": "5o0DomjG8kX0"
   },
   "source": [
    "## Enhancing Interpretability of the Models Using InterpretML"
   ]
  },
  {
   "cell_type": "code",
   "execution_count": null,
   "metadata": {
    "colab": {
     "base_uri": "https://localhost:8080/",
     "height": 109
    },
    "id": "bu23KmmtnKYn",
    "outputId": "e87996c9-f3e6-4e73-c88e-55916b159ed7"
   },
   "outputs": [],
   "source": [
    "# Reload the EBM pickle to generate visulaization plots\n",
    "ebm_model = joblib.load(\"EBM.pkl\")\n",
    "ebm_model"
   ]
  },
  {
   "cell_type": "markdown",
   "metadata": {
    "id": "he4mjL0wtYps"
   },
   "source": [
    "#### Global Explanations:\n",
    "  - What the model learned overall"
   ]
  },
  {
   "cell_type": "code",
   "execution_count": null,
   "metadata": {
    "colab": {
     "base_uri": "https://localhost:8080/",
     "height": 797
    },
    "id": "bPlh5LQloiS4",
    "outputId": "e8e04bab-580f-4451-8492-7894692c58bd"
   },
   "outputs": [],
   "source": [
    "# Explain the model using the trained data\n",
    "train_explanation = ebm_model.explain_global(name='Train Data')\n",
    "\n",
    "# Show the explanation for the regression model\n",
    "show(train_explanation)"
   ]
  },
  {
   "cell_type": "markdown",
   "metadata": {
    "id": "Lk2hAgUb28vd"
   },
   "source": [
    "#### Generating the Term Importances from the dataframe and saving it"
   ]
  },
  {
   "cell_type": "code",
   "execution_count": null,
   "metadata": {
    "id": "J8ADveynEQUe"
   },
   "outputs": [],
   "source": [
    "def save_and_return_term_importances(model, model_name):\n",
    "    \"\"\"\n",
    "    Save the term importances from the EBM model to a CSV file and return the DataFrame.\n",
    "\n",
    "    Parameters:\n",
    "    - ebm_model: The fitted Explainable Boosting Machine model.\n",
    "    - model_name: A string representing the model name to use in the CSV file.\n",
    "\n",
    "    Returns:\n",
    "    - term_importances_df: A DataFrame containing the term importances.\n",
    "    \"\"\"\n",
    "    # Extract term importances and term names\n",
    "    importances = model.term_importances()\n",
    "    names = model.term_names_\n",
    "\n",
    "    # Create a DataFrame to store the term importances\n",
    "    term_importances_df = pd.DataFrame({\n",
    "        'Feature': names,\n",
    "        'Importance': importances\n",
    "    })\n",
    "\n",
    "    # Sort the DataFrame by importance in descending order\n",
    "    term_importances_df = term_importances_df.sort_values(by='Importance', ascending=False)\n",
    "\n",
    "    # Save the DataFrame to a CSV file\n",
    "    csv_filename = f'{model_name}_term_importances.csv'\n",
    "    term_importances_df.to_csv(csv_filename, index=False)\n",
    "    print(f\"{model_name.title()} Term importances saved to {csv_filename} successfully!\")\n",
    "\n",
    "    # Return the DataFrame\n",
    "    return term_importances_df"
   ]
  },
  {
   "cell_type": "code",
   "execution_count": null,
   "metadata": {
    "colab": {
     "base_uri": "https://localhost:8080/",
     "height": 317
    },
    "id": "n97Nl8E3EkFV",
    "outputId": "92784ff6-bcc1-4ff9-8a27-61e659514d5b"
   },
   "outputs": [],
   "source": [
    "# Get the Term Importances for the Explainable Boosting Machine model\n",
    "ebm_term_importances_df = save_and_return_term_importances(ebm_model, \"ebm\")\n",
    "ebm_term_importances_df"
   ]
  },
  {
   "cell_type": "markdown",
   "metadata": {
    "id": "bWdTdWT-tgAO"
   },
   "source": [
    "#### Local Explanations:\n",
    "  - How an individual prediction was made"
   ]
  },
  {
   "cell_type": "code",
   "execution_count": null,
   "metadata": {
    "colab": {
     "base_uri": "https://localhost:8080/",
     "height": 797
    },
    "id": "GxACf75zqcAj",
    "outputId": "e2381889-35ac-4716-d81b-5b501c255e3c"
   },
   "outputs": [],
   "source": [
    "ebm_local = ebm_model.explain_local(X_test[:5], y_test[:5], name='EBM')\n",
    "show(ebm_local, 0)"
   ]
  },
  {
   "cell_type": "markdown",
   "metadata": {
    "id": "N1Lyh_NAtxJM"
   },
   "source": [
    "#### Evaluate EBM performance"
   ]
  },
  {
   "cell_type": "code",
   "execution_count": null,
   "metadata": {
    "colab": {
     "base_uri": "https://localhost:8080/",
     "height": 797
    },
    "id": "VyDVRTaitwMz",
    "outputId": "f33eb281-bc1d-4eea-e205-bbd88be86394"
   },
   "outputs": [],
   "source": [
    "ebm_perf = RegressionPerf(ebm_model, feature_names).explain_perf(X_test, y_test, name='EBM')\n",
    "show(ebm_perf)"
   ]
  },
  {
   "cell_type": "code",
   "execution_count": null,
   "metadata": {
    "colab": {
     "base_uri": "https://localhost:8080/"
    },
    "id": "G-QsfoC27bPb",
    "outputId": "a07ead2f-c135-429c-f030-1f47538d46f7"
   },
   "outputs": [],
   "source": [
    "# Elapsed time\n",
    "nb_end_time = time.time()\n",
    "nb_elapsed_time = nb_end_time - nb_start_time\n",
    "print(f\"The time taken to run the notebook is: {round(nb_elapsed_time, 2)}\")"
   ]
  },
  {
   "cell_type": "markdown",
   "metadata": {
    "id": "bGJcjRW-7bPb"
   },
   "source": [
    "### Future Scope:"
   ]
  },
  {
   "cell_type": "markdown",
   "metadata": {
    "id": "xKFoiMSNqVzA"
   },
   "source": [
    "\n",
    "\n",
    "*   Hyperparameter tuning can be applied.\n",
    "*   Understanding of the features before normalization would be really helpful."
   ]
  }
 ],
 "metadata": {
  "colab": {
   "provenance": []
  },
  "kernelspec": {
   "display_name": "Python 3 (ipykernel)",
   "language": "python",
   "name": "python3"
  },
  "language_info": {
   "codemirror_mode": {
    "name": "ipython",
    "version": 3
   },
   "file_extension": ".py",
   "mimetype": "text/x-python",
   "name": "python",
   "nbconvert_exporter": "python",
   "pygments_lexer": "ipython3",
   "version": "3.12.4"
  },
  "widgets": {
   "application/vnd.jupyter.widget-state+json": {
    "00c3f086158a45feb31a1e4a8996dcaf": {
     "model_module": "@jupyter-widgets/controls",
     "model_module_version": "1.5.0",
     "model_name": "FloatProgressModel",
     "state": {
      "_dom_classes": [],
      "_model_module": "@jupyter-widgets/controls",
      "_model_module_version": "1.5.0",
      "_model_name": "FloatProgressModel",
      "_view_count": null,
      "_view_module": "@jupyter-widgets/controls",
      "_view_module_version": "1.5.0",
      "_view_name": "ProgressView",
      "bar_style": "success",
      "description": "",
      "description_tooltip": null,
      "layout": "IPY_MODEL_8637f8a8ced34f91bb079b44fe743118",
      "max": 1,
      "min": 0,
      "orientation": "horizontal",
      "style": "IPY_MODEL_f9dc8b7f34bb446193ac06a08985743e",
      "value": 1
     }
    },
    "08e77dc6747a42f187ee1a46901ad484": {
     "model_module": "@jupyter-widgets/controls",
     "model_module_version": "1.5.0",
     "model_name": "HTMLModel",
     "state": {
      "_dom_classes": [],
      "_model_module": "@jupyter-widgets/controls",
      "_model_module_version": "1.5.0",
      "_model_name": "HTMLModel",
      "_view_count": null,
      "_view_module": "@jupyter-widgets/controls",
      "_view_module_version": "1.5.0",
      "_view_name": "HTMLView",
      "description": "",
      "description_tooltip": null,
      "layout": "IPY_MODEL_161fe67c191b43dc8ba23f6a1ed30b14",
      "placeholder": "​",
      "style": "IPY_MODEL_a39dcd9fea134075b6149d927984302c",
      "value": "Done! Use &#x27;show&#x27; commands to display/save.   "
     }
    },
    "0c5812562a19417faa723df5f145eaea": {
     "model_module": "@jupyter-widgets/base",
     "model_module_version": "1.2.0",
     "model_name": "LayoutModel",
     "state": {
      "_model_module": "@jupyter-widgets/base",
      "_model_module_version": "1.2.0",
      "_model_name": "LayoutModel",
      "_view_count": null,
      "_view_module": "@jupyter-widgets/base",
      "_view_module_version": "1.2.0",
      "_view_name": "LayoutView",
      "align_content": null,
      "align_items": null,
      "align_self": null,
      "border": null,
      "bottom": null,
      "display": null,
      "flex": null,
      "flex_flow": null,
      "grid_area": null,
      "grid_auto_columns": null,
      "grid_auto_flow": null,
      "grid_auto_rows": null,
      "grid_column": null,
      "grid_gap": null,
      "grid_row": null,
      "grid_template_areas": null,
      "grid_template_columns": null,
      "grid_template_rows": null,
      "height": null,
      "justify_content": null,
      "justify_items": null,
      "left": null,
      "margin": null,
      "max_height": null,
      "max_width": null,
      "min_height": null,
      "min_width": null,
      "object_fit": null,
      "object_position": null,
      "order": null,
      "overflow": null,
      "overflow_x": null,
      "overflow_y": null,
      "padding": null,
      "right": null,
      "top": null,
      "visibility": null,
      "width": null
     }
    },
    "161fe67c191b43dc8ba23f6a1ed30b14": {
     "model_module": "@jupyter-widgets/base",
     "model_module_version": "1.2.0",
     "model_name": "LayoutModel",
     "state": {
      "_model_module": "@jupyter-widgets/base",
      "_model_module_version": "1.2.0",
      "_model_name": "LayoutModel",
      "_view_count": null,
      "_view_module": "@jupyter-widgets/base",
      "_view_module_version": "1.2.0",
      "_view_name": "LayoutView",
      "align_content": null,
      "align_items": null,
      "align_self": null,
      "border": null,
      "bottom": null,
      "display": null,
      "flex": null,
      "flex_flow": null,
      "grid_area": null,
      "grid_auto_columns": null,
      "grid_auto_flow": null,
      "grid_auto_rows": null,
      "grid_column": null,
      "grid_gap": null,
      "grid_row": null,
      "grid_template_areas": null,
      "grid_template_columns": null,
      "grid_template_rows": null,
      "height": null,
      "justify_content": null,
      "justify_items": null,
      "left": null,
      "margin": null,
      "max_height": null,
      "max_width": null,
      "min_height": null,
      "min_width": null,
      "object_fit": null,
      "object_position": null,
      "order": null,
      "overflow": null,
      "overflow_x": null,
      "overflow_y": null,
      "padding": null,
      "right": null,
      "top": null,
      "visibility": null,
      "width": null
     }
    },
    "1f9ab18d01874bd0bf78286ba8896631": {
     "model_module": "@jupyter-widgets/controls",
     "model_module_version": "1.5.0",
     "model_name": "FloatProgressModel",
     "state": {
      "_dom_classes": [],
      "_model_module": "@jupyter-widgets/controls",
      "_model_module_version": "1.5.0",
      "_model_name": "FloatProgressModel",
      "_view_count": null,
      "_view_module": "@jupyter-widgets/controls",
      "_view_module_version": "1.5.0",
      "_view_name": "ProgressView",
      "bar_style": "success",
      "description": "",
      "description_tooltip": null,
      "layout": "IPY_MODEL_f7c55c0a9a93476f923d3e0f00f102d7",
      "max": 1,
      "min": 0,
      "orientation": "horizontal",
      "style": "IPY_MODEL_3395be2ad1fb45a2a5852a5a61f6f638",
      "value": 1
     }
    },
    "3395be2ad1fb45a2a5852a5a61f6f638": {
     "model_module": "@jupyter-widgets/controls",
     "model_module_version": "1.5.0",
     "model_name": "ProgressStyleModel",
     "state": {
      "_model_module": "@jupyter-widgets/controls",
      "_model_module_version": "1.5.0",
      "_model_name": "ProgressStyleModel",
      "_view_count": null,
      "_view_module": "@jupyter-widgets/base",
      "_view_module_version": "1.2.0",
      "_view_name": "StyleView",
      "bar_color": null,
      "description_width": ""
     }
    },
    "38919abf35994df5a3d8a6026c15f450": {
     "model_module": "@jupyter-widgets/base",
     "model_module_version": "1.2.0",
     "model_name": "LayoutModel",
     "state": {
      "_model_module": "@jupyter-widgets/base",
      "_model_module_version": "1.2.0",
      "_model_name": "LayoutModel",
      "_view_count": null,
      "_view_module": "@jupyter-widgets/base",
      "_view_module_version": "1.2.0",
      "_view_name": "LayoutView",
      "align_content": null,
      "align_items": null,
      "align_self": null,
      "border": null,
      "bottom": null,
      "display": null,
      "flex": null,
      "flex_flow": null,
      "grid_area": null,
      "grid_auto_columns": null,
      "grid_auto_flow": null,
      "grid_auto_rows": null,
      "grid_column": null,
      "grid_gap": null,
      "grid_row": null,
      "grid_template_areas": null,
      "grid_template_columns": null,
      "grid_template_rows": null,
      "height": null,
      "justify_content": null,
      "justify_items": null,
      "left": null,
      "margin": null,
      "max_height": null,
      "max_width": null,
      "min_height": null,
      "min_width": null,
      "object_fit": null,
      "object_position": null,
      "order": null,
      "overflow": null,
      "overflow_x": null,
      "overflow_y": null,
      "padding": null,
      "right": null,
      "top": null,
      "visibility": null,
      "width": null
     }
    },
    "43b3e7ac9eaf40bca3b1302980f3db45": {
     "model_module": "@jupyter-widgets/controls",
     "model_module_version": "1.5.0",
     "model_name": "HTMLModel",
     "state": {
      "_dom_classes": [],
      "_model_module": "@jupyter-widgets/controls",
      "_model_module_version": "1.5.0",
      "_model_name": "HTMLModel",
      "_view_count": null,
      "_view_module": "@jupyter-widgets/controls",
      "_view_module_version": "1.5.0",
      "_view_name": "HTMLView",
      "description": "",
      "description_tooltip": null,
      "layout": "IPY_MODEL_67b4d4a0d8bf470281dd2462899e7222",
      "placeholder": "​",
      "style": "IPY_MODEL_68396abd08544f00b93c85951eb99989",
      "value": "100%"
     }
    },
    "50c569c285064514afd0a2d41fc646e5": {
     "model_module": "@jupyter-widgets/controls",
     "model_module_version": "1.5.0",
     "model_name": "HTMLModel",
     "state": {
      "_dom_classes": [],
      "_model_module": "@jupyter-widgets/controls",
      "_model_module_version": "1.5.0",
      "_model_name": "HTMLModel",
      "_view_count": null,
      "_view_module": "@jupyter-widgets/controls",
      "_view_module_version": "1.5.0",
      "_view_name": "HTMLView",
      "description": "",
      "description_tooltip": null,
      "layout": "IPY_MODEL_d6e7d1c58b3444e0930be3b4700f6efe",
      "placeholder": "​",
      "style": "IPY_MODEL_97b367c8ccb943fb83371a8e3911eb0f",
      "value": "Done! Use &#x27;show&#x27; commands to display/save.   "
     }
    },
    "517d609291104009b5e70faed5882599": {
     "model_module": "@jupyter-widgets/controls",
     "model_module_version": "1.5.0",
     "model_name": "ProgressStyleModel",
     "state": {
      "_model_module": "@jupyter-widgets/controls",
      "_model_module_version": "1.5.0",
      "_model_name": "ProgressStyleModel",
      "_view_count": null,
      "_view_module": "@jupyter-widgets/base",
      "_view_module_version": "1.2.0",
      "_view_name": "StyleView",
      "bar_color": null,
      "description_width": ""
     }
    },
    "6051d9d6f1d24ff7b9bb0b5175907b70": {
     "model_module": "@jupyter-widgets/base",
     "model_module_version": "1.2.0",
     "model_name": "LayoutModel",
     "state": {
      "_model_module": "@jupyter-widgets/base",
      "_model_module_version": "1.2.0",
      "_model_name": "LayoutModel",
      "_view_count": null,
      "_view_module": "@jupyter-widgets/base",
      "_view_module_version": "1.2.0",
      "_view_name": "LayoutView",
      "align_content": null,
      "align_items": null,
      "align_self": null,
      "border": null,
      "bottom": null,
      "display": null,
      "flex": null,
      "flex_flow": null,
      "grid_area": null,
      "grid_auto_columns": null,
      "grid_auto_flow": null,
      "grid_auto_rows": null,
      "grid_column": null,
      "grid_gap": null,
      "grid_row": null,
      "grid_template_areas": null,
      "grid_template_columns": null,
      "grid_template_rows": null,
      "height": null,
      "justify_content": null,
      "justify_items": null,
      "left": null,
      "margin": null,
      "max_height": null,
      "max_width": null,
      "min_height": null,
      "min_width": null,
      "object_fit": null,
      "object_position": null,
      "order": null,
      "overflow": null,
      "overflow_x": null,
      "overflow_y": null,
      "padding": null,
      "right": null,
      "top": null,
      "visibility": null,
      "width": null
     }
    },
    "67b4d4a0d8bf470281dd2462899e7222": {
     "model_module": "@jupyter-widgets/base",
     "model_module_version": "1.2.0",
     "model_name": "LayoutModel",
     "state": {
      "_model_module": "@jupyter-widgets/base",
      "_model_module_version": "1.2.0",
      "_model_name": "LayoutModel",
      "_view_count": null,
      "_view_module": "@jupyter-widgets/base",
      "_view_module_version": "1.2.0",
      "_view_name": "LayoutView",
      "align_content": null,
      "align_items": null,
      "align_self": null,
      "border": null,
      "bottom": null,
      "display": null,
      "flex": null,
      "flex_flow": null,
      "grid_area": null,
      "grid_auto_columns": null,
      "grid_auto_flow": null,
      "grid_auto_rows": null,
      "grid_column": null,
      "grid_gap": null,
      "grid_row": null,
      "grid_template_areas": null,
      "grid_template_columns": null,
      "grid_template_rows": null,
      "height": null,
      "justify_content": null,
      "justify_items": null,
      "left": null,
      "margin": null,
      "max_height": null,
      "max_width": null,
      "min_height": null,
      "min_width": null,
      "object_fit": null,
      "object_position": null,
      "order": null,
      "overflow": null,
      "overflow_x": null,
      "overflow_y": null,
      "padding": null,
      "right": null,
      "top": null,
      "visibility": null,
      "width": null
     }
    },
    "68396abd08544f00b93c85951eb99989": {
     "model_module": "@jupyter-widgets/controls",
     "model_module_version": "1.5.0",
     "model_name": "DescriptionStyleModel",
     "state": {
      "_model_module": "@jupyter-widgets/controls",
      "_model_module_version": "1.5.0",
      "_model_name": "DescriptionStyleModel",
      "_view_count": null,
      "_view_module": "@jupyter-widgets/base",
      "_view_module_version": "1.2.0",
      "_view_name": "StyleView",
      "description_width": ""
     }
    },
    "702d34dc4608488b98800ec6cf4bd403": {
     "model_module": "@jupyter-widgets/controls",
     "model_module_version": "1.5.0",
     "model_name": "DescriptionStyleModel",
     "state": {
      "_model_module": "@jupyter-widgets/controls",
      "_model_module_version": "1.5.0",
      "_model_name": "DescriptionStyleModel",
      "_view_count": null,
      "_view_module": "@jupyter-widgets/base",
      "_view_module_version": "1.2.0",
      "_view_name": "StyleView",
      "description_width": ""
     }
    },
    "7a1171b993624e9b8627273f833dbe9b": {
     "model_module": "@jupyter-widgets/controls",
     "model_module_version": "1.5.0",
     "model_name": "HTMLModel",
     "state": {
      "_dom_classes": [],
      "_model_module": "@jupyter-widgets/controls",
      "_model_module_version": "1.5.0",
      "_model_name": "HTMLModel",
      "_view_count": null,
      "_view_module": "@jupyter-widgets/controls",
      "_view_module_version": "1.5.0",
      "_view_name": "HTMLView",
      "description": "",
      "description_tooltip": null,
      "layout": "IPY_MODEL_9814b35f7161453aa419e7d81c9d4e8f",
      "placeholder": "​",
      "style": "IPY_MODEL_702d34dc4608488b98800ec6cf4bd403",
      "value": " 5/5 [00:00&lt;00:00, 24.17it/s]"
     }
    },
    "8228de28b97944398951dc93b72c04d6": {
     "model_module": "@jupyter-widgets/controls",
     "model_module_version": "1.5.0",
     "model_name": "HBoxModel",
     "state": {
      "_dom_classes": [],
      "_model_module": "@jupyter-widgets/controls",
      "_model_module_version": "1.5.0",
      "_model_name": "HBoxModel",
      "_view_count": null,
      "_view_module": "@jupyter-widgets/controls",
      "_view_module_version": "1.5.0",
      "_view_name": "HBoxView",
      "box_style": "",
      "children": [
       "IPY_MODEL_50c569c285064514afd0a2d41fc646e5",
       "IPY_MODEL_00c3f086158a45feb31a1e4a8996dcaf",
       "IPY_MODEL_adb25667150244a7a97c5d9e42220972"
      ],
      "layout": "IPY_MODEL_d1697632050840bab67228e25078fceb"
     }
    },
    "8637f8a8ced34f91bb079b44fe743118": {
     "model_module": "@jupyter-widgets/base",
     "model_module_version": "1.2.0",
     "model_name": "LayoutModel",
     "state": {
      "_model_module": "@jupyter-widgets/base",
      "_model_module_version": "1.2.0",
      "_model_name": "LayoutModel",
      "_view_count": null,
      "_view_module": "@jupyter-widgets/base",
      "_view_module_version": "1.2.0",
      "_view_name": "LayoutView",
      "align_content": null,
      "align_items": null,
      "align_self": null,
      "border": null,
      "bottom": null,
      "display": null,
      "flex": "2",
      "flex_flow": null,
      "grid_area": null,
      "grid_auto_columns": null,
      "grid_auto_flow": null,
      "grid_auto_rows": null,
      "grid_column": null,
      "grid_gap": null,
      "grid_row": null,
      "grid_template_areas": null,
      "grid_template_columns": null,
      "grid_template_rows": null,
      "height": null,
      "justify_content": null,
      "justify_items": null,
      "left": null,
      "margin": null,
      "max_height": null,
      "max_width": null,
      "min_height": null,
      "min_width": null,
      "object_fit": null,
      "object_position": null,
      "order": null,
      "overflow": null,
      "overflow_x": null,
      "overflow_y": null,
      "padding": null,
      "right": null,
      "top": null,
      "visibility": null,
      "width": null
     }
    },
    "8afc20954d0749d2849e1c3003849742": {
     "model_module": "@jupyter-widgets/controls",
     "model_module_version": "1.5.0",
     "model_name": "DescriptionStyleModel",
     "state": {
      "_model_module": "@jupyter-widgets/controls",
      "_model_module_version": "1.5.0",
      "_model_name": "DescriptionStyleModel",
      "_view_count": null,
      "_view_module": "@jupyter-widgets/base",
      "_view_module_version": "1.2.0",
      "_view_name": "StyleView",
      "description_width": ""
     }
    },
    "97b367c8ccb943fb83371a8e3911eb0f": {
     "model_module": "@jupyter-widgets/controls",
     "model_module_version": "1.5.0",
     "model_name": "DescriptionStyleModel",
     "state": {
      "_model_module": "@jupyter-widgets/controls",
      "_model_module_version": "1.5.0",
      "_model_name": "DescriptionStyleModel",
      "_view_count": null,
      "_view_module": "@jupyter-widgets/base",
      "_view_module_version": "1.2.0",
      "_view_name": "StyleView",
      "description_width": ""
     }
    },
    "9814b35f7161453aa419e7d81c9d4e8f": {
     "model_module": "@jupyter-widgets/base",
     "model_module_version": "1.2.0",
     "model_name": "LayoutModel",
     "state": {
      "_model_module": "@jupyter-widgets/base",
      "_model_module_version": "1.2.0",
      "_model_name": "LayoutModel",
      "_view_count": null,
      "_view_module": "@jupyter-widgets/base",
      "_view_module_version": "1.2.0",
      "_view_name": "LayoutView",
      "align_content": null,
      "align_items": null,
      "align_self": null,
      "border": null,
      "bottom": null,
      "display": null,
      "flex": null,
      "flex_flow": null,
      "grid_area": null,
      "grid_auto_columns": null,
      "grid_auto_flow": null,
      "grid_auto_rows": null,
      "grid_column": null,
      "grid_gap": null,
      "grid_row": null,
      "grid_template_areas": null,
      "grid_template_columns": null,
      "grid_template_rows": null,
      "height": null,
      "justify_content": null,
      "justify_items": null,
      "left": null,
      "margin": null,
      "max_height": null,
      "max_width": null,
      "min_height": null,
      "min_width": null,
      "object_fit": null,
      "object_position": null,
      "order": null,
      "overflow": null,
      "overflow_x": null,
      "overflow_y": null,
      "padding": null,
      "right": null,
      "top": null,
      "visibility": null,
      "width": null
     }
    },
    "a39dcd9fea134075b6149d927984302c": {
     "model_module": "@jupyter-widgets/controls",
     "model_module_version": "1.5.0",
     "model_name": "DescriptionStyleModel",
     "state": {
      "_model_module": "@jupyter-widgets/controls",
      "_model_module_version": "1.5.0",
      "_model_name": "DescriptionStyleModel",
      "_view_count": null,
      "_view_module": "@jupyter-widgets/base",
      "_view_module_version": "1.2.0",
      "_view_name": "StyleView",
      "description_width": ""
     }
    },
    "adb25667150244a7a97c5d9e42220972": {
     "model_module": "@jupyter-widgets/controls",
     "model_module_version": "1.5.0",
     "model_name": "HTMLModel",
     "state": {
      "_dom_classes": [],
      "_model_module": "@jupyter-widgets/controls",
      "_model_module_version": "1.5.0",
      "_model_name": "HTMLModel",
      "_view_count": null,
      "_view_module": "@jupyter-widgets/controls",
      "_view_module_version": "1.5.0",
      "_view_name": "HTMLView",
      "description": "",
      "description_tooltip": null,
      "layout": "IPY_MODEL_b50d4e124a5545a6a327eeef403c821e",
      "placeholder": "​",
      "style": "IPY_MODEL_bfea0a14666143db933a67f8a64dd2b7",
      "value": " [100%]   00:02 -&gt; (00:00 left)"
     }
    },
    "b50d4e124a5545a6a327eeef403c821e": {
     "model_module": "@jupyter-widgets/base",
     "model_module_version": "1.2.0",
     "model_name": "LayoutModel",
     "state": {
      "_model_module": "@jupyter-widgets/base",
      "_model_module_version": "1.2.0",
      "_model_name": "LayoutModel",
      "_view_count": null,
      "_view_module": "@jupyter-widgets/base",
      "_view_module_version": "1.2.0",
      "_view_name": "LayoutView",
      "align_content": null,
      "align_items": null,
      "align_self": null,
      "border": null,
      "bottom": null,
      "display": null,
      "flex": null,
      "flex_flow": null,
      "grid_area": null,
      "grid_auto_columns": null,
      "grid_auto_flow": null,
      "grid_auto_rows": null,
      "grid_column": null,
      "grid_gap": null,
      "grid_row": null,
      "grid_template_areas": null,
      "grid_template_columns": null,
      "grid_template_rows": null,
      "height": null,
      "justify_content": null,
      "justify_items": null,
      "left": null,
      "margin": null,
      "max_height": null,
      "max_width": null,
      "min_height": null,
      "min_width": null,
      "object_fit": null,
      "object_position": null,
      "order": null,
      "overflow": null,
      "overflow_x": null,
      "overflow_y": null,
      "padding": null,
      "right": null,
      "top": null,
      "visibility": null,
      "width": null
     }
    },
    "b6a50889ae3a4e60a01f7f040c695dda": {
     "model_module": "@jupyter-widgets/controls",
     "model_module_version": "1.5.0",
     "model_name": "HBoxModel",
     "state": {
      "_dom_classes": [],
      "_model_module": "@jupyter-widgets/controls",
      "_model_module_version": "1.5.0",
      "_model_name": "HBoxModel",
      "_view_count": null,
      "_view_module": "@jupyter-widgets/controls",
      "_view_module_version": "1.5.0",
      "_view_name": "HBoxView",
      "box_style": "",
      "children": [
       "IPY_MODEL_43b3e7ac9eaf40bca3b1302980f3db45",
       "IPY_MODEL_becb0ffcfb6e4b97a7ff72c859ae4d4f",
       "IPY_MODEL_7a1171b993624e9b8627273f833dbe9b"
      ],
      "layout": "IPY_MODEL_6051d9d6f1d24ff7b9bb0b5175907b70"
     }
    },
    "becb0ffcfb6e4b97a7ff72c859ae4d4f": {
     "model_module": "@jupyter-widgets/controls",
     "model_module_version": "1.5.0",
     "model_name": "FloatProgressModel",
     "state": {
      "_dom_classes": [],
      "_model_module": "@jupyter-widgets/controls",
      "_model_module_version": "1.5.0",
      "_model_name": "FloatProgressModel",
      "_view_count": null,
      "_view_module": "@jupyter-widgets/controls",
      "_view_module_version": "1.5.0",
      "_view_name": "ProgressView",
      "bar_style": "success",
      "description": "",
      "description_tooltip": null,
      "layout": "IPY_MODEL_0c5812562a19417faa723df5f145eaea",
      "max": 5,
      "min": 0,
      "orientation": "horizontal",
      "style": "IPY_MODEL_517d609291104009b5e70faed5882599",
      "value": 5
     }
    },
    "bfea0a14666143db933a67f8a64dd2b7": {
     "model_module": "@jupyter-widgets/controls",
     "model_module_version": "1.5.0",
     "model_name": "DescriptionStyleModel",
     "state": {
      "_model_module": "@jupyter-widgets/controls",
      "_model_module_version": "1.5.0",
      "_model_name": "DescriptionStyleModel",
      "_view_count": null,
      "_view_module": "@jupyter-widgets/base",
      "_view_module_version": "1.2.0",
      "_view_name": "StyleView",
      "description_width": ""
     }
    },
    "d1697632050840bab67228e25078fceb": {
     "model_module": "@jupyter-widgets/base",
     "model_module_version": "1.2.0",
     "model_name": "LayoutModel",
     "state": {
      "_model_module": "@jupyter-widgets/base",
      "_model_module_version": "1.2.0",
      "_model_name": "LayoutModel",
      "_view_count": null,
      "_view_module": "@jupyter-widgets/base",
      "_view_module_version": "1.2.0",
      "_view_name": "LayoutView",
      "align_content": null,
      "align_items": null,
      "align_self": null,
      "border": null,
      "bottom": null,
      "display": "inline-flex",
      "flex": null,
      "flex_flow": "row wrap",
      "grid_area": null,
      "grid_auto_columns": null,
      "grid_auto_flow": null,
      "grid_auto_rows": null,
      "grid_column": null,
      "grid_gap": null,
      "grid_row": null,
      "grid_template_areas": null,
      "grid_template_columns": null,
      "grid_template_rows": null,
      "height": null,
      "justify_content": null,
      "justify_items": null,
      "left": null,
      "margin": null,
      "max_height": null,
      "max_width": null,
      "min_height": null,
      "min_width": null,
      "object_fit": null,
      "object_position": null,
      "order": null,
      "overflow": null,
      "overflow_x": null,
      "overflow_y": null,
      "padding": null,
      "right": null,
      "top": null,
      "visibility": null,
      "width": "100%"
     }
    },
    "d23f96e754ac49adacd03c23880f007a": {
     "model_module": "@jupyter-widgets/controls",
     "model_module_version": "1.5.0",
     "model_name": "HBoxModel",
     "state": {
      "_dom_classes": [],
      "_model_module": "@jupyter-widgets/controls",
      "_model_module_version": "1.5.0",
      "_model_name": "HBoxModel",
      "_view_count": null,
      "_view_module": "@jupyter-widgets/controls",
      "_view_module_version": "1.5.0",
      "_view_name": "HBoxView",
      "box_style": "",
      "children": [
       "IPY_MODEL_08e77dc6747a42f187ee1a46901ad484",
       "IPY_MODEL_1f9ab18d01874bd0bf78286ba8896631",
       "IPY_MODEL_fb56759a010f4b8f9d2940feb9440cb5"
      ],
      "layout": "IPY_MODEL_d412404f7d2443bfaddc932082c5b89f"
     }
    },
    "d412404f7d2443bfaddc932082c5b89f": {
     "model_module": "@jupyter-widgets/base",
     "model_module_version": "1.2.0",
     "model_name": "LayoutModel",
     "state": {
      "_model_module": "@jupyter-widgets/base",
      "_model_module_version": "1.2.0",
      "_model_name": "LayoutModel",
      "_view_count": null,
      "_view_module": "@jupyter-widgets/base",
      "_view_module_version": "1.2.0",
      "_view_name": "LayoutView",
      "align_content": null,
      "align_items": null,
      "align_self": null,
      "border": null,
      "bottom": null,
      "display": "inline-flex",
      "flex": null,
      "flex_flow": "row wrap",
      "grid_area": null,
      "grid_auto_columns": null,
      "grid_auto_flow": null,
      "grid_auto_rows": null,
      "grid_column": null,
      "grid_gap": null,
      "grid_row": null,
      "grid_template_areas": null,
      "grid_template_columns": null,
      "grid_template_rows": null,
      "height": null,
      "justify_content": null,
      "justify_items": null,
      "left": null,
      "margin": null,
      "max_height": null,
      "max_width": null,
      "min_height": null,
      "min_width": null,
      "object_fit": null,
      "object_position": null,
      "order": null,
      "overflow": null,
      "overflow_x": null,
      "overflow_y": null,
      "padding": null,
      "right": null,
      "top": null,
      "visibility": null,
      "width": "100%"
     }
    },
    "d6e7d1c58b3444e0930be3b4700f6efe": {
     "model_module": "@jupyter-widgets/base",
     "model_module_version": "1.2.0",
     "model_name": "LayoutModel",
     "state": {
      "_model_module": "@jupyter-widgets/base",
      "_model_module_version": "1.2.0",
      "_model_name": "LayoutModel",
      "_view_count": null,
      "_view_module": "@jupyter-widgets/base",
      "_view_module_version": "1.2.0",
      "_view_name": "LayoutView",
      "align_content": null,
      "align_items": null,
      "align_self": null,
      "border": null,
      "bottom": null,
      "display": null,
      "flex": null,
      "flex_flow": null,
      "grid_area": null,
      "grid_auto_columns": null,
      "grid_auto_flow": null,
      "grid_auto_rows": null,
      "grid_column": null,
      "grid_gap": null,
      "grid_row": null,
      "grid_template_areas": null,
      "grid_template_columns": null,
      "grid_template_rows": null,
      "height": null,
      "justify_content": null,
      "justify_items": null,
      "left": null,
      "margin": null,
      "max_height": null,
      "max_width": null,
      "min_height": null,
      "min_width": null,
      "object_fit": null,
      "object_position": null,
      "order": null,
      "overflow": null,
      "overflow_x": null,
      "overflow_y": null,
      "padding": null,
      "right": null,
      "top": null,
      "visibility": null,
      "width": null
     }
    },
    "f7c55c0a9a93476f923d3e0f00f102d7": {
     "model_module": "@jupyter-widgets/base",
     "model_module_version": "1.2.0",
     "model_name": "LayoutModel",
     "state": {
      "_model_module": "@jupyter-widgets/base",
      "_model_module_version": "1.2.0",
      "_model_name": "LayoutModel",
      "_view_count": null,
      "_view_module": "@jupyter-widgets/base",
      "_view_module_version": "1.2.0",
      "_view_name": "LayoutView",
      "align_content": null,
      "align_items": null,
      "align_self": null,
      "border": null,
      "bottom": null,
      "display": null,
      "flex": "2",
      "flex_flow": null,
      "grid_area": null,
      "grid_auto_columns": null,
      "grid_auto_flow": null,
      "grid_auto_rows": null,
      "grid_column": null,
      "grid_gap": null,
      "grid_row": null,
      "grid_template_areas": null,
      "grid_template_columns": null,
      "grid_template_rows": null,
      "height": null,
      "justify_content": null,
      "justify_items": null,
      "left": null,
      "margin": null,
      "max_height": null,
      "max_width": null,
      "min_height": null,
      "min_width": null,
      "object_fit": null,
      "object_position": null,
      "order": null,
      "overflow": null,
      "overflow_x": null,
      "overflow_y": null,
      "padding": null,
      "right": null,
      "top": null,
      "visibility": null,
      "width": null
     }
    },
    "f9dc8b7f34bb446193ac06a08985743e": {
     "model_module": "@jupyter-widgets/controls",
     "model_module_version": "1.5.0",
     "model_name": "ProgressStyleModel",
     "state": {
      "_model_module": "@jupyter-widgets/controls",
      "_model_module_version": "1.5.0",
      "_model_name": "ProgressStyleModel",
      "_view_count": null,
      "_view_module": "@jupyter-widgets/base",
      "_view_module_version": "1.2.0",
      "_view_name": "StyleView",
      "bar_color": null,
      "description_width": ""
     }
    },
    "fb56759a010f4b8f9d2940feb9440cb5": {
     "model_module": "@jupyter-widgets/controls",
     "model_module_version": "1.5.0",
     "model_name": "HTMLModel",
     "state": {
      "_dom_classes": [],
      "_model_module": "@jupyter-widgets/controls",
      "_model_module_version": "1.5.0",
      "_model_name": "HTMLModel",
      "_view_count": null,
      "_view_module": "@jupyter-widgets/controls",
      "_view_module_version": "1.5.0",
      "_view_name": "HTMLView",
      "description": "",
      "description_tooltip": null,
      "layout": "IPY_MODEL_38919abf35994df5a3d8a6026c15f450",
      "placeholder": "​",
      "style": "IPY_MODEL_8afc20954d0749d2849e1c3003849742",
      "value": " [100%]   00:01 -&gt; (00:00 left)"
     }
    }
   }
  }
 },
 "nbformat": 4,
 "nbformat_minor": 4
}
